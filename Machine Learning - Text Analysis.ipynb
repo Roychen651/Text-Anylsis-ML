{
 "cells": [
  {
   "cell_type": "markdown",
   "metadata": {},
   "source": [
    "## Preceding Step - import modules (packages)\n",
    "This step is necessary in order to use external modules (packages). <br/>"
   ]
  },
  {
   "cell_type": "code",
   "execution_count": 23,
   "metadata": {},
   "outputs": [],
   "source": [
    "# --------------------------------------\n",
    "import pandas as pd\n",
    "import numpy as np\n",
    "# --------------------------------------\n",
    "\n",
    "\n",
    "# --------------------------------------\n",
    "# ------------- visualizations:\n",
    "import seaborn as sns\n",
    "import matplotlib.pyplot as plt\n",
    "from matplotlib.colors import ListedColormap\n",
    "# --------------------------------------\n",
    "\n",
    "\n",
    "# ---------------------------------------\n",
    "import sklearn\n",
    "from sklearn import preprocessing, metrics, pipeline, model_selection, feature_extraction \n",
    "from sklearn import naive_bayes, linear_model, svm, neural_network, neighbors, tree\n",
    "from sklearn import decomposition, cluster\n",
    "\n",
    "from sklearn.model_selection import train_test_split, cross_val_score, GridSearchCV \n",
    "from sklearn.pipeline import Pipeline\n",
    "from sklearn.metrics import accuracy_score, confusion_matrix, make_scorer\n",
    "from sklearn.metrics import precision_score, recall_score, f1_score\n",
    "from sklearn.metrics import mean_squared_error, r2_score, silhouette_score\n",
    "from sklearn.preprocessing import MinMaxScaler, StandardScaler, LabelEncoder\n",
    "\n",
    "from sklearn.svm import LinearSVC\n",
    "from sklearn.linear_model import LinearRegression\n",
    "from sklearn.neural_network import MLPClassifier\n",
    "from sklearn.linear_model import Perceptron, SGDClassifier\n",
    "from sklearn.decomposition import PCA\n",
    "from sklearn.cluster import KMeans\n",
    "from sklearn.naive_bayes import MultinomialNB, GaussianNB\n",
    "from sklearn.neighbors import KNeighborsClassifier\n",
    "from sklearn.tree import DecisionTreeClassifier\n",
    "# ---------------------------------------\n",
    "\n",
    "\n",
    "# ----------------- output and visualizations: \n",
    "import warnings\n",
    "from sklearn import set_config\n",
    "from sklearn.exceptions import ConvergenceWarning\n",
    "warnings.simplefilter(\"ignore\")\n",
    "warnings.simplefilter(action='ignore', category=FutureWarning)\n",
    "warnings.simplefilter(\"ignore\", category=ConvergenceWarning)\n",
    "# show several prints in one cell. This will allow us to condence every trick in one cell.\n",
    "from IPython.core.interactiveshell import InteractiveShell\n",
    "InteractiveShell.ast_node_interactivity = \"all\"\n",
    "%matplotlib inline\n",
    "pd.pandas.set_option('display.max_columns', None)\n",
    "pd.set_option('display.float_format', lambda x: '%.3f' % x)\n",
    "# ---------------------------------------"
   ]
  },
  {
   "cell_type": "markdown",
   "metadata": {},
   "source": [
    "### Text analysis and String manipulation imports:"
   ]
  },
  {
   "cell_type": "code",
   "execution_count": 6,
   "metadata": {},
   "outputs": [],
   "source": [
    "# --------------------------------------\n",
    "# --------- Text analysis and Hebrew text analysis imports:\n",
    "# vectorizers:\n",
    "from sklearn.feature_extraction import text\n",
    "from sklearn.feature_extraction.text import CountVectorizer, TfidfVectorizer\n",
    "\n",
    "# regular expressions:\n",
    "import re\n",
    "# --------------------------------------"
   ]
  },
  {
   "cell_type": "markdown",
   "metadata": {},
   "source": [
    "### (optional) Hebrew text analysis - WordNet (for Hebrew)\n",
    "Note: the WordNet is not a must"
   ]
  },
  {
   "cell_type": "markdown",
   "metadata": {},
   "source": [
    "#### (optional) Only if you didn't install Wordnet (for Hebrew) use:"
   ]
  },
  {
   "cell_type": "code",
   "execution_count": 7,
   "metadata": {},
   "outputs": [],
   "source": [
    "# word net installation:\n",
    "\n",
    "# unmark if you want to use and need to install\n",
    "# !pip install wn\n",
    "# !python -m wn download omw-he:1.4"
   ]
  },
  {
   "cell_type": "code",
   "execution_count": 8,
   "metadata": {},
   "outputs": [],
   "source": [
    "# word net import:\n",
    "\n",
    "# unmark if you want to use:\n",
    "# import wn"
   ]
  },
  {
   "cell_type": "markdown",
   "metadata": {},
   "source": [
    "### (optional) Hebrew text analysis - hebrew_tokenizer (Tokenizer for Hebrew)\n",
    "Note: the hebrew_tokenizer is not a must"
   ]
  },
  {
   "cell_type": "markdown",
   "metadata": {},
   "source": [
    "#### (optional) Only if you didn't install hebrew_tokenizer use:"
   ]
  },
  {
   "cell_type": "code",
   "execution_count": 9,
   "metadata": {},
   "outputs": [],
   "source": [
    "# Hebrew tokenizer installation:\n",
    "\n",
    "# unmark if you want to use and need to install:\n",
    "# !pip install hebrew_tokenizer"
   ]
  },
  {
   "cell_type": "code",
   "execution_count": 10,
   "metadata": {},
   "outputs": [
    {
     "name": "stdout",
     "output_type": "stream",
     "text": [
      "C:\\Users\\roych\\OneDrive\\שולחן העבודה\\Text Anylsis 2\\assignment3-text_analysis\n"
     ]
    }
   ],
   "source": [
    "# Hebrew tokenizer import:\n",
    "\n",
    "# unmark if you want to use:\n",
    "import hebrew_tokenizer as ht"
   ]
  },
  {
   "cell_type": "markdown",
   "metadata": {},
   "source": [
    "### Reading input files\n",
    "Reading input files for train annotated corpus (raw text data) corpus and for the test corpus"
   ]
  },
  {
   "cell_type": "code",
   "execution_count": 11,
   "metadata": {},
   "outputs": [],
   "source": [
    "train_filename = 'annotated_corpus_for_train.csv'\n",
    "test_filename  = 'corpus_for_test.csv'\n",
    "df_train = pd.read_csv(train_filename, index_col=None, encoding='utf-8')\n",
    "df_test  = pd.read_csv(test_filename, index_col=None, encoding='utf-8')"
   ]
  },
  {
   "cell_type": "code",
   "execution_count": 12,
   "metadata": {},
   "outputs": [
    {
     "data": {
      "text/html": [
       "<div>\n",
       "<style scoped>\n",
       "    .dataframe tbody tr th:only-of-type {\n",
       "        vertical-align: middle;\n",
       "    }\n",
       "\n",
       "    .dataframe tbody tr th {\n",
       "        vertical-align: top;\n",
       "    }\n",
       "\n",
       "    .dataframe thead th {\n",
       "        text-align: right;\n",
       "    }\n",
       "</style>\n",
       "<table border=\"1\" class=\"dataframe\">\n",
       "  <thead>\n",
       "    <tr style=\"text-align: right;\">\n",
       "      <th></th>\n",
       "      <th>story</th>\n",
       "      <th>gender</th>\n",
       "    </tr>\n",
       "  </thead>\n",
       "  <tbody>\n",
       "    <tr>\n",
       "      <th>0</th>\n",
       "      <td>כשחבר הזמין אותי לחול, לא באמת חשבתי שזה יקרה,...</td>\n",
       "      <td>m</td>\n",
       "    </tr>\n",
       "    <tr>\n",
       "      <th>1</th>\n",
       "      <td>לפני שהתגייסתי לצבא עשיתי כל מני מיונים ליחידו...</td>\n",
       "      <td>m</td>\n",
       "    </tr>\n",
       "    <tr>\n",
       "      <th>2</th>\n",
       "      <td>מאז שהתחילו הלימודים חלומו של כל סטודנט זה הפנ...</td>\n",
       "      <td>f</td>\n",
       "    </tr>\n",
       "    <tr>\n",
       "      <th>3</th>\n",
       "      <td>כשהייתי ילד, מטוסים היה הדבר שהכי ריתק אותי. ב...</td>\n",
       "      <td>m</td>\n",
       "    </tr>\n",
       "    <tr>\n",
       "      <th>4</th>\n",
       "      <td>‏הייתי מדריכה בכפר נוער ומתאם הכפר היינו צריכי...</td>\n",
       "      <td>f</td>\n",
       "    </tr>\n",
       "    <tr>\n",
       "      <th>5</th>\n",
       "      <td>לפני כ3 חודשים טסתי לרומא למשך שבוע. טסתי במטו...</td>\n",
       "      <td>f</td>\n",
       "    </tr>\n",
       "    <tr>\n",
       "      <th>6</th>\n",
       "      <td>אני כבר שנתיים נשוי והשנה אני ואישתי סוף סוף י...</td>\n",
       "      <td>m</td>\n",
       "    </tr>\n",
       "    <tr>\n",
       "      <th>7</th>\n",
       "      <td>השנה התחלנו שיפוץ בדירה שלנו בתל אביב. הדירה ה...</td>\n",
       "      <td>f</td>\n",
       "    </tr>\n",
       "  </tbody>\n",
       "</table>\n",
       "</div>"
      ],
      "text/plain": [
       "                                               story gender\n",
       "0  כשחבר הזמין אותי לחול, לא באמת חשבתי שזה יקרה,...      m\n",
       "1  לפני שהתגייסתי לצבא עשיתי כל מני מיונים ליחידו...      m\n",
       "2  מאז שהתחילו הלימודים חלומו של כל סטודנט זה הפנ...      f\n",
       "3  כשהייתי ילד, מטוסים היה הדבר שהכי ריתק אותי. ב...      m\n",
       "4  ‏הייתי מדריכה בכפר נוער ומתאם הכפר היינו צריכי...      f\n",
       "5  לפני כ3 חודשים טסתי לרומא למשך שבוע. טסתי במטו...      f\n",
       "6  אני כבר שנתיים נשוי והשנה אני ואישתי סוף סוף י...      m\n",
       "7  השנה התחלנו שיפוץ בדירה שלנו בתל אביב. הדירה ה...      f"
      ]
     },
     "execution_count": 12,
     "metadata": {},
     "output_type": "execute_result"
    },
    {
     "data": {
      "text/plain": [
       "(753, 2)"
      ]
     },
     "execution_count": 12,
     "metadata": {},
     "output_type": "execute_result"
    }
   ],
   "source": [
    "df_train.head(8)\n",
    "df_train.shape"
   ]
  },
  {
   "cell_type": "code",
   "execution_count": 13,
   "metadata": {},
   "outputs": [
    {
     "data": {
      "text/html": [
       "<div>\n",
       "<style scoped>\n",
       "    .dataframe tbody tr th:only-of-type {\n",
       "        vertical-align: middle;\n",
       "    }\n",
       "\n",
       "    .dataframe tbody tr th {\n",
       "        vertical-align: top;\n",
       "    }\n",
       "\n",
       "    .dataframe thead th {\n",
       "        text-align: right;\n",
       "    }\n",
       "</style>\n",
       "<table border=\"1\" class=\"dataframe\">\n",
       "  <thead>\n",
       "    <tr style=\"text-align: right;\">\n",
       "      <th></th>\n",
       "      <th>test_example_id</th>\n",
       "      <th>story</th>\n",
       "    </tr>\n",
       "  </thead>\n",
       "  <tbody>\n",
       "    <tr>\n",
       "      <th>0</th>\n",
       "      <td>0</td>\n",
       "      <td>כל קיץ אני והמשפחה נוסעים לארצות הברית לוס אנג...</td>\n",
       "    </tr>\n",
       "    <tr>\n",
       "      <th>1</th>\n",
       "      <td>1</td>\n",
       "      <td>הגעתי לשירות המדינה אחרי שנתיים כפעיל בתנועת \"...</td>\n",
       "    </tr>\n",
       "    <tr>\n",
       "      <th>2</th>\n",
       "      <td>2</td>\n",
       "      <td>אחת האהבות הגדולות שלי אלו הכלבים שלי ושל אישת...</td>\n",
       "    </tr>\n",
       "  </tbody>\n",
       "</table>\n",
       "</div>"
      ],
      "text/plain": [
       "   test_example_id                                              story\n",
       "0                0  כל קיץ אני והמשפחה נוסעים לארצות הברית לוס אנג...\n",
       "1                1  הגעתי לשירות המדינה אחרי שנתיים כפעיל בתנועת \"...\n",
       "2                2  אחת האהבות הגדולות שלי אלו הכלבים שלי ושל אישת..."
      ]
     },
     "execution_count": 13,
     "metadata": {},
     "output_type": "execute_result"
    },
    {
     "data": {
      "text/plain": [
       "(323, 2)"
      ]
     },
     "execution_count": 13,
     "metadata": {},
     "output_type": "execute_result"
    }
   ],
   "source": [
    "df_test.head(3)\n",
    "df_test.shape"
   ]
  },
  {
   "attachments": {},
   "cell_type": "markdown",
   "metadata": {},
   "source": [
    "<div style=\"background-color: black; padding: 10px; text-align: center;\">\n",
    "    <font face=\"Fugaz One\" size=6 color='#999999'>Pre Processing.</font>    \n",
    "</div>\n"
   ]
  },
  {
   "cell_type": "markdown",
   "metadata": {},
   "source": [
    "<div style=\"background-color: lightblue; padding: 10px;\">\n",
    "<font face=\"Fugaz One\" size=3 color='#00000'>This function takes Hebrew text as input, tokenizes it, <br/></font>    \n",
    "<font face=\"Fugaz One\" size=3 color='#00000'>and extracts Hebrew tokens, creating a list of those tokens for further use.<br/> </font>    \n",
    "<font face=\"Fugaz One\" size=3 color='#00000'>delete unnecessery numeric,punctioation and extra spaces tabs. </font>    <div/>"
   ]
  },
  {
   "cell_type": "code",
   "execution_count": 14,
   "metadata": {},
   "outputs": [],
   "source": [
    "def tokenized(hebText):\n",
    "    token = ht.tokenize(hebText)\n",
    "    tok_list = list(filter(lambda x: (x[0] == 'HEBREW'),token))\n",
    "    tok_list = [tuple[1] for tuple in tok_list]\n",
    "    tok_list\n",
    "    return tok_list\n",
    "\n"
   ]
  },
  {
   "cell_type": "markdown",
   "metadata": {},
   "source": [
    "<div style=\"background-color: lightblue; padding: 10px;\">\n",
    "<font face=\"Fugaz One\" size=3 color='#00000'>Divide the train seperate frames , 'story' and the 'gender' ( so it will be the target ) </font>    \n",
    "<font face=\"Fugaz One\" size=3 color='#00000'>The target feture 'gender' will change from categorial type to numeric.  </font>    \n",
    "    <div/>\n"
   ]
  },
  {
   "cell_type": "code",
   "execution_count": 15,
   "metadata": {},
   "outputs": [],
   "source": [
    "X_train = df_train[\"story\"]\n",
    "y_train = df_train[\"gender\"].replace({'m': 1, 'f': 0})"
   ]
  },
  {
   "cell_type": "code",
   "execution_count": 16,
   "metadata": {},
   "outputs": [
    {
     "name": "stdout",
     "output_type": "stream",
     "text": [
      "First 5 rows from the feture 'story'\n"
     ]
    },
    {
     "data": {
      "text/plain": [
       "0    כשחבר הזמין אותי לחול, לא באמת חשבתי שזה יקרה,...\n",
       "1    לפני שהתגייסתי לצבא עשיתי כל מני מיונים ליחידו...\n",
       "2    מאז שהתחילו הלימודים חלומו של כל סטודנט זה הפנ...\n",
       "3    כשהייתי ילד, מטוסים היה הדבר שהכי ריתק אותי. ב...\n",
       "4    ‏הייתי מדריכה בכפר נוער ומתאם הכפר היינו צריכי...\n",
       "Name: story, dtype: object"
      ]
     },
     "execution_count": 16,
     "metadata": {},
     "output_type": "execute_result"
    },
    {
     "name": "stdout",
     "output_type": "stream",
     "text": [
      "\n",
      "First 5 rows from the feture 'gender' whice convert to numeric\n",
      "'1' for male, '0' for female\n"
     ]
    },
    {
     "data": {
      "text/plain": [
       "0    1\n",
       "1    1\n",
       "2    0\n",
       "3    1\n",
       "4    0\n",
       "Name: gender, dtype: int64"
      ]
     },
     "execution_count": 16,
     "metadata": {},
     "output_type": "execute_result"
    }
   ],
   "source": [
    "print(\"First 5 rows from the feture 'story'\")\n",
    "X_train.head(5)\n",
    "print()\n",
    "print(\"First 5 rows from the feture 'gender' whice convert to numeric\\n'1' for male, '0' for female\")\n",
    "y_train.head(5)"
   ]
  },
  {
   "attachments": {},
   "cell_type": "markdown",
   "metadata": {},
   "source": [
    "<div style=\"background-color: black; padding: 10px; text-align: center;\">\n",
    "    <font face=\"Fugaz One\" size=6 color='#999999'>Cross Validation.</font>    \n",
    "</div>\n"
   ]
  },
  {
   "cell_type": "markdown",
   "metadata": {},
   "source": [
    "<div style=\"background-color: lightblue; padding: 10px;\">\n",
    "<font face=\"Fugaz One\" size=3 color='#00000'>Sets the grid search parameters for each classifier based on its name.<br/> set defaults Hyperparameters and later i'll change them if it's necessary.</font>    \n",
    "<div/>"
   ]
  },
  {
   "cell_type": "code",
   "execution_count": 15,
   "metadata": {},
   "outputs": [],
   "source": [
    "models = [\n",
    "    ('Perceptron', Perceptron()),\n",
    "    ('LinearSVC', LinearSVC()),\n",
    "    ('DecisionTreeClassifier', DecisionTreeClassifier()),\n",
    "    ('MultinomialNB', MultinomialNB()),\n",
    "    ('SGDClassifier', SGDClassifier()),\n",
    "    ('KNeighborsClassifier', KNeighborsClassifier())\n",
    "]\n",
    "\n"
   ]
  },
  {
   "cell_type": "markdown",
   "metadata": {},
   "source": [
    "<div style=\"background-color: lightblue; padding: 10px;\">\n",
    "<font face=\"Fugaz One\" size=3 color='#00000'>Initial hyperparameters are placed for each model,<br/></font>    \n",
    "<font face=\"Fugaz One\" size=3 color='#00000'>Some of them we chose randomly or by reading about them on the<br/> </font> <font face=\"Fugaz One\" size=3 color='#00000'>Internet, some are default values that the system provides,<br/></font> \n",
    "<font face=\"Fugaz One\" size=3 color='#00000'>And there are also those who express trial and error.</font>    \n",
    "<div/>"
   ]
  },
  {
   "cell_type": "code",
   "execution_count": 16,
   "metadata": {},
   "outputs": [],
   "source": [
    "def set_params():\n",
    "    if name == 'LinearSVC':\n",
    "        parameters = {'tfidf__ngram_range': [(1, 1), (1, 2)], 'tfidf__min_df' : [2, 4, 5],\n",
    "                      'tfidf__max_df': [0.8, 0.9],'model__C': [0.1, 1, 10],\n",
    "                      'model__penalty': ['l1', 'l2']}\n",
    "\n",
    "    elif name == 'Perceptron':\n",
    "        parameters = {'tfidf__ngram_range': [(1, 1), (1, 2)], 'tfidf__min_df' : [2, 4, 5],\n",
    "                      'tfidf__max_df': [0.8, 0.9],'tfidf__sublinear_tf':[True, False],\n",
    "                    'model__alpha': [0.000001, 0.00001, 0.0001], 'model__penalty': ['l2', 'l1']}\n",
    "\n",
    "  \n",
    "    elif name == 'DecisionTreeClassifier':\n",
    "        parameters = {'tfidf__ngram_range': [(1, 1), (1, 2)], 'tfidf__min_df' : [2, 4, 5],\n",
    "                      'tfidf__max_df': [0.8, 0.9], 'model__max_depth': [5, 10, 15],\n",
    "                      'model__min_samples_leaf': [5, 10, 15]}\n",
    "\n",
    "    \n",
    "    elif name == 'MultinomialNB':\n",
    "        parameters = {'tfidf__ngram_range': [(1, 1), (1, 2)], 'tfidf__min_df' : [2, 4, 5],\n",
    "                      'tfidf__max_df': [0.8, 0.9], 'model__alpha': [0.01, 0.1, 1]}\n",
    "\n",
    "   \n",
    "    elif name == 'SGDClassifier':\n",
    "        parameters = {'tfidf__ngram_range': [(1, 1), (1, 2)], 'tfidf__min_df' : [2, 4, 5],\n",
    "                      'tfidf__max_df': [0.8, 0.9], 'model__alpha': [1e-3, 1e-4],\n",
    "                      'model__penalty': ['l1', 'l2']}\n",
    "\n",
    "    elif name == 'KNeighborsClassifier':\n",
    "        parameters = {'tfidf__ngram_range': [(1, 1), (1, 2)], 'tfidf__min_df' : [2, 4, 5], \n",
    "                      'tfidf__max_df': [0.8, 0.9], 'model__n_neighbors': [3, 5, 7],\n",
    "                      'model__metric': ['euclidean', 'manhattan', 'chebyshev'],\n",
    "                      'model__leaf_size': [10, 20, 30]}\n",
    "    return parameters"
   ]
  },
  {
   "cell_type": "markdown",
   "metadata": {},
   "source": [
    "<div style=\"background-color: lightblue; padding: 10px;\">\n",
    "<font face=\"Fugaz One\" size=3 color='#00000'>• Now I will intial the pipline for each model.<br/> </font>    \n",
    "<font face=\"Fugaz One\" size=3 color='#00000'>• GridSearch parameters setting ( using the set_parameters func ). <br/></font>    \n",
    "<font face=\"Fugaz One\" size=3 color='#00000'>• Print the best score and the estimator for each model.<br/> </font>    \n",
    "<font face=\"Fugaz One\" size=3 color='#00000'>• Than I will continue with the best model/s I will found. <br/></font>  \n",
    "\n",
    "<font face=\"Fugaz One\" size=3 color='#FF0000'> Notice : The GridSearch visualization displayed badly in GitHub <br/></font>  \n",
    "<font face=\"Fugaz One\" size=3 color='#00000'> If you want to look at them, I recomending to open it in Google Colab <br/></font>  \n",
    "<div/>\n",
    "                                 \n"
   ]
  },
  {
   "cell_type": "code",
   "execution_count": 17,
   "metadata": {},
   "outputs": [
    {
     "data": {
      "text/html": [
       "<style>#sk-a8b4c39d-056a-4bc7-b208-79a0050cc617 {color: black;background-color: white;}#sk-a8b4c39d-056a-4bc7-b208-79a0050cc617 pre{padding: 0;}#sk-a8b4c39d-056a-4bc7-b208-79a0050cc617 div.sk-toggleable {background-color: white;}#sk-a8b4c39d-056a-4bc7-b208-79a0050cc617 label.sk-toggleable__label {cursor: pointer;display: block;width: 100%;margin-bottom: 0;padding: 0.3em;box-sizing: border-box;text-align: center;}#sk-a8b4c39d-056a-4bc7-b208-79a0050cc617 label.sk-toggleable__label-arrow:before {content: \"▸\";float: left;margin-right: 0.25em;color: #696969;}#sk-a8b4c39d-056a-4bc7-b208-79a0050cc617 label.sk-toggleable__label-arrow:hover:before {color: black;}#sk-a8b4c39d-056a-4bc7-b208-79a0050cc617 div.sk-estimator:hover label.sk-toggleable__label-arrow:before {color: black;}#sk-a8b4c39d-056a-4bc7-b208-79a0050cc617 div.sk-toggleable__content {max-height: 0;max-width: 0;overflow: hidden;text-align: left;background-color: #f0f8ff;}#sk-a8b4c39d-056a-4bc7-b208-79a0050cc617 div.sk-toggleable__content pre {margin: 0.2em;color: black;border-radius: 0.25em;background-color: #f0f8ff;}#sk-a8b4c39d-056a-4bc7-b208-79a0050cc617 input.sk-toggleable__control:checked~div.sk-toggleable__content {max-height: 200px;max-width: 100%;overflow: auto;}#sk-a8b4c39d-056a-4bc7-b208-79a0050cc617 input.sk-toggleable__control:checked~label.sk-toggleable__label-arrow:before {content: \"▾\";}#sk-a8b4c39d-056a-4bc7-b208-79a0050cc617 div.sk-estimator input.sk-toggleable__control:checked~label.sk-toggleable__label {background-color: #d4ebff;}#sk-a8b4c39d-056a-4bc7-b208-79a0050cc617 div.sk-label input.sk-toggleable__control:checked~label.sk-toggleable__label {background-color: #d4ebff;}#sk-a8b4c39d-056a-4bc7-b208-79a0050cc617 input.sk-hidden--visually {border: 0;clip: rect(1px 1px 1px 1px);clip: rect(1px, 1px, 1px, 1px);height: 1px;margin: -1px;overflow: hidden;padding: 0;position: absolute;width: 1px;}#sk-a8b4c39d-056a-4bc7-b208-79a0050cc617 div.sk-estimator {font-family: monospace;background-color: #f0f8ff;border: 1px dotted black;border-radius: 0.25em;box-sizing: border-box;margin-bottom: 0.5em;}#sk-a8b4c39d-056a-4bc7-b208-79a0050cc617 div.sk-estimator:hover {background-color: #d4ebff;}#sk-a8b4c39d-056a-4bc7-b208-79a0050cc617 div.sk-parallel-item::after {content: \"\";width: 100%;border-bottom: 1px solid gray;flex-grow: 1;}#sk-a8b4c39d-056a-4bc7-b208-79a0050cc617 div.sk-label:hover label.sk-toggleable__label {background-color: #d4ebff;}#sk-a8b4c39d-056a-4bc7-b208-79a0050cc617 div.sk-serial::before {content: \"\";position: absolute;border-left: 1px solid gray;box-sizing: border-box;top: 2em;bottom: 0;left: 50%;}#sk-a8b4c39d-056a-4bc7-b208-79a0050cc617 div.sk-serial {display: flex;flex-direction: column;align-items: center;background-color: white;padding-right: 0.2em;padding-left: 0.2em;}#sk-a8b4c39d-056a-4bc7-b208-79a0050cc617 div.sk-item {z-index: 1;}#sk-a8b4c39d-056a-4bc7-b208-79a0050cc617 div.sk-parallel {display: flex;align-items: stretch;justify-content: center;background-color: white;}#sk-a8b4c39d-056a-4bc7-b208-79a0050cc617 div.sk-parallel::before {content: \"\";position: absolute;border-left: 1px solid gray;box-sizing: border-box;top: 2em;bottom: 0;left: 50%;}#sk-a8b4c39d-056a-4bc7-b208-79a0050cc617 div.sk-parallel-item {display: flex;flex-direction: column;position: relative;background-color: white;}#sk-a8b4c39d-056a-4bc7-b208-79a0050cc617 div.sk-parallel-item:first-child::after {align-self: flex-end;width: 50%;}#sk-a8b4c39d-056a-4bc7-b208-79a0050cc617 div.sk-parallel-item:last-child::after {align-self: flex-start;width: 50%;}#sk-a8b4c39d-056a-4bc7-b208-79a0050cc617 div.sk-parallel-item:only-child::after {width: 0;}#sk-a8b4c39d-056a-4bc7-b208-79a0050cc617 div.sk-dashed-wrapped {border: 1px dashed gray;margin: 0 0.4em 0.5em 0.4em;box-sizing: border-box;padding-bottom: 0.4em;background-color: white;position: relative;}#sk-a8b4c39d-056a-4bc7-b208-79a0050cc617 div.sk-label label {font-family: monospace;font-weight: bold;background-color: white;display: inline-block;line-height: 1.2em;}#sk-a8b4c39d-056a-4bc7-b208-79a0050cc617 div.sk-label-container {position: relative;z-index: 2;text-align: center;}#sk-a8b4c39d-056a-4bc7-b208-79a0050cc617 div.sk-container {/* jupyter's `normalize.less` sets `[hidden] { display: none; }` but bootstrap.min.css set `[hidden] { display: none !important; }` so we also need the `!important` here to be able to override the default hidden behavior on the sphinx rendered scikit-learn.org. See: https://github.com/scikit-learn/scikit-learn/issues/21755 */display: inline-block !important;position: relative;}#sk-a8b4c39d-056a-4bc7-b208-79a0050cc617 div.sk-text-repr-fallback {display: none;}</style><div id=\"sk-a8b4c39d-056a-4bc7-b208-79a0050cc617\" class=\"sk-top-container\"><div class=\"sk-text-repr-fallback\"><pre>GridSearchCV(cv=10,\n",
       "             estimator=Pipeline(steps=[(&#x27;tfidf&#x27;, TfidfVectorizer()),\n",
       "                                       (&#x27;norm&#x27;, Normalizer()),\n",
       "                                       (&#x27;model&#x27;, Perceptron())]),\n",
       "             param_grid={&#x27;model__alpha&#x27;: [1e-06, 1e-05, 0.0001],\n",
       "                         &#x27;model__penalty&#x27;: [&#x27;l2&#x27;, &#x27;l1&#x27;],\n",
       "                         &#x27;tfidf__max_df&#x27;: [0.8, 0.9],\n",
       "                         &#x27;tfidf__min_df&#x27;: [2, 4, 5],\n",
       "                         &#x27;tfidf__ngram_range&#x27;: [(1, 1), (1, 2)],\n",
       "                         &#x27;tfidf__sublinear_tf&#x27;: [True, False]},\n",
       "             scoring=make_scorer(f1_score, average=macro))</pre><b>Please rerun this cell to show the HTML repr or trust the notebook.</b></div><div class=\"sk-container\" hidden><div class=\"sk-item sk-dashed-wrapped\"><div class=\"sk-label-container\"><div class=\"sk-label sk-toggleable\"><input class=\"sk-toggleable__control sk-hidden--visually\" id=\"2087cf8a-f04b-47d3-9bc9-7017fe1be9fb\" type=\"checkbox\" ><label for=\"2087cf8a-f04b-47d3-9bc9-7017fe1be9fb\" class=\"sk-toggleable__label sk-toggleable__label-arrow\">GridSearchCV</label><div class=\"sk-toggleable__content\"><pre>GridSearchCV(cv=10,\n",
       "             estimator=Pipeline(steps=[(&#x27;tfidf&#x27;, TfidfVectorizer()),\n",
       "                                       (&#x27;norm&#x27;, Normalizer()),\n",
       "                                       (&#x27;model&#x27;, Perceptron())]),\n",
       "             param_grid={&#x27;model__alpha&#x27;: [1e-06, 1e-05, 0.0001],\n",
       "                         &#x27;model__penalty&#x27;: [&#x27;l2&#x27;, &#x27;l1&#x27;],\n",
       "                         &#x27;tfidf__max_df&#x27;: [0.8, 0.9],\n",
       "                         &#x27;tfidf__min_df&#x27;: [2, 4, 5],\n",
       "                         &#x27;tfidf__ngram_range&#x27;: [(1, 1), (1, 2)],\n",
       "                         &#x27;tfidf__sublinear_tf&#x27;: [True, False]},\n",
       "             scoring=make_scorer(f1_score, average=macro))</pre></div></div></div><div class=\"sk-parallel\"><div class=\"sk-parallel-item\"><div class=\"sk-item\"><div class=\"sk-serial\"><div class=\"sk-item\"><div class=\"sk-serial\"><div class=\"sk-item\"><div class=\"sk-estimator sk-toggleable\"><input class=\"sk-toggleable__control sk-hidden--visually\" id=\"660d8461-0404-4858-837a-d33fa4203e38\" type=\"checkbox\" ><label for=\"660d8461-0404-4858-837a-d33fa4203e38\" class=\"sk-toggleable__label sk-toggleable__label-arrow\">TfidfVectorizer</label><div class=\"sk-toggleable__content\"><pre>TfidfVectorizer()</pre></div></div></div><div class=\"sk-item\"><div class=\"sk-estimator sk-toggleable\"><input class=\"sk-toggleable__control sk-hidden--visually\" id=\"8122f75f-767f-41a0-873b-a83007f84476\" type=\"checkbox\" ><label for=\"8122f75f-767f-41a0-873b-a83007f84476\" class=\"sk-toggleable__label sk-toggleable__label-arrow\">Normalizer</label><div class=\"sk-toggleable__content\"><pre>Normalizer()</pre></div></div></div><div class=\"sk-item\"><div class=\"sk-estimator sk-toggleable\"><input class=\"sk-toggleable__control sk-hidden--visually\" id=\"90fa7f27-0493-4d25-a202-1b12197d210d\" type=\"checkbox\" ><label for=\"90fa7f27-0493-4d25-a202-1b12197d210d\" class=\"sk-toggleable__label sk-toggleable__label-arrow\">Perceptron</label><div class=\"sk-toggleable__content\"><pre>Perceptron()</pre></div></div></div></div></div></div></div></div></div></div></div></div>"
      ],
      "text/plain": [
       "GridSearchCV(cv=10,\n",
       "             estimator=Pipeline(steps=[('tfidf', TfidfVectorizer()),\n",
       "                                       ('norm', Normalizer()),\n",
       "                                       ('model', Perceptron())]),\n",
       "             param_grid={'model__alpha': [1e-06, 1e-05, 0.0001],\n",
       "                         'model__penalty': ['l2', 'l1'],\n",
       "                         'tfidf__max_df': [0.8, 0.9],\n",
       "                         'tfidf__min_df': [2, 4, 5],\n",
       "                         'tfidf__ngram_range': [(1, 1), (1, 2)],\n",
       "                         'tfidf__sublinear_tf': [True, False]},\n",
       "             scoring=make_scorer(f1_score, average=macro))"
      ]
     },
     "execution_count": 17,
     "metadata": {},
     "output_type": "execute_result"
    },
    {
     "name": "stdout",
     "output_type": "stream",
     "text": [
      "The best score of the model is:  0.726\n",
      "The best estimator of the model is:  Pipeline(steps=[('tfidf',\n",
      "                 TfidfVectorizer(max_df=0.8, min_df=2, ngram_range=(1, 2),\n",
      "                                 sublinear_tf=True)),\n",
      "                ('norm', Normalizer()),\n",
      "                ('model', Perceptron(alpha=1e-06, penalty='l1'))])\n"
     ]
    },
    {
     "data": {
      "text/html": [
       "<style>#sk-b9699036-531a-4175-a114-d92ff81f4dca {color: black;background-color: white;}#sk-b9699036-531a-4175-a114-d92ff81f4dca pre{padding: 0;}#sk-b9699036-531a-4175-a114-d92ff81f4dca div.sk-toggleable {background-color: white;}#sk-b9699036-531a-4175-a114-d92ff81f4dca label.sk-toggleable__label {cursor: pointer;display: block;width: 100%;margin-bottom: 0;padding: 0.3em;box-sizing: border-box;text-align: center;}#sk-b9699036-531a-4175-a114-d92ff81f4dca label.sk-toggleable__label-arrow:before {content: \"▸\";float: left;margin-right: 0.25em;color: #696969;}#sk-b9699036-531a-4175-a114-d92ff81f4dca label.sk-toggleable__label-arrow:hover:before {color: black;}#sk-b9699036-531a-4175-a114-d92ff81f4dca div.sk-estimator:hover label.sk-toggleable__label-arrow:before {color: black;}#sk-b9699036-531a-4175-a114-d92ff81f4dca div.sk-toggleable__content {max-height: 0;max-width: 0;overflow: hidden;text-align: left;background-color: #f0f8ff;}#sk-b9699036-531a-4175-a114-d92ff81f4dca div.sk-toggleable__content pre {margin: 0.2em;color: black;border-radius: 0.25em;background-color: #f0f8ff;}#sk-b9699036-531a-4175-a114-d92ff81f4dca input.sk-toggleable__control:checked~div.sk-toggleable__content {max-height: 200px;max-width: 100%;overflow: auto;}#sk-b9699036-531a-4175-a114-d92ff81f4dca input.sk-toggleable__control:checked~label.sk-toggleable__label-arrow:before {content: \"▾\";}#sk-b9699036-531a-4175-a114-d92ff81f4dca div.sk-estimator input.sk-toggleable__control:checked~label.sk-toggleable__label {background-color: #d4ebff;}#sk-b9699036-531a-4175-a114-d92ff81f4dca div.sk-label input.sk-toggleable__control:checked~label.sk-toggleable__label {background-color: #d4ebff;}#sk-b9699036-531a-4175-a114-d92ff81f4dca input.sk-hidden--visually {border: 0;clip: rect(1px 1px 1px 1px);clip: rect(1px, 1px, 1px, 1px);height: 1px;margin: -1px;overflow: hidden;padding: 0;position: absolute;width: 1px;}#sk-b9699036-531a-4175-a114-d92ff81f4dca div.sk-estimator {font-family: monospace;background-color: #f0f8ff;border: 1px dotted black;border-radius: 0.25em;box-sizing: border-box;margin-bottom: 0.5em;}#sk-b9699036-531a-4175-a114-d92ff81f4dca div.sk-estimator:hover {background-color: #d4ebff;}#sk-b9699036-531a-4175-a114-d92ff81f4dca div.sk-parallel-item::after {content: \"\";width: 100%;border-bottom: 1px solid gray;flex-grow: 1;}#sk-b9699036-531a-4175-a114-d92ff81f4dca div.sk-label:hover label.sk-toggleable__label {background-color: #d4ebff;}#sk-b9699036-531a-4175-a114-d92ff81f4dca div.sk-serial::before {content: \"\";position: absolute;border-left: 1px solid gray;box-sizing: border-box;top: 2em;bottom: 0;left: 50%;}#sk-b9699036-531a-4175-a114-d92ff81f4dca div.sk-serial {display: flex;flex-direction: column;align-items: center;background-color: white;padding-right: 0.2em;padding-left: 0.2em;}#sk-b9699036-531a-4175-a114-d92ff81f4dca div.sk-item {z-index: 1;}#sk-b9699036-531a-4175-a114-d92ff81f4dca div.sk-parallel {display: flex;align-items: stretch;justify-content: center;background-color: white;}#sk-b9699036-531a-4175-a114-d92ff81f4dca div.sk-parallel::before {content: \"\";position: absolute;border-left: 1px solid gray;box-sizing: border-box;top: 2em;bottom: 0;left: 50%;}#sk-b9699036-531a-4175-a114-d92ff81f4dca div.sk-parallel-item {display: flex;flex-direction: column;position: relative;background-color: white;}#sk-b9699036-531a-4175-a114-d92ff81f4dca div.sk-parallel-item:first-child::after {align-self: flex-end;width: 50%;}#sk-b9699036-531a-4175-a114-d92ff81f4dca div.sk-parallel-item:last-child::after {align-self: flex-start;width: 50%;}#sk-b9699036-531a-4175-a114-d92ff81f4dca div.sk-parallel-item:only-child::after {width: 0;}#sk-b9699036-531a-4175-a114-d92ff81f4dca div.sk-dashed-wrapped {border: 1px dashed gray;margin: 0 0.4em 0.5em 0.4em;box-sizing: border-box;padding-bottom: 0.4em;background-color: white;position: relative;}#sk-b9699036-531a-4175-a114-d92ff81f4dca div.sk-label label {font-family: monospace;font-weight: bold;background-color: white;display: inline-block;line-height: 1.2em;}#sk-b9699036-531a-4175-a114-d92ff81f4dca div.sk-label-container {position: relative;z-index: 2;text-align: center;}#sk-b9699036-531a-4175-a114-d92ff81f4dca div.sk-container {/* jupyter's `normalize.less` sets `[hidden] { display: none; }` but bootstrap.min.css set `[hidden] { display: none !important; }` so we also need the `!important` here to be able to override the default hidden behavior on the sphinx rendered scikit-learn.org. See: https://github.com/scikit-learn/scikit-learn/issues/21755 */display: inline-block !important;position: relative;}#sk-b9699036-531a-4175-a114-d92ff81f4dca div.sk-text-repr-fallback {display: none;}</style><div id=\"sk-b9699036-531a-4175-a114-d92ff81f4dca\" class=\"sk-top-container\"><div class=\"sk-text-repr-fallback\"><pre>GridSearchCV(cv=10,\n",
       "             estimator=Pipeline(steps=[(&#x27;tfidf&#x27;, TfidfVectorizer()),\n",
       "                                       (&#x27;norm&#x27;, Normalizer()),\n",
       "                                       (&#x27;model&#x27;, LinearSVC())]),\n",
       "             param_grid={&#x27;model__C&#x27;: [0.1, 1, 10],\n",
       "                         &#x27;model__penalty&#x27;: [&#x27;l1&#x27;, &#x27;l2&#x27;],\n",
       "                         &#x27;tfidf__max_df&#x27;: [0.8, 0.9],\n",
       "                         &#x27;tfidf__min_df&#x27;: [2, 4, 5],\n",
       "                         &#x27;tfidf__ngram_range&#x27;: [(1, 1), (1, 2)]},\n",
       "             scoring=make_scorer(f1_score, average=macro))</pre><b>Please rerun this cell to show the HTML repr or trust the notebook.</b></div><div class=\"sk-container\" hidden><div class=\"sk-item sk-dashed-wrapped\"><div class=\"sk-label-container\"><div class=\"sk-label sk-toggleable\"><input class=\"sk-toggleable__control sk-hidden--visually\" id=\"691a30fb-f5b5-4c3d-9373-b5c88515a2f1\" type=\"checkbox\" ><label for=\"691a30fb-f5b5-4c3d-9373-b5c88515a2f1\" class=\"sk-toggleable__label sk-toggleable__label-arrow\">GridSearchCV</label><div class=\"sk-toggleable__content\"><pre>GridSearchCV(cv=10,\n",
       "             estimator=Pipeline(steps=[(&#x27;tfidf&#x27;, TfidfVectorizer()),\n",
       "                                       (&#x27;norm&#x27;, Normalizer()),\n",
       "                                       (&#x27;model&#x27;, LinearSVC())]),\n",
       "             param_grid={&#x27;model__C&#x27;: [0.1, 1, 10],\n",
       "                         &#x27;model__penalty&#x27;: [&#x27;l1&#x27;, &#x27;l2&#x27;],\n",
       "                         &#x27;tfidf__max_df&#x27;: [0.8, 0.9],\n",
       "                         &#x27;tfidf__min_df&#x27;: [2, 4, 5],\n",
       "                         &#x27;tfidf__ngram_range&#x27;: [(1, 1), (1, 2)]},\n",
       "             scoring=make_scorer(f1_score, average=macro))</pre></div></div></div><div class=\"sk-parallel\"><div class=\"sk-parallel-item\"><div class=\"sk-item\"><div class=\"sk-serial\"><div class=\"sk-item\"><div class=\"sk-serial\"><div class=\"sk-item\"><div class=\"sk-estimator sk-toggleable\"><input class=\"sk-toggleable__control sk-hidden--visually\" id=\"4590fc88-e148-472b-bcd4-5131d546b8ff\" type=\"checkbox\" ><label for=\"4590fc88-e148-472b-bcd4-5131d546b8ff\" class=\"sk-toggleable__label sk-toggleable__label-arrow\">TfidfVectorizer</label><div class=\"sk-toggleable__content\"><pre>TfidfVectorizer()</pre></div></div></div><div class=\"sk-item\"><div class=\"sk-estimator sk-toggleable\"><input class=\"sk-toggleable__control sk-hidden--visually\" id=\"200d2844-d370-4d00-a7ed-bc70d45ec231\" type=\"checkbox\" ><label for=\"200d2844-d370-4d00-a7ed-bc70d45ec231\" class=\"sk-toggleable__label sk-toggleable__label-arrow\">Normalizer</label><div class=\"sk-toggleable__content\"><pre>Normalizer()</pre></div></div></div><div class=\"sk-item\"><div class=\"sk-estimator sk-toggleable\"><input class=\"sk-toggleable__control sk-hidden--visually\" id=\"2fef9248-30f3-4a84-9677-c7bf9a5d5287\" type=\"checkbox\" ><label for=\"2fef9248-30f3-4a84-9677-c7bf9a5d5287\" class=\"sk-toggleable__label sk-toggleable__label-arrow\">LinearSVC</label><div class=\"sk-toggleable__content\"><pre>LinearSVC()</pre></div></div></div></div></div></div></div></div></div></div></div></div>"
      ],
      "text/plain": [
       "GridSearchCV(cv=10,\n",
       "             estimator=Pipeline(steps=[('tfidf', TfidfVectorizer()),\n",
       "                                       ('norm', Normalizer()),\n",
       "                                       ('model', LinearSVC())]),\n",
       "             param_grid={'model__C': [0.1, 1, 10],\n",
       "                         'model__penalty': ['l1', 'l2'],\n",
       "                         'tfidf__max_df': [0.8, 0.9],\n",
       "                         'tfidf__min_df': [2, 4, 5],\n",
       "                         'tfidf__ngram_range': [(1, 1), (1, 2)]},\n",
       "             scoring=make_scorer(f1_score, average=macro))"
      ]
     },
     "execution_count": 17,
     "metadata": {},
     "output_type": "execute_result"
    },
    {
     "name": "stdout",
     "output_type": "stream",
     "text": [
      "The best score of the model is:  0.687\n",
      "The best estimator of the model is:  Pipeline(steps=[('tfidf',\n",
      "                 TfidfVectorizer(max_df=0.9, min_df=5, ngram_range=(1, 2))),\n",
      "                ('norm', Normalizer()), ('model', LinearSVC(C=10))])\n"
     ]
    },
    {
     "data": {
      "text/html": [
       "<style>#sk-4c76e85f-ef20-4bcb-8287-8936ac9fa92c {color: black;background-color: white;}#sk-4c76e85f-ef20-4bcb-8287-8936ac9fa92c pre{padding: 0;}#sk-4c76e85f-ef20-4bcb-8287-8936ac9fa92c div.sk-toggleable {background-color: white;}#sk-4c76e85f-ef20-4bcb-8287-8936ac9fa92c label.sk-toggleable__label {cursor: pointer;display: block;width: 100%;margin-bottom: 0;padding: 0.3em;box-sizing: border-box;text-align: center;}#sk-4c76e85f-ef20-4bcb-8287-8936ac9fa92c label.sk-toggleable__label-arrow:before {content: \"▸\";float: left;margin-right: 0.25em;color: #696969;}#sk-4c76e85f-ef20-4bcb-8287-8936ac9fa92c label.sk-toggleable__label-arrow:hover:before {color: black;}#sk-4c76e85f-ef20-4bcb-8287-8936ac9fa92c div.sk-estimator:hover label.sk-toggleable__label-arrow:before {color: black;}#sk-4c76e85f-ef20-4bcb-8287-8936ac9fa92c div.sk-toggleable__content {max-height: 0;max-width: 0;overflow: hidden;text-align: left;background-color: #f0f8ff;}#sk-4c76e85f-ef20-4bcb-8287-8936ac9fa92c div.sk-toggleable__content pre {margin: 0.2em;color: black;border-radius: 0.25em;background-color: #f0f8ff;}#sk-4c76e85f-ef20-4bcb-8287-8936ac9fa92c input.sk-toggleable__control:checked~div.sk-toggleable__content {max-height: 200px;max-width: 100%;overflow: auto;}#sk-4c76e85f-ef20-4bcb-8287-8936ac9fa92c input.sk-toggleable__control:checked~label.sk-toggleable__label-arrow:before {content: \"▾\";}#sk-4c76e85f-ef20-4bcb-8287-8936ac9fa92c div.sk-estimator input.sk-toggleable__control:checked~label.sk-toggleable__label {background-color: #d4ebff;}#sk-4c76e85f-ef20-4bcb-8287-8936ac9fa92c div.sk-label input.sk-toggleable__control:checked~label.sk-toggleable__label {background-color: #d4ebff;}#sk-4c76e85f-ef20-4bcb-8287-8936ac9fa92c input.sk-hidden--visually {border: 0;clip: rect(1px 1px 1px 1px);clip: rect(1px, 1px, 1px, 1px);height: 1px;margin: -1px;overflow: hidden;padding: 0;position: absolute;width: 1px;}#sk-4c76e85f-ef20-4bcb-8287-8936ac9fa92c div.sk-estimator {font-family: monospace;background-color: #f0f8ff;border: 1px dotted black;border-radius: 0.25em;box-sizing: border-box;margin-bottom: 0.5em;}#sk-4c76e85f-ef20-4bcb-8287-8936ac9fa92c div.sk-estimator:hover {background-color: #d4ebff;}#sk-4c76e85f-ef20-4bcb-8287-8936ac9fa92c div.sk-parallel-item::after {content: \"\";width: 100%;border-bottom: 1px solid gray;flex-grow: 1;}#sk-4c76e85f-ef20-4bcb-8287-8936ac9fa92c div.sk-label:hover label.sk-toggleable__label {background-color: #d4ebff;}#sk-4c76e85f-ef20-4bcb-8287-8936ac9fa92c div.sk-serial::before {content: \"\";position: absolute;border-left: 1px solid gray;box-sizing: border-box;top: 2em;bottom: 0;left: 50%;}#sk-4c76e85f-ef20-4bcb-8287-8936ac9fa92c div.sk-serial {display: flex;flex-direction: column;align-items: center;background-color: white;padding-right: 0.2em;padding-left: 0.2em;}#sk-4c76e85f-ef20-4bcb-8287-8936ac9fa92c div.sk-item {z-index: 1;}#sk-4c76e85f-ef20-4bcb-8287-8936ac9fa92c div.sk-parallel {display: flex;align-items: stretch;justify-content: center;background-color: white;}#sk-4c76e85f-ef20-4bcb-8287-8936ac9fa92c div.sk-parallel::before {content: \"\";position: absolute;border-left: 1px solid gray;box-sizing: border-box;top: 2em;bottom: 0;left: 50%;}#sk-4c76e85f-ef20-4bcb-8287-8936ac9fa92c div.sk-parallel-item {display: flex;flex-direction: column;position: relative;background-color: white;}#sk-4c76e85f-ef20-4bcb-8287-8936ac9fa92c div.sk-parallel-item:first-child::after {align-self: flex-end;width: 50%;}#sk-4c76e85f-ef20-4bcb-8287-8936ac9fa92c div.sk-parallel-item:last-child::after {align-self: flex-start;width: 50%;}#sk-4c76e85f-ef20-4bcb-8287-8936ac9fa92c div.sk-parallel-item:only-child::after {width: 0;}#sk-4c76e85f-ef20-4bcb-8287-8936ac9fa92c div.sk-dashed-wrapped {border: 1px dashed gray;margin: 0 0.4em 0.5em 0.4em;box-sizing: border-box;padding-bottom: 0.4em;background-color: white;position: relative;}#sk-4c76e85f-ef20-4bcb-8287-8936ac9fa92c div.sk-label label {font-family: monospace;font-weight: bold;background-color: white;display: inline-block;line-height: 1.2em;}#sk-4c76e85f-ef20-4bcb-8287-8936ac9fa92c div.sk-label-container {position: relative;z-index: 2;text-align: center;}#sk-4c76e85f-ef20-4bcb-8287-8936ac9fa92c div.sk-container {/* jupyter's `normalize.less` sets `[hidden] { display: none; }` but bootstrap.min.css set `[hidden] { display: none !important; }` so we also need the `!important` here to be able to override the default hidden behavior on the sphinx rendered scikit-learn.org. See: https://github.com/scikit-learn/scikit-learn/issues/21755 */display: inline-block !important;position: relative;}#sk-4c76e85f-ef20-4bcb-8287-8936ac9fa92c div.sk-text-repr-fallback {display: none;}</style><div id=\"sk-4c76e85f-ef20-4bcb-8287-8936ac9fa92c\" class=\"sk-top-container\"><div class=\"sk-text-repr-fallback\"><pre>GridSearchCV(cv=10,\n",
       "             estimator=Pipeline(steps=[(&#x27;tfidf&#x27;, TfidfVectorizer()),\n",
       "                                       (&#x27;norm&#x27;, Normalizer()),\n",
       "                                       (&#x27;model&#x27;, DecisionTreeClassifier())]),\n",
       "             param_grid={&#x27;model__max_depth&#x27;: [5, 10, 15],\n",
       "                         &#x27;model__min_samples_leaf&#x27;: [5, 10, 15],\n",
       "                         &#x27;tfidf__max_df&#x27;: [0.8, 0.9],\n",
       "                         &#x27;tfidf__min_df&#x27;: [2, 4, 5],\n",
       "                         &#x27;tfidf__ngram_range&#x27;: [(1, 1), (1, 2)]},\n",
       "             scoring=make_scorer(f1_score, average=macro))</pre><b>Please rerun this cell to show the HTML repr or trust the notebook.</b></div><div class=\"sk-container\" hidden><div class=\"sk-item sk-dashed-wrapped\"><div class=\"sk-label-container\"><div class=\"sk-label sk-toggleable\"><input class=\"sk-toggleable__control sk-hidden--visually\" id=\"6644f5c0-2951-4ade-91cb-d5958eb8ed69\" type=\"checkbox\" ><label for=\"6644f5c0-2951-4ade-91cb-d5958eb8ed69\" class=\"sk-toggleable__label sk-toggleable__label-arrow\">GridSearchCV</label><div class=\"sk-toggleable__content\"><pre>GridSearchCV(cv=10,\n",
       "             estimator=Pipeline(steps=[(&#x27;tfidf&#x27;, TfidfVectorizer()),\n",
       "                                       (&#x27;norm&#x27;, Normalizer()),\n",
       "                                       (&#x27;model&#x27;, DecisionTreeClassifier())]),\n",
       "             param_grid={&#x27;model__max_depth&#x27;: [5, 10, 15],\n",
       "                         &#x27;model__min_samples_leaf&#x27;: [5, 10, 15],\n",
       "                         &#x27;tfidf__max_df&#x27;: [0.8, 0.9],\n",
       "                         &#x27;tfidf__min_df&#x27;: [2, 4, 5],\n",
       "                         &#x27;tfidf__ngram_range&#x27;: [(1, 1), (1, 2)]},\n",
       "             scoring=make_scorer(f1_score, average=macro))</pre></div></div></div><div class=\"sk-parallel\"><div class=\"sk-parallel-item\"><div class=\"sk-item\"><div class=\"sk-serial\"><div class=\"sk-item\"><div class=\"sk-serial\"><div class=\"sk-item\"><div class=\"sk-estimator sk-toggleable\"><input class=\"sk-toggleable__control sk-hidden--visually\" id=\"6df0d27c-b8cf-4d79-a720-26bafdd3ad81\" type=\"checkbox\" ><label for=\"6df0d27c-b8cf-4d79-a720-26bafdd3ad81\" class=\"sk-toggleable__label sk-toggleable__label-arrow\">TfidfVectorizer</label><div class=\"sk-toggleable__content\"><pre>TfidfVectorizer()</pre></div></div></div><div class=\"sk-item\"><div class=\"sk-estimator sk-toggleable\"><input class=\"sk-toggleable__control sk-hidden--visually\" id=\"81057fc6-9b70-4765-97d7-647f06ac4eaa\" type=\"checkbox\" ><label for=\"81057fc6-9b70-4765-97d7-647f06ac4eaa\" class=\"sk-toggleable__label sk-toggleable__label-arrow\">Normalizer</label><div class=\"sk-toggleable__content\"><pre>Normalizer()</pre></div></div></div><div class=\"sk-item\"><div class=\"sk-estimator sk-toggleable\"><input class=\"sk-toggleable__control sk-hidden--visually\" id=\"68a8127b-9a4b-4da8-a04d-ef6cc87f1d44\" type=\"checkbox\" ><label for=\"68a8127b-9a4b-4da8-a04d-ef6cc87f1d44\" class=\"sk-toggleable__label sk-toggleable__label-arrow\">DecisionTreeClassifier</label><div class=\"sk-toggleable__content\"><pre>DecisionTreeClassifier()</pre></div></div></div></div></div></div></div></div></div></div></div></div>"
      ],
      "text/plain": [
       "GridSearchCV(cv=10,\n",
       "             estimator=Pipeline(steps=[('tfidf', TfidfVectorizer()),\n",
       "                                       ('norm', Normalizer()),\n",
       "                                       ('model', DecisionTreeClassifier())]),\n",
       "             param_grid={'model__max_depth': [5, 10, 15],\n",
       "                         'model__min_samples_leaf': [5, 10, 15],\n",
       "                         'tfidf__max_df': [0.8, 0.9],\n",
       "                         'tfidf__min_df': [2, 4, 5],\n",
       "                         'tfidf__ngram_range': [(1, 1), (1, 2)]},\n",
       "             scoring=make_scorer(f1_score, average=macro))"
      ]
     },
     "execution_count": 17,
     "metadata": {},
     "output_type": "execute_result"
    },
    {
     "name": "stdout",
     "output_type": "stream",
     "text": [
      "The best score of the model is:  0.648\n",
      "The best estimator of the model is:  Pipeline(steps=[('tfidf', TfidfVectorizer(max_df=0.9, min_df=4)),\n",
      "                ('norm', Normalizer()),\n",
      "                ('model',\n",
      "                 DecisionTreeClassifier(max_depth=10, min_samples_leaf=15))])\n"
     ]
    },
    {
     "data": {
      "text/html": [
       "<style>#sk-cc3c4015-56b5-49f5-9bd2-9e3c4c1ecb0a {color: black;background-color: white;}#sk-cc3c4015-56b5-49f5-9bd2-9e3c4c1ecb0a pre{padding: 0;}#sk-cc3c4015-56b5-49f5-9bd2-9e3c4c1ecb0a div.sk-toggleable {background-color: white;}#sk-cc3c4015-56b5-49f5-9bd2-9e3c4c1ecb0a label.sk-toggleable__label {cursor: pointer;display: block;width: 100%;margin-bottom: 0;padding: 0.3em;box-sizing: border-box;text-align: center;}#sk-cc3c4015-56b5-49f5-9bd2-9e3c4c1ecb0a label.sk-toggleable__label-arrow:before {content: \"▸\";float: left;margin-right: 0.25em;color: #696969;}#sk-cc3c4015-56b5-49f5-9bd2-9e3c4c1ecb0a label.sk-toggleable__label-arrow:hover:before {color: black;}#sk-cc3c4015-56b5-49f5-9bd2-9e3c4c1ecb0a div.sk-estimator:hover label.sk-toggleable__label-arrow:before {color: black;}#sk-cc3c4015-56b5-49f5-9bd2-9e3c4c1ecb0a div.sk-toggleable__content {max-height: 0;max-width: 0;overflow: hidden;text-align: left;background-color: #f0f8ff;}#sk-cc3c4015-56b5-49f5-9bd2-9e3c4c1ecb0a div.sk-toggleable__content pre {margin: 0.2em;color: black;border-radius: 0.25em;background-color: #f0f8ff;}#sk-cc3c4015-56b5-49f5-9bd2-9e3c4c1ecb0a input.sk-toggleable__control:checked~div.sk-toggleable__content {max-height: 200px;max-width: 100%;overflow: auto;}#sk-cc3c4015-56b5-49f5-9bd2-9e3c4c1ecb0a input.sk-toggleable__control:checked~label.sk-toggleable__label-arrow:before {content: \"▾\";}#sk-cc3c4015-56b5-49f5-9bd2-9e3c4c1ecb0a div.sk-estimator input.sk-toggleable__control:checked~label.sk-toggleable__label {background-color: #d4ebff;}#sk-cc3c4015-56b5-49f5-9bd2-9e3c4c1ecb0a div.sk-label input.sk-toggleable__control:checked~label.sk-toggleable__label {background-color: #d4ebff;}#sk-cc3c4015-56b5-49f5-9bd2-9e3c4c1ecb0a input.sk-hidden--visually {border: 0;clip: rect(1px 1px 1px 1px);clip: rect(1px, 1px, 1px, 1px);height: 1px;margin: -1px;overflow: hidden;padding: 0;position: absolute;width: 1px;}#sk-cc3c4015-56b5-49f5-9bd2-9e3c4c1ecb0a div.sk-estimator {font-family: monospace;background-color: #f0f8ff;border: 1px dotted black;border-radius: 0.25em;box-sizing: border-box;margin-bottom: 0.5em;}#sk-cc3c4015-56b5-49f5-9bd2-9e3c4c1ecb0a div.sk-estimator:hover {background-color: #d4ebff;}#sk-cc3c4015-56b5-49f5-9bd2-9e3c4c1ecb0a div.sk-parallel-item::after {content: \"\";width: 100%;border-bottom: 1px solid gray;flex-grow: 1;}#sk-cc3c4015-56b5-49f5-9bd2-9e3c4c1ecb0a div.sk-label:hover label.sk-toggleable__label {background-color: #d4ebff;}#sk-cc3c4015-56b5-49f5-9bd2-9e3c4c1ecb0a div.sk-serial::before {content: \"\";position: absolute;border-left: 1px solid gray;box-sizing: border-box;top: 2em;bottom: 0;left: 50%;}#sk-cc3c4015-56b5-49f5-9bd2-9e3c4c1ecb0a div.sk-serial {display: flex;flex-direction: column;align-items: center;background-color: white;padding-right: 0.2em;padding-left: 0.2em;}#sk-cc3c4015-56b5-49f5-9bd2-9e3c4c1ecb0a div.sk-item {z-index: 1;}#sk-cc3c4015-56b5-49f5-9bd2-9e3c4c1ecb0a div.sk-parallel {display: flex;align-items: stretch;justify-content: center;background-color: white;}#sk-cc3c4015-56b5-49f5-9bd2-9e3c4c1ecb0a div.sk-parallel::before {content: \"\";position: absolute;border-left: 1px solid gray;box-sizing: border-box;top: 2em;bottom: 0;left: 50%;}#sk-cc3c4015-56b5-49f5-9bd2-9e3c4c1ecb0a div.sk-parallel-item {display: flex;flex-direction: column;position: relative;background-color: white;}#sk-cc3c4015-56b5-49f5-9bd2-9e3c4c1ecb0a div.sk-parallel-item:first-child::after {align-self: flex-end;width: 50%;}#sk-cc3c4015-56b5-49f5-9bd2-9e3c4c1ecb0a div.sk-parallel-item:last-child::after {align-self: flex-start;width: 50%;}#sk-cc3c4015-56b5-49f5-9bd2-9e3c4c1ecb0a div.sk-parallel-item:only-child::after {width: 0;}#sk-cc3c4015-56b5-49f5-9bd2-9e3c4c1ecb0a div.sk-dashed-wrapped {border: 1px dashed gray;margin: 0 0.4em 0.5em 0.4em;box-sizing: border-box;padding-bottom: 0.4em;background-color: white;position: relative;}#sk-cc3c4015-56b5-49f5-9bd2-9e3c4c1ecb0a div.sk-label label {font-family: monospace;font-weight: bold;background-color: white;display: inline-block;line-height: 1.2em;}#sk-cc3c4015-56b5-49f5-9bd2-9e3c4c1ecb0a div.sk-label-container {position: relative;z-index: 2;text-align: center;}#sk-cc3c4015-56b5-49f5-9bd2-9e3c4c1ecb0a div.sk-container {/* jupyter's `normalize.less` sets `[hidden] { display: none; }` but bootstrap.min.css set `[hidden] { display: none !important; }` so we also need the `!important` here to be able to override the default hidden behavior on the sphinx rendered scikit-learn.org. See: https://github.com/scikit-learn/scikit-learn/issues/21755 */display: inline-block !important;position: relative;}#sk-cc3c4015-56b5-49f5-9bd2-9e3c4c1ecb0a div.sk-text-repr-fallback {display: none;}</style><div id=\"sk-cc3c4015-56b5-49f5-9bd2-9e3c4c1ecb0a\" class=\"sk-top-container\"><div class=\"sk-text-repr-fallback\"><pre>GridSearchCV(cv=10,\n",
       "             estimator=Pipeline(steps=[(&#x27;tfidf&#x27;, TfidfVectorizer()),\n",
       "                                       (&#x27;norm&#x27;, Normalizer()),\n",
       "                                       (&#x27;model&#x27;, MultinomialNB())]),\n",
       "             param_grid={&#x27;model__alpha&#x27;: [0.01, 0.1, 1],\n",
       "                         &#x27;tfidf__max_df&#x27;: [0.8, 0.9],\n",
       "                         &#x27;tfidf__min_df&#x27;: [2, 4, 5],\n",
       "                         &#x27;tfidf__ngram_range&#x27;: [(1, 1), (1, 2)]},\n",
       "             scoring=make_scorer(f1_score, average=macro))</pre><b>Please rerun this cell to show the HTML repr or trust the notebook.</b></div><div class=\"sk-container\" hidden><div class=\"sk-item sk-dashed-wrapped\"><div class=\"sk-label-container\"><div class=\"sk-label sk-toggleable\"><input class=\"sk-toggleable__control sk-hidden--visually\" id=\"a1677601-6b6c-4211-8a7f-a4ba5525cd57\" type=\"checkbox\" ><label for=\"a1677601-6b6c-4211-8a7f-a4ba5525cd57\" class=\"sk-toggleable__label sk-toggleable__label-arrow\">GridSearchCV</label><div class=\"sk-toggleable__content\"><pre>GridSearchCV(cv=10,\n",
       "             estimator=Pipeline(steps=[(&#x27;tfidf&#x27;, TfidfVectorizer()),\n",
       "                                       (&#x27;norm&#x27;, Normalizer()),\n",
       "                                       (&#x27;model&#x27;, MultinomialNB())]),\n",
       "             param_grid={&#x27;model__alpha&#x27;: [0.01, 0.1, 1],\n",
       "                         &#x27;tfidf__max_df&#x27;: [0.8, 0.9],\n",
       "                         &#x27;tfidf__min_df&#x27;: [2, 4, 5],\n",
       "                         &#x27;tfidf__ngram_range&#x27;: [(1, 1), (1, 2)]},\n",
       "             scoring=make_scorer(f1_score, average=macro))</pre></div></div></div><div class=\"sk-parallel\"><div class=\"sk-parallel-item\"><div class=\"sk-item\"><div class=\"sk-serial\"><div class=\"sk-item\"><div class=\"sk-serial\"><div class=\"sk-item\"><div class=\"sk-estimator sk-toggleable\"><input class=\"sk-toggleable__control sk-hidden--visually\" id=\"cca91b89-5e4f-41b5-b085-2ef098d92610\" type=\"checkbox\" ><label for=\"cca91b89-5e4f-41b5-b085-2ef098d92610\" class=\"sk-toggleable__label sk-toggleable__label-arrow\">TfidfVectorizer</label><div class=\"sk-toggleable__content\"><pre>TfidfVectorizer()</pre></div></div></div><div class=\"sk-item\"><div class=\"sk-estimator sk-toggleable\"><input class=\"sk-toggleable__control sk-hidden--visually\" id=\"983ca003-ece9-49ed-9536-574d1c18e4fc\" type=\"checkbox\" ><label for=\"983ca003-ece9-49ed-9536-574d1c18e4fc\" class=\"sk-toggleable__label sk-toggleable__label-arrow\">Normalizer</label><div class=\"sk-toggleable__content\"><pre>Normalizer()</pre></div></div></div><div class=\"sk-item\"><div class=\"sk-estimator sk-toggleable\"><input class=\"sk-toggleable__control sk-hidden--visually\" id=\"84056064-51ce-4e61-bd07-643ce0c5357c\" type=\"checkbox\" ><label for=\"84056064-51ce-4e61-bd07-643ce0c5357c\" class=\"sk-toggleable__label sk-toggleable__label-arrow\">MultinomialNB</label><div class=\"sk-toggleable__content\"><pre>MultinomialNB()</pre></div></div></div></div></div></div></div></div></div></div></div></div>"
      ],
      "text/plain": [
       "GridSearchCV(cv=10,\n",
       "             estimator=Pipeline(steps=[('tfidf', TfidfVectorizer()),\n",
       "                                       ('norm', Normalizer()),\n",
       "                                       ('model', MultinomialNB())]),\n",
       "             param_grid={'model__alpha': [0.01, 0.1, 1],\n",
       "                         'tfidf__max_df': [0.8, 0.9],\n",
       "                         'tfidf__min_df': [2, 4, 5],\n",
       "                         'tfidf__ngram_range': [(1, 1), (1, 2)]},\n",
       "             scoring=make_scorer(f1_score, average=macro))"
      ]
     },
     "execution_count": 17,
     "metadata": {},
     "output_type": "execute_result"
    },
    {
     "name": "stdout",
     "output_type": "stream",
     "text": [
      "The best score of the model is:  0.526\n",
      "The best estimator of the model is:  Pipeline(steps=[('tfidf',\n",
      "                 TfidfVectorizer(max_df=0.8, min_df=5, ngram_range=(1, 2))),\n",
      "                ('norm', Normalizer()), ('model', MultinomialNB(alpha=0.01))])\n"
     ]
    },
    {
     "data": {
      "text/html": [
       "<style>#sk-30498c6a-b0ea-40a3-a1f5-2163238375aa {color: black;background-color: white;}#sk-30498c6a-b0ea-40a3-a1f5-2163238375aa pre{padding: 0;}#sk-30498c6a-b0ea-40a3-a1f5-2163238375aa div.sk-toggleable {background-color: white;}#sk-30498c6a-b0ea-40a3-a1f5-2163238375aa label.sk-toggleable__label {cursor: pointer;display: block;width: 100%;margin-bottom: 0;padding: 0.3em;box-sizing: border-box;text-align: center;}#sk-30498c6a-b0ea-40a3-a1f5-2163238375aa label.sk-toggleable__label-arrow:before {content: \"▸\";float: left;margin-right: 0.25em;color: #696969;}#sk-30498c6a-b0ea-40a3-a1f5-2163238375aa label.sk-toggleable__label-arrow:hover:before {color: black;}#sk-30498c6a-b0ea-40a3-a1f5-2163238375aa div.sk-estimator:hover label.sk-toggleable__label-arrow:before {color: black;}#sk-30498c6a-b0ea-40a3-a1f5-2163238375aa div.sk-toggleable__content {max-height: 0;max-width: 0;overflow: hidden;text-align: left;background-color: #f0f8ff;}#sk-30498c6a-b0ea-40a3-a1f5-2163238375aa div.sk-toggleable__content pre {margin: 0.2em;color: black;border-radius: 0.25em;background-color: #f0f8ff;}#sk-30498c6a-b0ea-40a3-a1f5-2163238375aa input.sk-toggleable__control:checked~div.sk-toggleable__content {max-height: 200px;max-width: 100%;overflow: auto;}#sk-30498c6a-b0ea-40a3-a1f5-2163238375aa input.sk-toggleable__control:checked~label.sk-toggleable__label-arrow:before {content: \"▾\";}#sk-30498c6a-b0ea-40a3-a1f5-2163238375aa div.sk-estimator input.sk-toggleable__control:checked~label.sk-toggleable__label {background-color: #d4ebff;}#sk-30498c6a-b0ea-40a3-a1f5-2163238375aa div.sk-label input.sk-toggleable__control:checked~label.sk-toggleable__label {background-color: #d4ebff;}#sk-30498c6a-b0ea-40a3-a1f5-2163238375aa input.sk-hidden--visually {border: 0;clip: rect(1px 1px 1px 1px);clip: rect(1px, 1px, 1px, 1px);height: 1px;margin: -1px;overflow: hidden;padding: 0;position: absolute;width: 1px;}#sk-30498c6a-b0ea-40a3-a1f5-2163238375aa div.sk-estimator {font-family: monospace;background-color: #f0f8ff;border: 1px dotted black;border-radius: 0.25em;box-sizing: border-box;margin-bottom: 0.5em;}#sk-30498c6a-b0ea-40a3-a1f5-2163238375aa div.sk-estimator:hover {background-color: #d4ebff;}#sk-30498c6a-b0ea-40a3-a1f5-2163238375aa div.sk-parallel-item::after {content: \"\";width: 100%;border-bottom: 1px solid gray;flex-grow: 1;}#sk-30498c6a-b0ea-40a3-a1f5-2163238375aa div.sk-label:hover label.sk-toggleable__label {background-color: #d4ebff;}#sk-30498c6a-b0ea-40a3-a1f5-2163238375aa div.sk-serial::before {content: \"\";position: absolute;border-left: 1px solid gray;box-sizing: border-box;top: 2em;bottom: 0;left: 50%;}#sk-30498c6a-b0ea-40a3-a1f5-2163238375aa div.sk-serial {display: flex;flex-direction: column;align-items: center;background-color: white;padding-right: 0.2em;padding-left: 0.2em;}#sk-30498c6a-b0ea-40a3-a1f5-2163238375aa div.sk-item {z-index: 1;}#sk-30498c6a-b0ea-40a3-a1f5-2163238375aa div.sk-parallel {display: flex;align-items: stretch;justify-content: center;background-color: white;}#sk-30498c6a-b0ea-40a3-a1f5-2163238375aa div.sk-parallel::before {content: \"\";position: absolute;border-left: 1px solid gray;box-sizing: border-box;top: 2em;bottom: 0;left: 50%;}#sk-30498c6a-b0ea-40a3-a1f5-2163238375aa div.sk-parallel-item {display: flex;flex-direction: column;position: relative;background-color: white;}#sk-30498c6a-b0ea-40a3-a1f5-2163238375aa div.sk-parallel-item:first-child::after {align-self: flex-end;width: 50%;}#sk-30498c6a-b0ea-40a3-a1f5-2163238375aa div.sk-parallel-item:last-child::after {align-self: flex-start;width: 50%;}#sk-30498c6a-b0ea-40a3-a1f5-2163238375aa div.sk-parallel-item:only-child::after {width: 0;}#sk-30498c6a-b0ea-40a3-a1f5-2163238375aa div.sk-dashed-wrapped {border: 1px dashed gray;margin: 0 0.4em 0.5em 0.4em;box-sizing: border-box;padding-bottom: 0.4em;background-color: white;position: relative;}#sk-30498c6a-b0ea-40a3-a1f5-2163238375aa div.sk-label label {font-family: monospace;font-weight: bold;background-color: white;display: inline-block;line-height: 1.2em;}#sk-30498c6a-b0ea-40a3-a1f5-2163238375aa div.sk-label-container {position: relative;z-index: 2;text-align: center;}#sk-30498c6a-b0ea-40a3-a1f5-2163238375aa div.sk-container {/* jupyter's `normalize.less` sets `[hidden] { display: none; }` but bootstrap.min.css set `[hidden] { display: none !important; }` so we also need the `!important` here to be able to override the default hidden behavior on the sphinx rendered scikit-learn.org. See: https://github.com/scikit-learn/scikit-learn/issues/21755 */display: inline-block !important;position: relative;}#sk-30498c6a-b0ea-40a3-a1f5-2163238375aa div.sk-text-repr-fallback {display: none;}</style><div id=\"sk-30498c6a-b0ea-40a3-a1f5-2163238375aa\" class=\"sk-top-container\"><div class=\"sk-text-repr-fallback\"><pre>GridSearchCV(cv=10,\n",
       "             estimator=Pipeline(steps=[(&#x27;tfidf&#x27;, TfidfVectorizer()),\n",
       "                                       (&#x27;norm&#x27;, Normalizer()),\n",
       "                                       (&#x27;model&#x27;, SGDClassifier())]),\n",
       "             param_grid={&#x27;model__alpha&#x27;: [0.001, 0.0001],\n",
       "                         &#x27;model__penalty&#x27;: [&#x27;l1&#x27;, &#x27;l2&#x27;],\n",
       "                         &#x27;tfidf__max_df&#x27;: [0.8, 0.9],\n",
       "                         &#x27;tfidf__min_df&#x27;: [2, 4, 5],\n",
       "                         &#x27;tfidf__ngram_range&#x27;: [(1, 1), (1, 2)]},\n",
       "             scoring=make_scorer(f1_score, average=macro))</pre><b>Please rerun this cell to show the HTML repr or trust the notebook.</b></div><div class=\"sk-container\" hidden><div class=\"sk-item sk-dashed-wrapped\"><div class=\"sk-label-container\"><div class=\"sk-label sk-toggleable\"><input class=\"sk-toggleable__control sk-hidden--visually\" id=\"61552c4a-8e35-475d-ad97-2cf2154f1514\" type=\"checkbox\" ><label for=\"61552c4a-8e35-475d-ad97-2cf2154f1514\" class=\"sk-toggleable__label sk-toggleable__label-arrow\">GridSearchCV</label><div class=\"sk-toggleable__content\"><pre>GridSearchCV(cv=10,\n",
       "             estimator=Pipeline(steps=[(&#x27;tfidf&#x27;, TfidfVectorizer()),\n",
       "                                       (&#x27;norm&#x27;, Normalizer()),\n",
       "                                       (&#x27;model&#x27;, SGDClassifier())]),\n",
       "             param_grid={&#x27;model__alpha&#x27;: [0.001, 0.0001],\n",
       "                         &#x27;model__penalty&#x27;: [&#x27;l1&#x27;, &#x27;l2&#x27;],\n",
       "                         &#x27;tfidf__max_df&#x27;: [0.8, 0.9],\n",
       "                         &#x27;tfidf__min_df&#x27;: [2, 4, 5],\n",
       "                         &#x27;tfidf__ngram_range&#x27;: [(1, 1), (1, 2)]},\n",
       "             scoring=make_scorer(f1_score, average=macro))</pre></div></div></div><div class=\"sk-parallel\"><div class=\"sk-parallel-item\"><div class=\"sk-item\"><div class=\"sk-serial\"><div class=\"sk-item\"><div class=\"sk-serial\"><div class=\"sk-item\"><div class=\"sk-estimator sk-toggleable\"><input class=\"sk-toggleable__control sk-hidden--visually\" id=\"a18e9a42-72e0-490a-b19a-8009ed275b8b\" type=\"checkbox\" ><label for=\"a18e9a42-72e0-490a-b19a-8009ed275b8b\" class=\"sk-toggleable__label sk-toggleable__label-arrow\">TfidfVectorizer</label><div class=\"sk-toggleable__content\"><pre>TfidfVectorizer()</pre></div></div></div><div class=\"sk-item\"><div class=\"sk-estimator sk-toggleable\"><input class=\"sk-toggleable__control sk-hidden--visually\" id=\"a86d0d05-9eb2-4487-9af8-ce40f3cf9f09\" type=\"checkbox\" ><label for=\"a86d0d05-9eb2-4487-9af8-ce40f3cf9f09\" class=\"sk-toggleable__label sk-toggleable__label-arrow\">Normalizer</label><div class=\"sk-toggleable__content\"><pre>Normalizer()</pre></div></div></div><div class=\"sk-item\"><div class=\"sk-estimator sk-toggleable\"><input class=\"sk-toggleable__control sk-hidden--visually\" id=\"f8742f9f-bc74-4500-b456-1ee1e3982f1a\" type=\"checkbox\" ><label for=\"f8742f9f-bc74-4500-b456-1ee1e3982f1a\" class=\"sk-toggleable__label sk-toggleable__label-arrow\">SGDClassifier</label><div class=\"sk-toggleable__content\"><pre>SGDClassifier()</pre></div></div></div></div></div></div></div></div></div></div></div></div>"
      ],
      "text/plain": [
       "GridSearchCV(cv=10,\n",
       "             estimator=Pipeline(steps=[('tfidf', TfidfVectorizer()),\n",
       "                                       ('norm', Normalizer()),\n",
       "                                       ('model', SGDClassifier())]),\n",
       "             param_grid={'model__alpha': [0.001, 0.0001],\n",
       "                         'model__penalty': ['l1', 'l2'],\n",
       "                         'tfidf__max_df': [0.8, 0.9],\n",
       "                         'tfidf__min_df': [2, 4, 5],\n",
       "                         'tfidf__ngram_range': [(1, 1), (1, 2)]},\n",
       "             scoring=make_scorer(f1_score, average=macro))"
      ]
     },
     "execution_count": 17,
     "metadata": {},
     "output_type": "execute_result"
    },
    {
     "name": "stdout",
     "output_type": "stream",
     "text": [
      "The best score of the model is:  0.713\n",
      "The best estimator of the model is:  Pipeline(steps=[('tfidf',\n",
      "                 TfidfVectorizer(max_df=0.8, min_df=5, ngram_range=(1, 2))),\n",
      "                ('norm', Normalizer()),\n",
      "                ('model', SGDClassifier(penalty='l1'))])\n"
     ]
    },
    {
     "data": {
      "text/html": [
       "<style>#sk-d875e35e-7dba-4702-a2e0-f6fdedad601b {color: black;background-color: white;}#sk-d875e35e-7dba-4702-a2e0-f6fdedad601b pre{padding: 0;}#sk-d875e35e-7dba-4702-a2e0-f6fdedad601b div.sk-toggleable {background-color: white;}#sk-d875e35e-7dba-4702-a2e0-f6fdedad601b label.sk-toggleable__label {cursor: pointer;display: block;width: 100%;margin-bottom: 0;padding: 0.3em;box-sizing: border-box;text-align: center;}#sk-d875e35e-7dba-4702-a2e0-f6fdedad601b label.sk-toggleable__label-arrow:before {content: \"▸\";float: left;margin-right: 0.25em;color: #696969;}#sk-d875e35e-7dba-4702-a2e0-f6fdedad601b label.sk-toggleable__label-arrow:hover:before {color: black;}#sk-d875e35e-7dba-4702-a2e0-f6fdedad601b div.sk-estimator:hover label.sk-toggleable__label-arrow:before {color: black;}#sk-d875e35e-7dba-4702-a2e0-f6fdedad601b div.sk-toggleable__content {max-height: 0;max-width: 0;overflow: hidden;text-align: left;background-color: #f0f8ff;}#sk-d875e35e-7dba-4702-a2e0-f6fdedad601b div.sk-toggleable__content pre {margin: 0.2em;color: black;border-radius: 0.25em;background-color: #f0f8ff;}#sk-d875e35e-7dba-4702-a2e0-f6fdedad601b input.sk-toggleable__control:checked~div.sk-toggleable__content {max-height: 200px;max-width: 100%;overflow: auto;}#sk-d875e35e-7dba-4702-a2e0-f6fdedad601b input.sk-toggleable__control:checked~label.sk-toggleable__label-arrow:before {content: \"▾\";}#sk-d875e35e-7dba-4702-a2e0-f6fdedad601b div.sk-estimator input.sk-toggleable__control:checked~label.sk-toggleable__label {background-color: #d4ebff;}#sk-d875e35e-7dba-4702-a2e0-f6fdedad601b div.sk-label input.sk-toggleable__control:checked~label.sk-toggleable__label {background-color: #d4ebff;}#sk-d875e35e-7dba-4702-a2e0-f6fdedad601b input.sk-hidden--visually {border: 0;clip: rect(1px 1px 1px 1px);clip: rect(1px, 1px, 1px, 1px);height: 1px;margin: -1px;overflow: hidden;padding: 0;position: absolute;width: 1px;}#sk-d875e35e-7dba-4702-a2e0-f6fdedad601b div.sk-estimator {font-family: monospace;background-color: #f0f8ff;border: 1px dotted black;border-radius: 0.25em;box-sizing: border-box;margin-bottom: 0.5em;}#sk-d875e35e-7dba-4702-a2e0-f6fdedad601b div.sk-estimator:hover {background-color: #d4ebff;}#sk-d875e35e-7dba-4702-a2e0-f6fdedad601b div.sk-parallel-item::after {content: \"\";width: 100%;border-bottom: 1px solid gray;flex-grow: 1;}#sk-d875e35e-7dba-4702-a2e0-f6fdedad601b div.sk-label:hover label.sk-toggleable__label {background-color: #d4ebff;}#sk-d875e35e-7dba-4702-a2e0-f6fdedad601b div.sk-serial::before {content: \"\";position: absolute;border-left: 1px solid gray;box-sizing: border-box;top: 2em;bottom: 0;left: 50%;}#sk-d875e35e-7dba-4702-a2e0-f6fdedad601b div.sk-serial {display: flex;flex-direction: column;align-items: center;background-color: white;padding-right: 0.2em;padding-left: 0.2em;}#sk-d875e35e-7dba-4702-a2e0-f6fdedad601b div.sk-item {z-index: 1;}#sk-d875e35e-7dba-4702-a2e0-f6fdedad601b div.sk-parallel {display: flex;align-items: stretch;justify-content: center;background-color: white;}#sk-d875e35e-7dba-4702-a2e0-f6fdedad601b div.sk-parallel::before {content: \"\";position: absolute;border-left: 1px solid gray;box-sizing: border-box;top: 2em;bottom: 0;left: 50%;}#sk-d875e35e-7dba-4702-a2e0-f6fdedad601b div.sk-parallel-item {display: flex;flex-direction: column;position: relative;background-color: white;}#sk-d875e35e-7dba-4702-a2e0-f6fdedad601b div.sk-parallel-item:first-child::after {align-self: flex-end;width: 50%;}#sk-d875e35e-7dba-4702-a2e0-f6fdedad601b div.sk-parallel-item:last-child::after {align-self: flex-start;width: 50%;}#sk-d875e35e-7dba-4702-a2e0-f6fdedad601b div.sk-parallel-item:only-child::after {width: 0;}#sk-d875e35e-7dba-4702-a2e0-f6fdedad601b div.sk-dashed-wrapped {border: 1px dashed gray;margin: 0 0.4em 0.5em 0.4em;box-sizing: border-box;padding-bottom: 0.4em;background-color: white;position: relative;}#sk-d875e35e-7dba-4702-a2e0-f6fdedad601b div.sk-label label {font-family: monospace;font-weight: bold;background-color: white;display: inline-block;line-height: 1.2em;}#sk-d875e35e-7dba-4702-a2e0-f6fdedad601b div.sk-label-container {position: relative;z-index: 2;text-align: center;}#sk-d875e35e-7dba-4702-a2e0-f6fdedad601b div.sk-container {/* jupyter's `normalize.less` sets `[hidden] { display: none; }` but bootstrap.min.css set `[hidden] { display: none !important; }` so we also need the `!important` here to be able to override the default hidden behavior on the sphinx rendered scikit-learn.org. See: https://github.com/scikit-learn/scikit-learn/issues/21755 */display: inline-block !important;position: relative;}#sk-d875e35e-7dba-4702-a2e0-f6fdedad601b div.sk-text-repr-fallback {display: none;}</style><div id=\"sk-d875e35e-7dba-4702-a2e0-f6fdedad601b\" class=\"sk-top-container\"><div class=\"sk-text-repr-fallback\"><pre>GridSearchCV(cv=10,\n",
       "             estimator=Pipeline(steps=[(&#x27;tfidf&#x27;, TfidfVectorizer()),\n",
       "                                       (&#x27;norm&#x27;, Normalizer()),\n",
       "                                       (&#x27;model&#x27;, KNeighborsClassifier())]),\n",
       "             param_grid={&#x27;model__leaf_size&#x27;: [10, 20, 30],\n",
       "                         &#x27;model__metric&#x27;: [&#x27;euclidean&#x27;, &#x27;manhattan&#x27;,\n",
       "                                           &#x27;chebyshev&#x27;],\n",
       "                         &#x27;model__n_neighbors&#x27;: [3, 5, 7],\n",
       "                         &#x27;tfidf__max_df&#x27;: [0.8, 0.9],\n",
       "                         &#x27;tfidf__min_df&#x27;: [2, 4, 5],\n",
       "                         &#x27;tfidf__ngram_range&#x27;: [(1, 1), (1, 2)]},\n",
       "             scoring=make_scorer(f1_score, average=macro))</pre><b>Please rerun this cell to show the HTML repr or trust the notebook.</b></div><div class=\"sk-container\" hidden><div class=\"sk-item sk-dashed-wrapped\"><div class=\"sk-label-container\"><div class=\"sk-label sk-toggleable\"><input class=\"sk-toggleable__control sk-hidden--visually\" id=\"2fa9c714-04e4-4f2b-941e-ce53bacf38ba\" type=\"checkbox\" ><label for=\"2fa9c714-04e4-4f2b-941e-ce53bacf38ba\" class=\"sk-toggleable__label sk-toggleable__label-arrow\">GridSearchCV</label><div class=\"sk-toggleable__content\"><pre>GridSearchCV(cv=10,\n",
       "             estimator=Pipeline(steps=[(&#x27;tfidf&#x27;, TfidfVectorizer()),\n",
       "                                       (&#x27;norm&#x27;, Normalizer()),\n",
       "                                       (&#x27;model&#x27;, KNeighborsClassifier())]),\n",
       "             param_grid={&#x27;model__leaf_size&#x27;: [10, 20, 30],\n",
       "                         &#x27;model__metric&#x27;: [&#x27;euclidean&#x27;, &#x27;manhattan&#x27;,\n",
       "                                           &#x27;chebyshev&#x27;],\n",
       "                         &#x27;model__n_neighbors&#x27;: [3, 5, 7],\n",
       "                         &#x27;tfidf__max_df&#x27;: [0.8, 0.9],\n",
       "                         &#x27;tfidf__min_df&#x27;: [2, 4, 5],\n",
       "                         &#x27;tfidf__ngram_range&#x27;: [(1, 1), (1, 2)]},\n",
       "             scoring=make_scorer(f1_score, average=macro))</pre></div></div></div><div class=\"sk-parallel\"><div class=\"sk-parallel-item\"><div class=\"sk-item\"><div class=\"sk-serial\"><div class=\"sk-item\"><div class=\"sk-serial\"><div class=\"sk-item\"><div class=\"sk-estimator sk-toggleable\"><input class=\"sk-toggleable__control sk-hidden--visually\" id=\"8204ba8e-be03-4c95-be4b-65c12bc9fd01\" type=\"checkbox\" ><label for=\"8204ba8e-be03-4c95-be4b-65c12bc9fd01\" class=\"sk-toggleable__label sk-toggleable__label-arrow\">TfidfVectorizer</label><div class=\"sk-toggleable__content\"><pre>TfidfVectorizer()</pre></div></div></div><div class=\"sk-item\"><div class=\"sk-estimator sk-toggleable\"><input class=\"sk-toggleable__control sk-hidden--visually\" id=\"e547e98b-710f-4cc7-8641-7ca35f551d44\" type=\"checkbox\" ><label for=\"e547e98b-710f-4cc7-8641-7ca35f551d44\" class=\"sk-toggleable__label sk-toggleable__label-arrow\">Normalizer</label><div class=\"sk-toggleable__content\"><pre>Normalizer()</pre></div></div></div><div class=\"sk-item\"><div class=\"sk-estimator sk-toggleable\"><input class=\"sk-toggleable__control sk-hidden--visually\" id=\"ca700ad4-5a31-423f-963f-a07a48d03186\" type=\"checkbox\" ><label for=\"ca700ad4-5a31-423f-963f-a07a48d03186\" class=\"sk-toggleable__label sk-toggleable__label-arrow\">KNeighborsClassifier</label><div class=\"sk-toggleable__content\"><pre>KNeighborsClassifier()</pre></div></div></div></div></div></div></div></div></div></div></div></div>"
      ],
      "text/plain": [
       "GridSearchCV(cv=10,\n",
       "             estimator=Pipeline(steps=[('tfidf', TfidfVectorizer()),\n",
       "                                       ('norm', Normalizer()),\n",
       "                                       ('model', KNeighborsClassifier())]),\n",
       "             param_grid={'model__leaf_size': [10, 20, 30],\n",
       "                         'model__metric': ['euclidean', 'manhattan',\n",
       "                                           'chebyshev'],\n",
       "                         'model__n_neighbors': [3, 5, 7],\n",
       "                         'tfidf__max_df': [0.8, 0.9],\n",
       "                         'tfidf__min_df': [2, 4, 5],\n",
       "                         'tfidf__ngram_range': [(1, 1), (1, 2)]},\n",
       "             scoring=make_scorer(f1_score, average=macro))"
      ]
     },
     "execution_count": 17,
     "metadata": {},
     "output_type": "execute_result"
    },
    {
     "name": "stdout",
     "output_type": "stream",
     "text": [
      "The best score of the model is:  0.613\n",
      "The best estimator of the model is:  Pipeline(steps=[('tfidf',\n",
      "                 TfidfVectorizer(max_df=0.9, min_df=2, ngram_range=(1, 2))),\n",
      "                ('norm', Normalizer()),\n",
      "                ('model',\n",
      "                 KNeighborsClassifier(leaf_size=10, metric='euclidean'))])\n"
     ]
    }
   ],
   "source": [
    "for name, model in models:\n",
    "    pipeline = Pipeline([\n",
    "        ('tfidf', TfidfVectorizer()),\n",
    "        ('norm', preprocessing.Normalizer()),\n",
    "        ('model', model)\n",
    "    ])\n",
    "\n",
    "    params = set_params()\n",
    "     \n",
    "    set_config(display='diagram')      \n",
    "                                         \n",
    "                      \n",
    "    grid = GridSearchCV(pipeline, params, scoring=make_scorer(f1_score, average='macro'), cv=10)\n",
    "    grid.fit(X_train, y_train)\n",
    "\n",
    "    print(\"The best score of the model is: \", round(grid.best_score_, 3))\n",
    "    print(\"The best estimator of the model is: \", grid.best_estimator_)"
   ]
  },
  {
   "cell_type": "markdown",
   "metadata": {},
   "source": [
    "<div style=\"background-color: lightblue; padding: 10px;\">\n",
    "<font face=\"Fugaz One\" size=3 color='#FF0000'> GitHub does not support well in grid search <br/></font>  \n",
    "<font face=\"Fugaz One\" size=3 color='#00000'> Bellow there is some screen shoots from the jupyter nootbook of the GridSearch's results </font>  \n",
    "    <div/>"
   ]
  },
  {
   "attachments": {
    "%D7%9C%D7%9C%D7%90%20%D7%A9%D7%9D.png": {
     "image/png": "[encoded data removed]"
    }
   },
   "cell_type": "markdown",
   "metadata": {},
   "source": [
    "![%D7%9C%D7%9C%D7%90%20%D7%A9%D7%9D.png](attachment:%D7%9C%D7%9C%D7%90%20%D7%A9%D7%9D.png)\n"
   ]
  },
  {
   "attachments": {
    "22.png": {
     "image/png": "[encoded data removed]"
    }
   },
   "cell_type": "markdown",
   "metadata": {},
   "source": [
    "![22.png](attachment:22.png)"
   ]
  },
  {
   "attachments": {
    "23.png": {
     "image/png": "[encoded data removed]"
    }
   },
   "cell_type": "markdown",
   "metadata": {},
   "source": [
    "![23.png](attachment:23.png)"
   ]
  },
  {
   "cell_type": "code",
   "execution_count": 27,
   "metadata": {},
   "outputs": [
    {
     "data": {
      "image/png": "[encoded data removed]",
      "text/plain": [
       "<Figure size 720x432 with 1 Axes>"
      ]
     },
     "metadata": {
      "needs_background": "light"
     },
     "output_type": "display_data"
    }
   ],
   "source": [
    "f1_scores = {\n",
    "    'Perceptron': 0.726,\n",
    "    'LinearSVC': 0.687,\n",
    "    'DecisionTreeClassifier': 0.648,\n",
    "    'MultinomialNB': 0.526,\n",
    "    'SGDClassifier': 0.713,\n",
    "    'KNeighborsClassifier': 0.613\n",
    "}\n",
    "\n",
    "# Sort models by F1 scores in descending order\n",
    "sorted_models = sorted(f1_scores.items(), key=lambda x: x[1], reverse=True)\n",
    "\n",
    "# Get names and scores of the two models with the highest scores\n",
    "top_models = sorted_models[:2]\n",
    "top_model_names = [model[0] for model in top_models]\n",
    "top_model_scores = [model[1] for model in top_models]\n",
    "\n",
    "model_names = list(f1_scores.keys())\n",
    "f1_values = list(f1_scores.values())\n",
    "\n",
    "plt.figure(figsize=(10, 6))\n",
    "\n",
    "colors = ['green' if model in top_model_names else 'blue' for model in model_names]\n",
    "\n",
    "plt.bar(model_names, f1_values, color=colors)\n",
    "plt.xlabel('Model')\n",
    "plt.ylabel('F1 Score')\n",
    "plt.title('F1 Scores for Different Models')\n",
    "plt.ylim(0, 1.1)\n",
    "plt.xticks(rotation=45)\n",
    "\n",
    "for i, (model, score) in enumerate(f1_scores.items()):\n",
    "    plt.annotate(f'{score:.3f}', (i, score), textcoords=\"offset points\", xytext=(0, 10), ha='center')\n",
    "\n",
    "plt.tight_layout()\n",
    "\n",
    "\n",
    "# Add legend in the right upper corner\n",
    "# Will sign the color of the best model that you can notice whice one was great.\n",
    "plt.legend([\"Best F1 Score\"], loc=\"upper right\")\n",
    "\n",
    "plt.show(); # Tip : if you want to getting rid of all the text before the plot print\n",
    "            # add ';'  to the last line.\n"
   ]
  },
  {
   "cell_type": "code",
   "execution_count": 17,
   "metadata": {
    "scrolled": true
   },
   "outputs": [
    {
     "data": {
      "text/plain": [
       "(753, 2)"
      ]
     },
     "execution_count": 17,
     "metadata": {},
     "output_type": "execute_result"
    }
   ],
   "source": [
    "df_train.shape"
   ]
  },
  {
   "cell_type": "markdown",
   "metadata": {},
   "source": [
    "<div style=\"background-color: lightblue; padding: 10px;\">\n",
    "<font face=\"Fugaz One\" size=3 color='#00000'>As we can see , I have two best models in my opinion<br/> </font>    \n",
    "<font face=\"Fugaz One\" size=3 color='#00000'>1️⃣ 'Perceptron'<br/>2️⃣ 'SGDClassifier' </font>    \n",
    "<div/>"
   ]
  },
  {
   "attachments": {},
   "cell_type": "markdown",
   "metadata": {},
   "source": [
    "\n",
    "<div style=\"background-color: black; padding: 10px; text-align: center;\">\n",
    "        <font face=\"Fugaz One\" size=6 color='#999999'>Assigns Improvements and Experiments.</font>    \n",
    "</div>\n"
   ]
  },
  {
   "cell_type": "markdown",
   "metadata": {},
   "source": [
    "<div style=\"background-color: lightblue; padding: 10px;\">\n",
    "<font face=\"Fugaz One\" size=4 color='#00000'>Now I will try to run the bad models to improve our accuracy. </font>   \n",
    "<div/>"
   ]
  },
  {
   "cell_type": "code",
   "execution_count": 18,
   "metadata": {},
   "outputs": [],
   "source": [
    "bad_models = [\n",
    "    ('LinearSVC', LinearSVC()),\n",
    "    ('DecisionTreeClassifier', DecisionTreeClassifier()),\n",
    "    ('MultinomialNB', MultinomialNB()),\n",
    "    ('KNeighborsClassifier', KNeighborsClassifier())\n",
    "]\n",
    "\n"
   ]
  },
  {
   "cell_type": "code",
   "execution_count": 19,
   "metadata": {},
   "outputs": [],
   "source": [
    "def set_params_bad_models():\n",
    "    if name == 'LinearSVC':\n",
    "        parameters = {'tfidf__ngram_range': [(1, 1), (1, 2)], 'tfidf__min_df' : [1, 2, 3, 4],\n",
    "                      'tfidf__max_df': [0.7, 0.8, 0.9],'model__C': [0.01, 0.1, 1],\n",
    "                      'model__penalty': ['l2', 'l1']}\n",
    "  \n",
    "    elif name == 'DecisionTreeClassifier':\n",
    "        parameters = {'tfidf__ngram_range': [(1, 1), (1, 2)], 'tfidf__min_df' : [1, 2, 3, 4],\n",
    "                      'tfidf__max_df': [0.7, 0.8, 0.9], 'model__max_depth': [3, 5, 7, 10],\n",
    "                      'model__min_samples_leaf': [3, 5, 7, 10]}\n",
    "\n",
    "    \n",
    "    elif name == 'MultinomialNB':\n",
    "        parameters = {'tfidf__ngram_range': [(1, 1), (1, 2)], 'tfidf__min_df' : [1, 2, 3, 4],\n",
    "                      'tfidf__max_df': [0.7, 0.8, 0.9], 'model__alpha': [0.001, 0.01, 0.1]}\n",
    "\n",
    "\n",
    "    elif name == 'KNeighborsClassifier':\n",
    "        parameters = {'tfidf__ngram_range': [(1, 1), (1, 2)], 'tfidf__min_df' : [1, 2, 3, 4], \n",
    "                      'tfidf__max_df': [0.7, 0.8, 0.9], 'model__n_neighbors': [5, 10, 15],\n",
    "                      'model__metric': ['euclidean', 'manhattan', 'chebyshev'],\n",
    "                      'model__leaf_size': [5, 10, 15]}\n",
    "    return parameters\n"
   ]
  },
  {
   "cell_type": "code",
   "execution_count": 20,
   "metadata": {
    "scrolled": false
   },
   "outputs": [
    {
     "data": {
      "text/html": [
       "<style>#sk-06c27cc7-4ed0-457b-83a7-9283b27b6720 {color: black;background-color: white;}#sk-06c27cc7-4ed0-457b-83a7-9283b27b6720 pre{padding: 0;}#sk-06c27cc7-4ed0-457b-83a7-9283b27b6720 div.sk-toggleable {background-color: white;}#sk-06c27cc7-4ed0-457b-83a7-9283b27b6720 label.sk-toggleable__label {cursor: pointer;display: block;width: 100%;margin-bottom: 0;padding: 0.3em;box-sizing: border-box;text-align: center;}#sk-06c27cc7-4ed0-457b-83a7-9283b27b6720 label.sk-toggleable__label-arrow:before {content: \"▸\";float: left;margin-right: 0.25em;color: #696969;}#sk-06c27cc7-4ed0-457b-83a7-9283b27b6720 label.sk-toggleable__label-arrow:hover:before {color: black;}#sk-06c27cc7-4ed0-457b-83a7-9283b27b6720 div.sk-estimator:hover label.sk-toggleable__label-arrow:before {color: black;}#sk-06c27cc7-4ed0-457b-83a7-9283b27b6720 div.sk-toggleable__content {max-height: 0;max-width: 0;overflow: hidden;text-align: left;background-color: #f0f8ff;}#sk-06c27cc7-4ed0-457b-83a7-9283b27b6720 div.sk-toggleable__content pre {margin: 0.2em;color: black;border-radius: 0.25em;background-color: #f0f8ff;}#sk-06c27cc7-4ed0-457b-83a7-9283b27b6720 input.sk-toggleable__control:checked~div.sk-toggleable__content {max-height: 200px;max-width: 100%;overflow: auto;}#sk-06c27cc7-4ed0-457b-83a7-9283b27b6720 input.sk-toggleable__control:checked~label.sk-toggleable__label-arrow:before {content: \"▾\";}#sk-06c27cc7-4ed0-457b-83a7-9283b27b6720 div.sk-estimator input.sk-toggleable__control:checked~label.sk-toggleable__label {background-color: #d4ebff;}#sk-06c27cc7-4ed0-457b-83a7-9283b27b6720 div.sk-label input.sk-toggleable__control:checked~label.sk-toggleable__label {background-color: #d4ebff;}#sk-06c27cc7-4ed0-457b-83a7-9283b27b6720 input.sk-hidden--visually {border: 0;clip: rect(1px 1px 1px 1px);clip: rect(1px, 1px, 1px, 1px);height: 1px;margin: -1px;overflow: hidden;padding: 0;position: absolute;width: 1px;}#sk-06c27cc7-4ed0-457b-83a7-9283b27b6720 div.sk-estimator {font-family: monospace;background-color: #f0f8ff;border: 1px dotted black;border-radius: 0.25em;box-sizing: border-box;margin-bottom: 0.5em;}#sk-06c27cc7-4ed0-457b-83a7-9283b27b6720 div.sk-estimator:hover {background-color: #d4ebff;}#sk-06c27cc7-4ed0-457b-83a7-9283b27b6720 div.sk-parallel-item::after {content: \"\";width: 100%;border-bottom: 1px solid gray;flex-grow: 1;}#sk-06c27cc7-4ed0-457b-83a7-9283b27b6720 div.sk-label:hover label.sk-toggleable__label {background-color: #d4ebff;}#sk-06c27cc7-4ed0-457b-83a7-9283b27b6720 div.sk-serial::before {content: \"\";position: absolute;border-left: 1px solid gray;box-sizing: border-box;top: 2em;bottom: 0;left: 50%;}#sk-06c27cc7-4ed0-457b-83a7-9283b27b6720 div.sk-serial {display: flex;flex-direction: column;align-items: center;background-color: white;padding-right: 0.2em;padding-left: 0.2em;}#sk-06c27cc7-4ed0-457b-83a7-9283b27b6720 div.sk-item {z-index: 1;}#sk-06c27cc7-4ed0-457b-83a7-9283b27b6720 div.sk-parallel {display: flex;align-items: stretch;justify-content: center;background-color: white;}#sk-06c27cc7-4ed0-457b-83a7-9283b27b6720 div.sk-parallel::before {content: \"\";position: absolute;border-left: 1px solid gray;box-sizing: border-box;top: 2em;bottom: 0;left: 50%;}#sk-06c27cc7-4ed0-457b-83a7-9283b27b6720 div.sk-parallel-item {display: flex;flex-direction: column;position: relative;background-color: white;}#sk-06c27cc7-4ed0-457b-83a7-9283b27b6720 div.sk-parallel-item:first-child::after {align-self: flex-end;width: 50%;}#sk-06c27cc7-4ed0-457b-83a7-9283b27b6720 div.sk-parallel-item:last-child::after {align-self: flex-start;width: 50%;}#sk-06c27cc7-4ed0-457b-83a7-9283b27b6720 div.sk-parallel-item:only-child::after {width: 0;}#sk-06c27cc7-4ed0-457b-83a7-9283b27b6720 div.sk-dashed-wrapped {border: 1px dashed gray;margin: 0 0.4em 0.5em 0.4em;box-sizing: border-box;padding-bottom: 0.4em;background-color: white;position: relative;}#sk-06c27cc7-4ed0-457b-83a7-9283b27b6720 div.sk-label label {font-family: monospace;font-weight: bold;background-color: white;display: inline-block;line-height: 1.2em;}#sk-06c27cc7-4ed0-457b-83a7-9283b27b6720 div.sk-label-container {position: relative;z-index: 2;text-align: center;}#sk-06c27cc7-4ed0-457b-83a7-9283b27b6720 div.sk-container {/* jupyter's `normalize.less` sets `[hidden] { display: none; }` but bootstrap.min.css set `[hidden] { display: none !important; }` so we also need the `!important` here to be able to override the default hidden behavior on the sphinx rendered scikit-learn.org. See: https://github.com/scikit-learn/scikit-learn/issues/21755 */display: inline-block !important;position: relative;}#sk-06c27cc7-4ed0-457b-83a7-9283b27b6720 div.sk-text-repr-fallback {display: none;}</style><div id=\"sk-06c27cc7-4ed0-457b-83a7-9283b27b6720\" class=\"sk-top-container\"><div class=\"sk-text-repr-fallback\"><pre>GridSearchCV(cv=10,\n",
       "             estimator=Pipeline(steps=[(&#x27;tfidf&#x27;, TfidfVectorizer()),\n",
       "                                       (&#x27;norm&#x27;, Normalizer()),\n",
       "                                       (&#x27;model&#x27;, LinearSVC())]),\n",
       "             param_grid={&#x27;model__C&#x27;: [0.01, 0.1, 1],\n",
       "                         &#x27;model__penalty&#x27;: [&#x27;l2&#x27;, &#x27;l1&#x27;],\n",
       "                         &#x27;tfidf__max_df&#x27;: [0.7, 0.8, 0.9],\n",
       "                         &#x27;tfidf__min_df&#x27;: [1, 2, 3, 4],\n",
       "                         &#x27;tfidf__ngram_range&#x27;: [(1, 1), (1, 2)]},\n",
       "             scoring=make_scorer(f1_score, average=macro))</pre><b>Please rerun this cell to show the HTML repr or trust the notebook.</b></div><div class=\"sk-container\" hidden><div class=\"sk-item sk-dashed-wrapped\"><div class=\"sk-label-container\"><div class=\"sk-label sk-toggleable\"><input class=\"sk-toggleable__control sk-hidden--visually\" id=\"03bc7334-0aac-4aff-b21d-f9791d3df91b\" type=\"checkbox\" ><label for=\"03bc7334-0aac-4aff-b21d-f9791d3df91b\" class=\"sk-toggleable__label sk-toggleable__label-arrow\">GridSearchCV</label><div class=\"sk-toggleable__content\"><pre>GridSearchCV(cv=10,\n",
       "             estimator=Pipeline(steps=[(&#x27;tfidf&#x27;, TfidfVectorizer()),\n",
       "                                       (&#x27;norm&#x27;, Normalizer()),\n",
       "                                       (&#x27;model&#x27;, LinearSVC())]),\n",
       "             param_grid={&#x27;model__C&#x27;: [0.01, 0.1, 1],\n",
       "                         &#x27;model__penalty&#x27;: [&#x27;l2&#x27;, &#x27;l1&#x27;],\n",
       "                         &#x27;tfidf__max_df&#x27;: [0.7, 0.8, 0.9],\n",
       "                         &#x27;tfidf__min_df&#x27;: [1, 2, 3, 4],\n",
       "                         &#x27;tfidf__ngram_range&#x27;: [(1, 1), (1, 2)]},\n",
       "             scoring=make_scorer(f1_score, average=macro))</pre></div></div></div><div class=\"sk-parallel\"><div class=\"sk-parallel-item\"><div class=\"sk-item\"><div class=\"sk-serial\"><div class=\"sk-item\"><div class=\"sk-serial\"><div class=\"sk-item\"><div class=\"sk-estimator sk-toggleable\"><input class=\"sk-toggleable__control sk-hidden--visually\" id=\"81a000a4-5b93-42d7-876d-3f74dbfd2bcd\" type=\"checkbox\" ><label for=\"81a000a4-5b93-42d7-876d-3f74dbfd2bcd\" class=\"sk-toggleable__label sk-toggleable__label-arrow\">TfidfVectorizer</label><div class=\"sk-toggleable__content\"><pre>TfidfVectorizer()</pre></div></div></div><div class=\"sk-item\"><div class=\"sk-estimator sk-toggleable\"><input class=\"sk-toggleable__control sk-hidden--visually\" id=\"58f3dac9-35b3-4eb4-bff9-2f7898388fba\" type=\"checkbox\" ><label for=\"58f3dac9-35b3-4eb4-bff9-2f7898388fba\" class=\"sk-toggleable__label sk-toggleable__label-arrow\">Normalizer</label><div class=\"sk-toggleable__content\"><pre>Normalizer()</pre></div></div></div><div class=\"sk-item\"><div class=\"sk-estimator sk-toggleable\"><input class=\"sk-toggleable__control sk-hidden--visually\" id=\"361408c9-0a6a-402d-8858-a3233ee1df48\" type=\"checkbox\" ><label for=\"361408c9-0a6a-402d-8858-a3233ee1df48\" class=\"sk-toggleable__label sk-toggleable__label-arrow\">LinearSVC</label><div class=\"sk-toggleable__content\"><pre>LinearSVC()</pre></div></div></div></div></div></div></div></div></div></div></div></div>"
      ],
      "text/plain": [
       "GridSearchCV(cv=10,\n",
       "             estimator=Pipeline(steps=[('tfidf', TfidfVectorizer()),\n",
       "                                       ('norm', Normalizer()),\n",
       "                                       ('model', LinearSVC())]),\n",
       "             param_grid={'model__C': [0.01, 0.1, 1],\n",
       "                         'model__penalty': ['l2', 'l1'],\n",
       "                         'tfidf__max_df': [0.7, 0.8, 0.9],\n",
       "                         'tfidf__min_df': [1, 2, 3, 4],\n",
       "                         'tfidf__ngram_range': [(1, 1), (1, 2)]},\n",
       "             scoring=make_scorer(f1_score, average=macro))"
      ]
     },
     "execution_count": 20,
     "metadata": {},
     "output_type": "execute_result"
    },
    {
     "name": "stdout",
     "output_type": "stream",
     "text": [
      "The best score of the model is:  0.606\n",
      "The best estimator of the model is:  Pipeline(steps=[('tfidf', TfidfVectorizer(max_df=0.9, min_df=4)),\n",
      "                ('norm', Normalizer()), ('model', LinearSVC(C=1))])\n"
     ]
    },
    {
     "data": {
      "text/html": [
       "<style>#sk-765a143e-8a21-4815-b46e-d919a21b1d2e {color: black;background-color: white;}#sk-765a143e-8a21-4815-b46e-d919a21b1d2e pre{padding: 0;}#sk-765a143e-8a21-4815-b46e-d919a21b1d2e div.sk-toggleable {background-color: white;}#sk-765a143e-8a21-4815-b46e-d919a21b1d2e label.sk-toggleable__label {cursor: pointer;display: block;width: 100%;margin-bottom: 0;padding: 0.3em;box-sizing: border-box;text-align: center;}#sk-765a143e-8a21-4815-b46e-d919a21b1d2e label.sk-toggleable__label-arrow:before {content: \"▸\";float: left;margin-right: 0.25em;color: #696969;}#sk-765a143e-8a21-4815-b46e-d919a21b1d2e label.sk-toggleable__label-arrow:hover:before {color: black;}#sk-765a143e-8a21-4815-b46e-d919a21b1d2e div.sk-estimator:hover label.sk-toggleable__label-arrow:before {color: black;}#sk-765a143e-8a21-4815-b46e-d919a21b1d2e div.sk-toggleable__content {max-height: 0;max-width: 0;overflow: hidden;text-align: left;background-color: #f0f8ff;}#sk-765a143e-8a21-4815-b46e-d919a21b1d2e div.sk-toggleable__content pre {margin: 0.2em;color: black;border-radius: 0.25em;background-color: #f0f8ff;}#sk-765a143e-8a21-4815-b46e-d919a21b1d2e input.sk-toggleable__control:checked~div.sk-toggleable__content {max-height: 200px;max-width: 100%;overflow: auto;}#sk-765a143e-8a21-4815-b46e-d919a21b1d2e input.sk-toggleable__control:checked~label.sk-toggleable__label-arrow:before {content: \"▾\";}#sk-765a143e-8a21-4815-b46e-d919a21b1d2e div.sk-estimator input.sk-toggleable__control:checked~label.sk-toggleable__label {background-color: #d4ebff;}#sk-765a143e-8a21-4815-b46e-d919a21b1d2e div.sk-label input.sk-toggleable__control:checked~label.sk-toggleable__label {background-color: #d4ebff;}#sk-765a143e-8a21-4815-b46e-d919a21b1d2e input.sk-hidden--visually {border: 0;clip: rect(1px 1px 1px 1px);clip: rect(1px, 1px, 1px, 1px);height: 1px;margin: -1px;overflow: hidden;padding: 0;position: absolute;width: 1px;}#sk-765a143e-8a21-4815-b46e-d919a21b1d2e div.sk-estimator {font-family: monospace;background-color: #f0f8ff;border: 1px dotted black;border-radius: 0.25em;box-sizing: border-box;margin-bottom: 0.5em;}#sk-765a143e-8a21-4815-b46e-d919a21b1d2e div.sk-estimator:hover {background-color: #d4ebff;}#sk-765a143e-8a21-4815-b46e-d919a21b1d2e div.sk-parallel-item::after {content: \"\";width: 100%;border-bottom: 1px solid gray;flex-grow: 1;}#sk-765a143e-8a21-4815-b46e-d919a21b1d2e div.sk-label:hover label.sk-toggleable__label {background-color: #d4ebff;}#sk-765a143e-8a21-4815-b46e-d919a21b1d2e div.sk-serial::before {content: \"\";position: absolute;border-left: 1px solid gray;box-sizing: border-box;top: 2em;bottom: 0;left: 50%;}#sk-765a143e-8a21-4815-b46e-d919a21b1d2e div.sk-serial {display: flex;flex-direction: column;align-items: center;background-color: white;padding-right: 0.2em;padding-left: 0.2em;}#sk-765a143e-8a21-4815-b46e-d919a21b1d2e div.sk-item {z-index: 1;}#sk-765a143e-8a21-4815-b46e-d919a21b1d2e div.sk-parallel {display: flex;align-items: stretch;justify-content: center;background-color: white;}#sk-765a143e-8a21-4815-b46e-d919a21b1d2e div.sk-parallel::before {content: \"\";position: absolute;border-left: 1px solid gray;box-sizing: border-box;top: 2em;bottom: 0;left: 50%;}#sk-765a143e-8a21-4815-b46e-d919a21b1d2e div.sk-parallel-item {display: flex;flex-direction: column;position: relative;background-color: white;}#sk-765a143e-8a21-4815-b46e-d919a21b1d2e div.sk-parallel-item:first-child::after {align-self: flex-end;width: 50%;}#sk-765a143e-8a21-4815-b46e-d919a21b1d2e div.sk-parallel-item:last-child::after {align-self: flex-start;width: 50%;}#sk-765a143e-8a21-4815-b46e-d919a21b1d2e div.sk-parallel-item:only-child::after {width: 0;}#sk-765a143e-8a21-4815-b46e-d919a21b1d2e div.sk-dashed-wrapped {border: 1px dashed gray;margin: 0 0.4em 0.5em 0.4em;box-sizing: border-box;padding-bottom: 0.4em;background-color: white;position: relative;}#sk-765a143e-8a21-4815-b46e-d919a21b1d2e div.sk-label label {font-family: monospace;font-weight: bold;background-color: white;display: inline-block;line-height: 1.2em;}#sk-765a143e-8a21-4815-b46e-d919a21b1d2e div.sk-label-container {position: relative;z-index: 2;text-align: center;}#sk-765a143e-8a21-4815-b46e-d919a21b1d2e div.sk-container {/* jupyter's `normalize.less` sets `[hidden] { display: none; }` but bootstrap.min.css set `[hidden] { display: none !important; }` so we also need the `!important` here to be able to override the default hidden behavior on the sphinx rendered scikit-learn.org. See: https://github.com/scikit-learn/scikit-learn/issues/21755 */display: inline-block !important;position: relative;}#sk-765a143e-8a21-4815-b46e-d919a21b1d2e div.sk-text-repr-fallback {display: none;}</style><div id=\"sk-765a143e-8a21-4815-b46e-d919a21b1d2e\" class=\"sk-top-container\"><div class=\"sk-text-repr-fallback\"><pre>GridSearchCV(cv=10,\n",
       "             estimator=Pipeline(steps=[(&#x27;tfidf&#x27;, TfidfVectorizer()),\n",
       "                                       (&#x27;norm&#x27;, Normalizer()),\n",
       "                                       (&#x27;model&#x27;, DecisionTreeClassifier())]),\n",
       "             param_grid={&#x27;model__max_depth&#x27;: [3, 5, 7, 10],\n",
       "                         &#x27;model__min_samples_leaf&#x27;: [3, 5, 7, 10],\n",
       "                         &#x27;tfidf__max_df&#x27;: [0.7, 0.8, 0.9],\n",
       "                         &#x27;tfidf__min_df&#x27;: [1, 2, 3, 4],\n",
       "                         &#x27;tfidf__ngram_range&#x27;: [(1, 1), (1, 2)]},\n",
       "             scoring=make_scorer(f1_score, average=macro))</pre><b>Please rerun this cell to show the HTML repr or trust the notebook.</b></div><div class=\"sk-container\" hidden><div class=\"sk-item sk-dashed-wrapped\"><div class=\"sk-label-container\"><div class=\"sk-label sk-toggleable\"><input class=\"sk-toggleable__control sk-hidden--visually\" id=\"4bad3b2a-0e19-4d11-939c-1eb47d3a5186\" type=\"checkbox\" ><label for=\"4bad3b2a-0e19-4d11-939c-1eb47d3a5186\" class=\"sk-toggleable__label sk-toggleable__label-arrow\">GridSearchCV</label><div class=\"sk-toggleable__content\"><pre>GridSearchCV(cv=10,\n",
       "             estimator=Pipeline(steps=[(&#x27;tfidf&#x27;, TfidfVectorizer()),\n",
       "                                       (&#x27;norm&#x27;, Normalizer()),\n",
       "                                       (&#x27;model&#x27;, DecisionTreeClassifier())]),\n",
       "             param_grid={&#x27;model__max_depth&#x27;: [3, 5, 7, 10],\n",
       "                         &#x27;model__min_samples_leaf&#x27;: [3, 5, 7, 10],\n",
       "                         &#x27;tfidf__max_df&#x27;: [0.7, 0.8, 0.9],\n",
       "                         &#x27;tfidf__min_df&#x27;: [1, 2, 3, 4],\n",
       "                         &#x27;tfidf__ngram_range&#x27;: [(1, 1), (1, 2)]},\n",
       "             scoring=make_scorer(f1_score, average=macro))</pre></div></div></div><div class=\"sk-parallel\"><div class=\"sk-parallel-item\"><div class=\"sk-item\"><div class=\"sk-serial\"><div class=\"sk-item\"><div class=\"sk-serial\"><div class=\"sk-item\"><div class=\"sk-estimator sk-toggleable\"><input class=\"sk-toggleable__control sk-hidden--visually\" id=\"75848484-5d16-4c0b-a53d-11f2fceb7798\" type=\"checkbox\" ><label for=\"75848484-5d16-4c0b-a53d-11f2fceb7798\" class=\"sk-toggleable__label sk-toggleable__label-arrow\">TfidfVectorizer</label><div class=\"sk-toggleable__content\"><pre>TfidfVectorizer()</pre></div></div></div><div class=\"sk-item\"><div class=\"sk-estimator sk-toggleable\"><input class=\"sk-toggleable__control sk-hidden--visually\" id=\"1a34cb50-86e7-4cf6-96b7-e37ea1e08e91\" type=\"checkbox\" ><label for=\"1a34cb50-86e7-4cf6-96b7-e37ea1e08e91\" class=\"sk-toggleable__label sk-toggleable__label-arrow\">Normalizer</label><div class=\"sk-toggleable__content\"><pre>Normalizer()</pre></div></div></div><div class=\"sk-item\"><div class=\"sk-estimator sk-toggleable\"><input class=\"sk-toggleable__control sk-hidden--visually\" id=\"d91ab3e5-49ce-437c-9365-c9bf79db5871\" type=\"checkbox\" ><label for=\"d91ab3e5-49ce-437c-9365-c9bf79db5871\" class=\"sk-toggleable__label sk-toggleable__label-arrow\">DecisionTreeClassifier</label><div class=\"sk-toggleable__content\"><pre>DecisionTreeClassifier()</pre></div></div></div></div></div></div></div></div></div></div></div></div>"
      ],
      "text/plain": [
       "GridSearchCV(cv=10,\n",
       "             estimator=Pipeline(steps=[('tfidf', TfidfVectorizer()),\n",
       "                                       ('norm', Normalizer()),\n",
       "                                       ('model', DecisionTreeClassifier())]),\n",
       "             param_grid={'model__max_depth': [3, 5, 7, 10],\n",
       "                         'model__min_samples_leaf': [3, 5, 7, 10],\n",
       "                         'tfidf__max_df': [0.7, 0.8, 0.9],\n",
       "                         'tfidf__min_df': [1, 2, 3, 4],\n",
       "                         'tfidf__ngram_range': [(1, 1), (1, 2)]},\n",
       "             scoring=make_scorer(f1_score, average=macro))"
      ]
     },
     "execution_count": 20,
     "metadata": {},
     "output_type": "execute_result"
    },
    {
     "name": "stdout",
     "output_type": "stream",
     "text": [
      "The best score of the model is:  0.641\n",
      "The best estimator of the model is:  Pipeline(steps=[('tfidf',\n",
      "                 TfidfVectorizer(max_df=0.8, min_df=3, ngram_range=(1, 2))),\n",
      "                ('norm', Normalizer()),\n",
      "                ('model',\n",
      "                 DecisionTreeClassifier(max_depth=10, min_samples_leaf=5))])\n"
     ]
    },
    {
     "data": {
      "text/html": [
       "<style>#sk-e43121b9-bdf1-4c1f-8e3d-19c392944f57 {color: black;background-color: white;}#sk-e43121b9-bdf1-4c1f-8e3d-19c392944f57 pre{padding: 0;}#sk-e43121b9-bdf1-4c1f-8e3d-19c392944f57 div.sk-toggleable {background-color: white;}#sk-e43121b9-bdf1-4c1f-8e3d-19c392944f57 label.sk-toggleable__label {cursor: pointer;display: block;width: 100%;margin-bottom: 0;padding: 0.3em;box-sizing: border-box;text-align: center;}#sk-e43121b9-bdf1-4c1f-8e3d-19c392944f57 label.sk-toggleable__label-arrow:before {content: \"▸\";float: left;margin-right: 0.25em;color: #696969;}#sk-e43121b9-bdf1-4c1f-8e3d-19c392944f57 label.sk-toggleable__label-arrow:hover:before {color: black;}#sk-e43121b9-bdf1-4c1f-8e3d-19c392944f57 div.sk-estimator:hover label.sk-toggleable__label-arrow:before {color: black;}#sk-e43121b9-bdf1-4c1f-8e3d-19c392944f57 div.sk-toggleable__content {max-height: 0;max-width: 0;overflow: hidden;text-align: left;background-color: #f0f8ff;}#sk-e43121b9-bdf1-4c1f-8e3d-19c392944f57 div.sk-toggleable__content pre {margin: 0.2em;color: black;border-radius: 0.25em;background-color: #f0f8ff;}#sk-e43121b9-bdf1-4c1f-8e3d-19c392944f57 input.sk-toggleable__control:checked~div.sk-toggleable__content {max-height: 200px;max-width: 100%;overflow: auto;}#sk-e43121b9-bdf1-4c1f-8e3d-19c392944f57 input.sk-toggleable__control:checked~label.sk-toggleable__label-arrow:before {content: \"▾\";}#sk-e43121b9-bdf1-4c1f-8e3d-19c392944f57 div.sk-estimator input.sk-toggleable__control:checked~label.sk-toggleable__label {background-color: #d4ebff;}#sk-e43121b9-bdf1-4c1f-8e3d-19c392944f57 div.sk-label input.sk-toggleable__control:checked~label.sk-toggleable__label {background-color: #d4ebff;}#sk-e43121b9-bdf1-4c1f-8e3d-19c392944f57 input.sk-hidden--visually {border: 0;clip: rect(1px 1px 1px 1px);clip: rect(1px, 1px, 1px, 1px);height: 1px;margin: -1px;overflow: hidden;padding: 0;position: absolute;width: 1px;}#sk-e43121b9-bdf1-4c1f-8e3d-19c392944f57 div.sk-estimator {font-family: monospace;background-color: #f0f8ff;border: 1px dotted black;border-radius: 0.25em;box-sizing: border-box;margin-bottom: 0.5em;}#sk-e43121b9-bdf1-4c1f-8e3d-19c392944f57 div.sk-estimator:hover {background-color: #d4ebff;}#sk-e43121b9-bdf1-4c1f-8e3d-19c392944f57 div.sk-parallel-item::after {content: \"\";width: 100%;border-bottom: 1px solid gray;flex-grow: 1;}#sk-e43121b9-bdf1-4c1f-8e3d-19c392944f57 div.sk-label:hover label.sk-toggleable__label {background-color: #d4ebff;}#sk-e43121b9-bdf1-4c1f-8e3d-19c392944f57 div.sk-serial::before {content: \"\";position: absolute;border-left: 1px solid gray;box-sizing: border-box;top: 2em;bottom: 0;left: 50%;}#sk-e43121b9-bdf1-4c1f-8e3d-19c392944f57 div.sk-serial {display: flex;flex-direction: column;align-items: center;background-color: white;padding-right: 0.2em;padding-left: 0.2em;}#sk-e43121b9-bdf1-4c1f-8e3d-19c392944f57 div.sk-item {z-index: 1;}#sk-e43121b9-bdf1-4c1f-8e3d-19c392944f57 div.sk-parallel {display: flex;align-items: stretch;justify-content: center;background-color: white;}#sk-e43121b9-bdf1-4c1f-8e3d-19c392944f57 div.sk-parallel::before {content: \"\";position: absolute;border-left: 1px solid gray;box-sizing: border-box;top: 2em;bottom: 0;left: 50%;}#sk-e43121b9-bdf1-4c1f-8e3d-19c392944f57 div.sk-parallel-item {display: flex;flex-direction: column;position: relative;background-color: white;}#sk-e43121b9-bdf1-4c1f-8e3d-19c392944f57 div.sk-parallel-item:first-child::after {align-self: flex-end;width: 50%;}#sk-e43121b9-bdf1-4c1f-8e3d-19c392944f57 div.sk-parallel-item:last-child::after {align-self: flex-start;width: 50%;}#sk-e43121b9-bdf1-4c1f-8e3d-19c392944f57 div.sk-parallel-item:only-child::after {width: 0;}#sk-e43121b9-bdf1-4c1f-8e3d-19c392944f57 div.sk-dashed-wrapped {border: 1px dashed gray;margin: 0 0.4em 0.5em 0.4em;box-sizing: border-box;padding-bottom: 0.4em;background-color: white;position: relative;}#sk-e43121b9-bdf1-4c1f-8e3d-19c392944f57 div.sk-label label {font-family: monospace;font-weight: bold;background-color: white;display: inline-block;line-height: 1.2em;}#sk-e43121b9-bdf1-4c1f-8e3d-19c392944f57 div.sk-label-container {position: relative;z-index: 2;text-align: center;}#sk-e43121b9-bdf1-4c1f-8e3d-19c392944f57 div.sk-container {/* jupyter's `normalize.less` sets `[hidden] { display: none; }` but bootstrap.min.css set `[hidden] { display: none !important; }` so we also need the `!important` here to be able to override the default hidden behavior on the sphinx rendered scikit-learn.org. See: https://github.com/scikit-learn/scikit-learn/issues/21755 */display: inline-block !important;position: relative;}#sk-e43121b9-bdf1-4c1f-8e3d-19c392944f57 div.sk-text-repr-fallback {display: none;}</style><div id=\"sk-e43121b9-bdf1-4c1f-8e3d-19c392944f57\" class=\"sk-top-container\"><div class=\"sk-text-repr-fallback\"><pre>GridSearchCV(cv=10,\n",
       "             estimator=Pipeline(steps=[(&#x27;tfidf&#x27;, TfidfVectorizer()),\n",
       "                                       (&#x27;norm&#x27;, Normalizer()),\n",
       "                                       (&#x27;model&#x27;, MultinomialNB())]),\n",
       "             param_grid={&#x27;model__alpha&#x27;: [0.001, 0.01, 0.1],\n",
       "                         &#x27;tfidf__max_df&#x27;: [0.7, 0.8, 0.9],\n",
       "                         &#x27;tfidf__min_df&#x27;: [1, 2, 3, 4],\n",
       "                         &#x27;tfidf__ngram_range&#x27;: [(1, 1), (1, 2)]},\n",
       "             scoring=make_scorer(f1_score, average=macro))</pre><b>Please rerun this cell to show the HTML repr or trust the notebook.</b></div><div class=\"sk-container\" hidden><div class=\"sk-item sk-dashed-wrapped\"><div class=\"sk-label-container\"><div class=\"sk-label sk-toggleable\"><input class=\"sk-toggleable__control sk-hidden--visually\" id=\"ba1c1461-9797-4419-9bdf-514ffeaa289b\" type=\"checkbox\" ><label for=\"ba1c1461-9797-4419-9bdf-514ffeaa289b\" class=\"sk-toggleable__label sk-toggleable__label-arrow\">GridSearchCV</label><div class=\"sk-toggleable__content\"><pre>GridSearchCV(cv=10,\n",
       "             estimator=Pipeline(steps=[(&#x27;tfidf&#x27;, TfidfVectorizer()),\n",
       "                                       (&#x27;norm&#x27;, Normalizer()),\n",
       "                                       (&#x27;model&#x27;, MultinomialNB())]),\n",
       "             param_grid={&#x27;model__alpha&#x27;: [0.001, 0.01, 0.1],\n",
       "                         &#x27;tfidf__max_df&#x27;: [0.7, 0.8, 0.9],\n",
       "                         &#x27;tfidf__min_df&#x27;: [1, 2, 3, 4],\n",
       "                         &#x27;tfidf__ngram_range&#x27;: [(1, 1), (1, 2)]},\n",
       "             scoring=make_scorer(f1_score, average=macro))</pre></div></div></div><div class=\"sk-parallel\"><div class=\"sk-parallel-item\"><div class=\"sk-item\"><div class=\"sk-serial\"><div class=\"sk-item\"><div class=\"sk-serial\"><div class=\"sk-item\"><div class=\"sk-estimator sk-toggleable\"><input class=\"sk-toggleable__control sk-hidden--visually\" id=\"c5e9fba5-2347-4f1d-a2fe-e0777a327728\" type=\"checkbox\" ><label for=\"c5e9fba5-2347-4f1d-a2fe-e0777a327728\" class=\"sk-toggleable__label sk-toggleable__label-arrow\">TfidfVectorizer</label><div class=\"sk-toggleable__content\"><pre>TfidfVectorizer()</pre></div></div></div><div class=\"sk-item\"><div class=\"sk-estimator sk-toggleable\"><input class=\"sk-toggleable__control sk-hidden--visually\" id=\"548b63fe-039b-410d-8a99-95f7fd8af51d\" type=\"checkbox\" ><label for=\"548b63fe-039b-410d-8a99-95f7fd8af51d\" class=\"sk-toggleable__label sk-toggleable__label-arrow\">Normalizer</label><div class=\"sk-toggleable__content\"><pre>Normalizer()</pre></div></div></div><div class=\"sk-item\"><div class=\"sk-estimator sk-toggleable\"><input class=\"sk-toggleable__control sk-hidden--visually\" id=\"0afc0ada-fd9b-4983-afae-a757f21a25c9\" type=\"checkbox\" ><label for=\"0afc0ada-fd9b-4983-afae-a757f21a25c9\" class=\"sk-toggleable__label sk-toggleable__label-arrow\">MultinomialNB</label><div class=\"sk-toggleable__content\"><pre>MultinomialNB()</pre></div></div></div></div></div></div></div></div></div></div></div></div>"
      ],
      "text/plain": [
       "GridSearchCV(cv=10,\n",
       "             estimator=Pipeline(steps=[('tfidf', TfidfVectorizer()),\n",
       "                                       ('norm', Normalizer()),\n",
       "                                       ('model', MultinomialNB())]),\n",
       "             param_grid={'model__alpha': [0.001, 0.01, 0.1],\n",
       "                         'tfidf__max_df': [0.7, 0.8, 0.9],\n",
       "                         'tfidf__min_df': [1, 2, 3, 4],\n",
       "                         'tfidf__ngram_range': [(1, 1), (1, 2)]},\n",
       "             scoring=make_scorer(f1_score, average=macro))"
      ]
     },
     "execution_count": 20,
     "metadata": {},
     "output_type": "execute_result"
    },
    {
     "name": "stdout",
     "output_type": "stream",
     "text": [
      "The best score of the model is:  0.523\n",
      "The best estimator of the model is:  Pipeline(steps=[('tfidf',\n",
      "                 TfidfVectorizer(max_df=0.7, min_df=3, ngram_range=(1, 2))),\n",
      "                ('norm', Normalizer()), ('model', MultinomialNB(alpha=0.01))])\n"
     ]
    },
    {
     "data": {
      "text/html": [
       "<style>#sk-108452e7-1403-40f0-be8f-595f2e7f382f {color: black;background-color: white;}#sk-108452e7-1403-40f0-be8f-595f2e7f382f pre{padding: 0;}#sk-108452e7-1403-40f0-be8f-595f2e7f382f div.sk-toggleable {background-color: white;}#sk-108452e7-1403-40f0-be8f-595f2e7f382f label.sk-toggleable__label {cursor: pointer;display: block;width: 100%;margin-bottom: 0;padding: 0.3em;box-sizing: border-box;text-align: center;}#sk-108452e7-1403-40f0-be8f-595f2e7f382f label.sk-toggleable__label-arrow:before {content: \"▸\";float: left;margin-right: 0.25em;color: #696969;}#sk-108452e7-1403-40f0-be8f-595f2e7f382f label.sk-toggleable__label-arrow:hover:before {color: black;}#sk-108452e7-1403-40f0-be8f-595f2e7f382f div.sk-estimator:hover label.sk-toggleable__label-arrow:before {color: black;}#sk-108452e7-1403-40f0-be8f-595f2e7f382f div.sk-toggleable__content {max-height: 0;max-width: 0;overflow: hidden;text-align: left;background-color: #f0f8ff;}#sk-108452e7-1403-40f0-be8f-595f2e7f382f div.sk-toggleable__content pre {margin: 0.2em;color: black;border-radius: 0.25em;background-color: #f0f8ff;}#sk-108452e7-1403-40f0-be8f-595f2e7f382f input.sk-toggleable__control:checked~div.sk-toggleable__content {max-height: 200px;max-width: 100%;overflow: auto;}#sk-108452e7-1403-40f0-be8f-595f2e7f382f input.sk-toggleable__control:checked~label.sk-toggleable__label-arrow:before {content: \"▾\";}#sk-108452e7-1403-40f0-be8f-595f2e7f382f div.sk-estimator input.sk-toggleable__control:checked~label.sk-toggleable__label {background-color: #d4ebff;}#sk-108452e7-1403-40f0-be8f-595f2e7f382f div.sk-label input.sk-toggleable__control:checked~label.sk-toggleable__label {background-color: #d4ebff;}#sk-108452e7-1403-40f0-be8f-595f2e7f382f input.sk-hidden--visually {border: 0;clip: rect(1px 1px 1px 1px);clip: rect(1px, 1px, 1px, 1px);height: 1px;margin: -1px;overflow: hidden;padding: 0;position: absolute;width: 1px;}#sk-108452e7-1403-40f0-be8f-595f2e7f382f div.sk-estimator {font-family: monospace;background-color: #f0f8ff;border: 1px dotted black;border-radius: 0.25em;box-sizing: border-box;margin-bottom: 0.5em;}#sk-108452e7-1403-40f0-be8f-595f2e7f382f div.sk-estimator:hover {background-color: #d4ebff;}#sk-108452e7-1403-40f0-be8f-595f2e7f382f div.sk-parallel-item::after {content: \"\";width: 100%;border-bottom: 1px solid gray;flex-grow: 1;}#sk-108452e7-1403-40f0-be8f-595f2e7f382f div.sk-label:hover label.sk-toggleable__label {background-color: #d4ebff;}#sk-108452e7-1403-40f0-be8f-595f2e7f382f div.sk-serial::before {content: \"\";position: absolute;border-left: 1px solid gray;box-sizing: border-box;top: 2em;bottom: 0;left: 50%;}#sk-108452e7-1403-40f0-be8f-595f2e7f382f div.sk-serial {display: flex;flex-direction: column;align-items: center;background-color: white;padding-right: 0.2em;padding-left: 0.2em;}#sk-108452e7-1403-40f0-be8f-595f2e7f382f div.sk-item {z-index: 1;}#sk-108452e7-1403-40f0-be8f-595f2e7f382f div.sk-parallel {display: flex;align-items: stretch;justify-content: center;background-color: white;}#sk-108452e7-1403-40f0-be8f-595f2e7f382f div.sk-parallel::before {content: \"\";position: absolute;border-left: 1px solid gray;box-sizing: border-box;top: 2em;bottom: 0;left: 50%;}#sk-108452e7-1403-40f0-be8f-595f2e7f382f div.sk-parallel-item {display: flex;flex-direction: column;position: relative;background-color: white;}#sk-108452e7-1403-40f0-be8f-595f2e7f382f div.sk-parallel-item:first-child::after {align-self: flex-end;width: 50%;}#sk-108452e7-1403-40f0-be8f-595f2e7f382f div.sk-parallel-item:last-child::after {align-self: flex-start;width: 50%;}#sk-108452e7-1403-40f0-be8f-595f2e7f382f div.sk-parallel-item:only-child::after {width: 0;}#sk-108452e7-1403-40f0-be8f-595f2e7f382f div.sk-dashed-wrapped {border: 1px dashed gray;margin: 0 0.4em 0.5em 0.4em;box-sizing: border-box;padding-bottom: 0.4em;background-color: white;position: relative;}#sk-108452e7-1403-40f0-be8f-595f2e7f382f div.sk-label label {font-family: monospace;font-weight: bold;background-color: white;display: inline-block;line-height: 1.2em;}#sk-108452e7-1403-40f0-be8f-595f2e7f382f div.sk-label-container {position: relative;z-index: 2;text-align: center;}#sk-108452e7-1403-40f0-be8f-595f2e7f382f div.sk-container {/* jupyter's `normalize.less` sets `[hidden] { display: none; }` but bootstrap.min.css set `[hidden] { display: none !important; }` so we also need the `!important` here to be able to override the default hidden behavior on the sphinx rendered scikit-learn.org. See: https://github.com/scikit-learn/scikit-learn/issues/21755 */display: inline-block !important;position: relative;}#sk-108452e7-1403-40f0-be8f-595f2e7f382f div.sk-text-repr-fallback {display: none;}</style><div id=\"sk-108452e7-1403-40f0-be8f-595f2e7f382f\" class=\"sk-top-container\"><div class=\"sk-text-repr-fallback\"><pre>GridSearchCV(cv=10,\n",
       "             estimator=Pipeline(steps=[(&#x27;tfidf&#x27;, TfidfVectorizer()),\n",
       "                                       (&#x27;norm&#x27;, Normalizer()),\n",
       "                                       (&#x27;model&#x27;, KNeighborsClassifier())]),\n",
       "             param_grid={&#x27;model__leaf_size&#x27;: [5, 10, 15],\n",
       "                         &#x27;model__metric&#x27;: [&#x27;euclidean&#x27;, &#x27;manhattan&#x27;,\n",
       "                                           &#x27;chebyshev&#x27;],\n",
       "                         &#x27;model__n_neighbors&#x27;: [5, 10, 15],\n",
       "                         &#x27;tfidf__max_df&#x27;: [0.7, 0.8, 0.9],\n",
       "                         &#x27;tfidf__min_df&#x27;: [1, 2, 3, 4],\n",
       "                         &#x27;tfidf__ngram_range&#x27;: [(1, 1), (1, 2)]},\n",
       "             scoring=make_scorer(f1_score, average=macro))</pre><b>Please rerun this cell to show the HTML repr or trust the notebook.</b></div><div class=\"sk-container\" hidden><div class=\"sk-item sk-dashed-wrapped\"><div class=\"sk-label-container\"><div class=\"sk-label sk-toggleable\"><input class=\"sk-toggleable__control sk-hidden--visually\" id=\"1a67f7db-e644-41d3-8b6f-3ec7e540b78a\" type=\"checkbox\" ><label for=\"1a67f7db-e644-41d3-8b6f-3ec7e540b78a\" class=\"sk-toggleable__label sk-toggleable__label-arrow\">GridSearchCV</label><div class=\"sk-toggleable__content\"><pre>GridSearchCV(cv=10,\n",
       "             estimator=Pipeline(steps=[(&#x27;tfidf&#x27;, TfidfVectorizer()),\n",
       "                                       (&#x27;norm&#x27;, Normalizer()),\n",
       "                                       (&#x27;model&#x27;, KNeighborsClassifier())]),\n",
       "             param_grid={&#x27;model__leaf_size&#x27;: [5, 10, 15],\n",
       "                         &#x27;model__metric&#x27;: [&#x27;euclidean&#x27;, &#x27;manhattan&#x27;,\n",
       "                                           &#x27;chebyshev&#x27;],\n",
       "                         &#x27;model__n_neighbors&#x27;: [5, 10, 15],\n",
       "                         &#x27;tfidf__max_df&#x27;: [0.7, 0.8, 0.9],\n",
       "                         &#x27;tfidf__min_df&#x27;: [1, 2, 3, 4],\n",
       "                         &#x27;tfidf__ngram_range&#x27;: [(1, 1), (1, 2)]},\n",
       "             scoring=make_scorer(f1_score, average=macro))</pre></div></div></div><div class=\"sk-parallel\"><div class=\"sk-parallel-item\"><div class=\"sk-item\"><div class=\"sk-serial\"><div class=\"sk-item\"><div class=\"sk-serial\"><div class=\"sk-item\"><div class=\"sk-estimator sk-toggleable\"><input class=\"sk-toggleable__control sk-hidden--visually\" id=\"058a8a7d-8e37-4418-a157-4aa84627b7dc\" type=\"checkbox\" ><label for=\"058a8a7d-8e37-4418-a157-4aa84627b7dc\" class=\"sk-toggleable__label sk-toggleable__label-arrow\">TfidfVectorizer</label><div class=\"sk-toggleable__content\"><pre>TfidfVectorizer()</pre></div></div></div><div class=\"sk-item\"><div class=\"sk-estimator sk-toggleable\"><input class=\"sk-toggleable__control sk-hidden--visually\" id=\"91b9e551-e452-4a2d-b7eb-58679b61c0d1\" type=\"checkbox\" ><label for=\"91b9e551-e452-4a2d-b7eb-58679b61c0d1\" class=\"sk-toggleable__label sk-toggleable__label-arrow\">Normalizer</label><div class=\"sk-toggleable__content\"><pre>Normalizer()</pre></div></div></div><div class=\"sk-item\"><div class=\"sk-estimator sk-toggleable\"><input class=\"sk-toggleable__control sk-hidden--visually\" id=\"487fcb9d-8ff5-4809-a86e-133019c0aaf3\" type=\"checkbox\" ><label for=\"487fcb9d-8ff5-4809-a86e-133019c0aaf3\" class=\"sk-toggleable__label sk-toggleable__label-arrow\">KNeighborsClassifier</label><div class=\"sk-toggleable__content\"><pre>KNeighborsClassifier()</pre></div></div></div></div></div></div></div></div></div></div></div></div>"
      ],
      "text/plain": [
       "GridSearchCV(cv=10,\n",
       "             estimator=Pipeline(steps=[('tfidf', TfidfVectorizer()),\n",
       "                                       ('norm', Normalizer()),\n",
       "                                       ('model', KNeighborsClassifier())]),\n",
       "             param_grid={'model__leaf_size': [5, 10, 15],\n",
       "                         'model__metric': ['euclidean', 'manhattan',\n",
       "                                           'chebyshev'],\n",
       "                         'model__n_neighbors': [5, 10, 15],\n",
       "                         'tfidf__max_df': [0.7, 0.8, 0.9],\n",
       "                         'tfidf__min_df': [1, 2, 3, 4],\n",
       "                         'tfidf__ngram_range': [(1, 1), (1, 2)]},\n",
       "             scoring=make_scorer(f1_score, average=macro))"
      ]
     },
     "execution_count": 20,
     "metadata": {},
     "output_type": "execute_result"
    },
    {
     "name": "stdout",
     "output_type": "stream",
     "text": [
      "The best score of the model is:  0.637\n",
      "The best estimator of the model is:  Pipeline(steps=[('tfidf', TfidfVectorizer(max_df=0.9, ngram_range=(1, 2))),\n",
      "                ('norm', Normalizer()),\n",
      "                ('model',\n",
      "                 KNeighborsClassifier(leaf_size=5, metric='euclidean'))])\n"
     ]
    }
   ],
   "source": [
    "for name, model in bad_models:\n",
    "    pipeline = Pipeline([\n",
    "        ('tfidf', TfidfVectorizer()),\n",
    "        ('norm', preprocessing.Normalizer()),\n",
    "        ('model', model)\n",
    "    ])\n",
    "\n",
    "    params = set_params_bad_models()\n",
    "     \n",
    "    set_config(display='diagram')      \n",
    "                                         \n",
    "                      \n",
    "    grid = GridSearchCV(pipeline, params, scoring=make_scorer(f1_score, average='macro'), cv=10)\n",
    "    grid.fit(X_train, y_train)\n",
    "\n",
    "    print(\"The best score of the model is: \", round(grid.best_score_, 3))\n",
    "    print(\"The best estimator of the model is: \", grid.best_estimator_)"
   ]
  },
  {
   "cell_type": "markdown",
   "metadata": {},
   "source": [
    "<div style=\"background-color: lightblue; padding: 10px;\">\n",
    "<font face=\"Fugaz One\" size=4 color='#00000'>As we can see, even we change a bit the Hyperparameters<br/> </font>   \n",
    "<font face=\"Fugaz One\" size=4 color='#FF0000'>the accuracy points to lower score than before <br/></font>   \n",
    "<div/>"
   ]
  },
  {
   "cell_type": "markdown",
   "metadata": {},
   "source": [
    "<div style=\"background-color: lightblue; padding: 10px;\">\n",
    "<font face=\"Fugaz One\" size=4 color='#00000'>Now I will try to add a new model, and see if I can over the 0.7 accuracy </font>   <font face=\"Fugaz One\" size=4 color='#00000'>score again  </font>   \n",
    "<div/>"
   ]
  },
  {
   "cell_type": "code",
   "execution_count": 22,
   "metadata": {
    "scrolled": false
   },
   "outputs": [
    {
     "data": {
      "text/html": [
       "<style>#sk-05877c14-e4ba-48b3-b155-fa326f88bcfe {color: black;background-color: white;}#sk-05877c14-e4ba-48b3-b155-fa326f88bcfe pre{padding: 0;}#sk-05877c14-e4ba-48b3-b155-fa326f88bcfe div.sk-toggleable {background-color: white;}#sk-05877c14-e4ba-48b3-b155-fa326f88bcfe label.sk-toggleable__label {cursor: pointer;display: block;width: 100%;margin-bottom: 0;padding: 0.3em;box-sizing: border-box;text-align: center;}#sk-05877c14-e4ba-48b3-b155-fa326f88bcfe label.sk-toggleable__label-arrow:before {content: \"▸\";float: left;margin-right: 0.25em;color: #696969;}#sk-05877c14-e4ba-48b3-b155-fa326f88bcfe label.sk-toggleable__label-arrow:hover:before {color: black;}#sk-05877c14-e4ba-48b3-b155-fa326f88bcfe div.sk-estimator:hover label.sk-toggleable__label-arrow:before {color: black;}#sk-05877c14-e4ba-48b3-b155-fa326f88bcfe div.sk-toggleable__content {max-height: 0;max-width: 0;overflow: hidden;text-align: left;background-color: #f0f8ff;}#sk-05877c14-e4ba-48b3-b155-fa326f88bcfe div.sk-toggleable__content pre {margin: 0.2em;color: black;border-radius: 0.25em;background-color: #f0f8ff;}#sk-05877c14-e4ba-48b3-b155-fa326f88bcfe input.sk-toggleable__control:checked~div.sk-toggleable__content {max-height: 200px;max-width: 100%;overflow: auto;}#sk-05877c14-e4ba-48b3-b155-fa326f88bcfe input.sk-toggleable__control:checked~label.sk-toggleable__label-arrow:before {content: \"▾\";}#sk-05877c14-e4ba-48b3-b155-fa326f88bcfe div.sk-estimator input.sk-toggleable__control:checked~label.sk-toggleable__label {background-color: #d4ebff;}#sk-05877c14-e4ba-48b3-b155-fa326f88bcfe div.sk-label input.sk-toggleable__control:checked~label.sk-toggleable__label {background-color: #d4ebff;}#sk-05877c14-e4ba-48b3-b155-fa326f88bcfe input.sk-hidden--visually {border: 0;clip: rect(1px 1px 1px 1px);clip: rect(1px, 1px, 1px, 1px);height: 1px;margin: -1px;overflow: hidden;padding: 0;position: absolute;width: 1px;}#sk-05877c14-e4ba-48b3-b155-fa326f88bcfe div.sk-estimator {font-family: monospace;background-color: #f0f8ff;border: 1px dotted black;border-radius: 0.25em;box-sizing: border-box;margin-bottom: 0.5em;}#sk-05877c14-e4ba-48b3-b155-fa326f88bcfe div.sk-estimator:hover {background-color: #d4ebff;}#sk-05877c14-e4ba-48b3-b155-fa326f88bcfe div.sk-parallel-item::after {content: \"\";width: 100%;border-bottom: 1px solid gray;flex-grow: 1;}#sk-05877c14-e4ba-48b3-b155-fa326f88bcfe div.sk-label:hover label.sk-toggleable__label {background-color: #d4ebff;}#sk-05877c14-e4ba-48b3-b155-fa326f88bcfe div.sk-serial::before {content: \"\";position: absolute;border-left: 1px solid gray;box-sizing: border-box;top: 2em;bottom: 0;left: 50%;}#sk-05877c14-e4ba-48b3-b155-fa326f88bcfe div.sk-serial {display: flex;flex-direction: column;align-items: center;background-color: white;padding-right: 0.2em;padding-left: 0.2em;}#sk-05877c14-e4ba-48b3-b155-fa326f88bcfe div.sk-item {z-index: 1;}#sk-05877c14-e4ba-48b3-b155-fa326f88bcfe div.sk-parallel {display: flex;align-items: stretch;justify-content: center;background-color: white;}#sk-05877c14-e4ba-48b3-b155-fa326f88bcfe div.sk-parallel::before {content: \"\";position: absolute;border-left: 1px solid gray;box-sizing: border-box;top: 2em;bottom: 0;left: 50%;}#sk-05877c14-e4ba-48b3-b155-fa326f88bcfe div.sk-parallel-item {display: flex;flex-direction: column;position: relative;background-color: white;}#sk-05877c14-e4ba-48b3-b155-fa326f88bcfe div.sk-parallel-item:first-child::after {align-self: flex-end;width: 50%;}#sk-05877c14-e4ba-48b3-b155-fa326f88bcfe div.sk-parallel-item:last-child::after {align-self: flex-start;width: 50%;}#sk-05877c14-e4ba-48b3-b155-fa326f88bcfe div.sk-parallel-item:only-child::after {width: 0;}#sk-05877c14-e4ba-48b3-b155-fa326f88bcfe div.sk-dashed-wrapped {border: 1px dashed gray;margin: 0 0.4em 0.5em 0.4em;box-sizing: border-box;padding-bottom: 0.4em;background-color: white;position: relative;}#sk-05877c14-e4ba-48b3-b155-fa326f88bcfe div.sk-label label {font-family: monospace;font-weight: bold;background-color: white;display: inline-block;line-height: 1.2em;}#sk-05877c14-e4ba-48b3-b155-fa326f88bcfe div.sk-label-container {position: relative;z-index: 2;text-align: center;}#sk-05877c14-e4ba-48b3-b155-fa326f88bcfe div.sk-container {/* jupyter's `normalize.less` sets `[hidden] { display: none; }` but bootstrap.min.css set `[hidden] { display: none !important; }` so we also need the `!important` here to be able to override the default hidden behavior on the sphinx rendered scikit-learn.org. See: https://github.com/scikit-learn/scikit-learn/issues/21755 */display: inline-block !important;position: relative;}#sk-05877c14-e4ba-48b3-b155-fa326f88bcfe div.sk-text-repr-fallback {display: none;}</style><div id=\"sk-05877c14-e4ba-48b3-b155-fa326f88bcfe\" class=\"sk-top-container\"><div class=\"sk-text-repr-fallback\"><pre>GridSearchCV(cv=10,\n",
       "             estimator=Pipeline(steps=[(&#x27;tfidf&#x27;, TfidfVectorizer()),\n",
       "                                       (&#x27;normalize&#x27;, Normalizer()),\n",
       "                                       (&#x27;clf&#x27;,\n",
       "                                        MLPClassifier(batch_size=100,\n",
       "                                                      early_stopping=True,\n",
       "                                                      hidden_layer_sizes=(50,),\n",
       "                                                      solver=&#x27;lbfgs&#x27;))]),\n",
       "             param_grid={&#x27;clf__alpha&#x27;: [0.0001, 0.001, 0.01],\n",
       "                         &#x27;clf__hidden_layer_sizes&#x27;: [(50,), (100,)],\n",
       "                         &#x27;tfidf__min_df&#x27;: [1, 2],\n",
       "                         &#x27;tfidf__ngram_range&#x27;: [(1, 1), (1, 2)]},\n",
       "             scoring=&#x27;f1_macro&#x27;)</pre><b>Please rerun this cell to show the HTML repr or trust the notebook.</b></div><div class=\"sk-container\" hidden><div class=\"sk-item sk-dashed-wrapped\"><div class=\"sk-label-container\"><div class=\"sk-label sk-toggleable\"><input class=\"sk-toggleable__control sk-hidden--visually\" id=\"3814fbbf-7995-47af-96cf-ac6100e07d42\" type=\"checkbox\" ><label for=\"3814fbbf-7995-47af-96cf-ac6100e07d42\" class=\"sk-toggleable__label sk-toggleable__label-arrow\">GridSearchCV</label><div class=\"sk-toggleable__content\"><pre>GridSearchCV(cv=10,\n",
       "             estimator=Pipeline(steps=[(&#x27;tfidf&#x27;, TfidfVectorizer()),\n",
       "                                       (&#x27;normalize&#x27;, Normalizer()),\n",
       "                                       (&#x27;clf&#x27;,\n",
       "                                        MLPClassifier(batch_size=100,\n",
       "                                                      early_stopping=True,\n",
       "                                                      hidden_layer_sizes=(50,),\n",
       "                                                      solver=&#x27;lbfgs&#x27;))]),\n",
       "             param_grid={&#x27;clf__alpha&#x27;: [0.0001, 0.001, 0.01],\n",
       "                         &#x27;clf__hidden_layer_sizes&#x27;: [(50,), (100,)],\n",
       "                         &#x27;tfidf__min_df&#x27;: [1, 2],\n",
       "                         &#x27;tfidf__ngram_range&#x27;: [(1, 1), (1, 2)]},\n",
       "             scoring=&#x27;f1_macro&#x27;)</pre></div></div></div><div class=\"sk-parallel\"><div class=\"sk-parallel-item\"><div class=\"sk-item\"><div class=\"sk-serial\"><div class=\"sk-item\"><div class=\"sk-serial\"><div class=\"sk-item\"><div class=\"sk-estimator sk-toggleable\"><input class=\"sk-toggleable__control sk-hidden--visually\" id=\"dedc229e-77f0-4a9e-b4a9-cd335ce4d5f9\" type=\"checkbox\" ><label for=\"dedc229e-77f0-4a9e-b4a9-cd335ce4d5f9\" class=\"sk-toggleable__label sk-toggleable__label-arrow\">TfidfVectorizer</label><div class=\"sk-toggleable__content\"><pre>TfidfVectorizer()</pre></div></div></div><div class=\"sk-item\"><div class=\"sk-estimator sk-toggleable\"><input class=\"sk-toggleable__control sk-hidden--visually\" id=\"8a00b517-9f8f-41fc-97ba-206929169465\" type=\"checkbox\" ><label for=\"8a00b517-9f8f-41fc-97ba-206929169465\" class=\"sk-toggleable__label sk-toggleable__label-arrow\">Normalizer</label><div class=\"sk-toggleable__content\"><pre>Normalizer()</pre></div></div></div><div class=\"sk-item\"><div class=\"sk-estimator sk-toggleable\"><input class=\"sk-toggleable__control sk-hidden--visually\" id=\"13e54a02-e668-4839-8568-e626cbdd76ff\" type=\"checkbox\" ><label for=\"13e54a02-e668-4839-8568-e626cbdd76ff\" class=\"sk-toggleable__label sk-toggleable__label-arrow\">MLPClassifier</label><div class=\"sk-toggleable__content\"><pre>MLPClassifier(batch_size=100, early_stopping=True, hidden_layer_sizes=(50,),\n",
       "              solver=&#x27;lbfgs&#x27;)</pre></div></div></div></div></div></div></div></div></div></div></div></div>"
      ],
      "text/plain": [
       "GridSearchCV(cv=10,\n",
       "             estimator=Pipeline(steps=[('tfidf', TfidfVectorizer()),\n",
       "                                       ('normalize', Normalizer()),\n",
       "                                       ('clf',\n",
       "                                        MLPClassifier(batch_size=100,\n",
       "                                                      early_stopping=True,\n",
       "                                                      hidden_layer_sizes=(50,),\n",
       "                                                      solver='lbfgs'))]),\n",
       "             param_grid={'clf__alpha': [0.0001, 0.001, 0.01],\n",
       "                         'clf__hidden_layer_sizes': [(50,), (100,)],\n",
       "                         'tfidf__min_df': [1, 2],\n",
       "                         'tfidf__ngram_range': [(1, 1), (1, 2)]},\n",
       "             scoring='f1_macro')"
      ]
     },
     "execution_count": 22,
     "metadata": {},
     "output_type": "execute_result"
    },
    {
     "name": "stdout",
     "output_type": "stream",
     "text": [
      "Best hyperparameters: {'clf__alpha': 0.0001, 'clf__hidden_layer_sizes': (100,), 'tfidf__min_df': 2, 'tfidf__ngram_range': (1, 1)}\n",
      "Cross-validation F1 score: 0.6888706136473302\n"
     ]
    }
   ],
   "source": [
    "mlp_pipeline = Pipeline([\n",
    "    ('tfidf', TfidfVectorizer()),\n",
    "    ('normalize', preprocessing.Normalizer()),\n",
    "    ('clf', MLPClassifier(\n",
    "                            solver='lbfgs',\n",
    "                alpha=0.0001,\n",
    "                hidden_layer_sizes=(50,),\n",
    "                max_iter=200,\n",
    "                batch_size=100,\n",
    "                early_stopping=True,\n",
    "                validation_fraction=0.1\n",
    "            ))\n",
    "])\n",
    "\n",
    "param_grid = {\n",
    "            'tfidf__ngram_range': [(1,1), (1,2)],\n",
    "            'tfidf__min_df': [1,2],\n",
    "            'clf__alpha': [0.0001, 0.001, 0.01],\n",
    "            'clf__hidden_layer_sizes': [(50,), (100,)]\n",
    "        }\n",
    "\n",
    "\n",
    "set_config(display='diagram')\n",
    "\n",
    "# Perform grid search\n",
    "grid_search = GridSearchCV(mlp_pipeline,\n",
    "                           param_grid, cv=10, scoring='f1_macro')\n",
    "grid_search.fit(X_train, y_train)\n",
    "\n",
    "# Print the best hyperparameters and cross-validation score\n",
    "print(\"Best hyperparameters:\", grid_search.best_params_)\n",
    "print(\"Cross-validation F1 score:\", grid_search.best_score_)"
   ]
  },
  {
   "attachments": {
    "%D7%9C%D7%9C%D7%90%20%D7%A9%D7%9D.png": {
     "image/png": "[encoded data removed]"
    }
   },
   "cell_type": "markdown",
   "metadata": {},
   "source": [
    "![%D7%9C%D7%9C%D7%90%20%D7%A9%D7%9D.png](attachment:%D7%9C%D7%9C%D7%90%20%D7%A9%D7%9D.png)"
   ]
  },
  {
   "cell_type": "code",
   "execution_count": 37,
   "metadata": {},
   "outputs": [
    {
     "data": {
      "image/png": "[encoded data removed]",
      "text/plain": [
       "<Figure size 720x432 with 1 Axes>"
      ]
     },
     "metadata": {
      "needs_background": "light"
     },
     "output_type": "display_data"
    }
   ],
   "source": [
    "f1_scores = {\n",
    "    'LinearSVC': 0.606,\n",
    "    'DecisionTreeClassifier': 0.641,\n",
    "    'MultinomialNB': 0.523,\n",
    "    'KNeighborsClassifier': 0.637,\n",
    "    'MLPClassifier': 0.688\n",
    "}\n",
    "\n",
    "sorted_models = sorted(f1_scores.items(), key=lambda x: x[1], reverse=True)\n",
    "\n",
    "top_models = sorted_models[:2]\n",
    "top_model_names = [model[0] for model in top_models]\n",
    "top_model_scores = [model[1] for model in top_models]\n",
    "\n",
    "model_names = list(f1_scores.keys())\n",
    "f1_values = list(f1_scores.values())\n",
    "\n",
    "plt.figure(figsize=(10, 6))\n",
    "\n",
    "colors = ['green' if model in top_model_names else 'blue' for model in model_names]\n",
    "\n",
    "bars = plt.bar(model_names, f1_values, color=colors)\n",
    "plt.xlabel('Model : After Improving test')\n",
    "plt.ylabel('F1 Score')\n",
    "plt.title('F1 Scores for Different Models :  After Improving test')\n",
    "plt.ylim(0, 1.1)\n",
    "plt.xticks(rotation=45)\n",
    "\n",
    "for i, (model, score) in enumerate(f1_scores.items()):\n",
    "    plt.annotate(f'{score:.3f}', (i, score), textcoords=\"offset points\", xytext=(0, 10), ha='center')\n",
    "\n",
    "plt.tight_layout()\n",
    "\n",
    "legend_elements = [\n",
    "    Patch(facecolor='green', label='Best F1 Score :  After Improving test'),\n",
    "    Patch(facecolor='blue', label='Other Models')\n",
    "]\n",
    "\n",
    "plt.legend(handles=legend_elements, loc=\"upper right\")\n",
    "\n",
    "plt.show(); # Tip : if you want to getting rid of all the text before the plot print\n",
    "            # add ';'  to the last line.\n"
   ]
  },
  {
   "cell_type": "markdown",
   "metadata": {},
   "source": [
    "<div style=\"background-color: lightblue; padding: 10px;\">\n",
    "<font face=\"Fugaz One\" size=4 color='#00000'>Let's take the NB model, thats present us the lower result.<br/></font>   \n",
    "<font face=\"Fugaz One\" size=4 color='#FF0000'>change a bit the Hyperparameters.<br/></font>   \n",
    "<font face=\"Fugaz One\" size=4 color='#FF0000'>Add our tokenized function into the Tf idf.</font>   \n",
    "<div/>"
   ]
  },
  {
   "cell_type": "code",
   "execution_count": 52,
   "metadata": {},
   "outputs": [
    {
     "data": {
      "text/html": [
       "<style>#sk-9eb94779-a89d-4c13-9a92-5c3e1a646e3e {color: black;background-color: white;}#sk-9eb94779-a89d-4c13-9a92-5c3e1a646e3e pre{padding: 0;}#sk-9eb94779-a89d-4c13-9a92-5c3e1a646e3e div.sk-toggleable {background-color: white;}#sk-9eb94779-a89d-4c13-9a92-5c3e1a646e3e label.sk-toggleable__label {cursor: pointer;display: block;width: 100%;margin-bottom: 0;padding: 0.3em;box-sizing: border-box;text-align: center;}#sk-9eb94779-a89d-4c13-9a92-5c3e1a646e3e label.sk-toggleable__label-arrow:before {content: \"▸\";float: left;margin-right: 0.25em;color: #696969;}#sk-9eb94779-a89d-4c13-9a92-5c3e1a646e3e label.sk-toggleable__label-arrow:hover:before {color: black;}#sk-9eb94779-a89d-4c13-9a92-5c3e1a646e3e div.sk-estimator:hover label.sk-toggleable__label-arrow:before {color: black;}#sk-9eb94779-a89d-4c13-9a92-5c3e1a646e3e div.sk-toggleable__content {max-height: 0;max-width: 0;overflow: hidden;text-align: left;background-color: #f0f8ff;}#sk-9eb94779-a89d-4c13-9a92-5c3e1a646e3e div.sk-toggleable__content pre {margin: 0.2em;color: black;border-radius: 0.25em;background-color: #f0f8ff;}#sk-9eb94779-a89d-4c13-9a92-5c3e1a646e3e input.sk-toggleable__control:checked~div.sk-toggleable__content {max-height: 200px;max-width: 100%;overflow: auto;}#sk-9eb94779-a89d-4c13-9a92-5c3e1a646e3e input.sk-toggleable__control:checked~label.sk-toggleable__label-arrow:before {content: \"▾\";}#sk-9eb94779-a89d-4c13-9a92-5c3e1a646e3e div.sk-estimator input.sk-toggleable__control:checked~label.sk-toggleable__label {background-color: #d4ebff;}#sk-9eb94779-a89d-4c13-9a92-5c3e1a646e3e div.sk-label input.sk-toggleable__control:checked~label.sk-toggleable__label {background-color: #d4ebff;}#sk-9eb94779-a89d-4c13-9a92-5c3e1a646e3e input.sk-hidden--visually {border: 0;clip: rect(1px 1px 1px 1px);clip: rect(1px, 1px, 1px, 1px);height: 1px;margin: -1px;overflow: hidden;padding: 0;position: absolute;width: 1px;}#sk-9eb94779-a89d-4c13-9a92-5c3e1a646e3e div.sk-estimator {font-family: monospace;background-color: #f0f8ff;border: 1px dotted black;border-radius: 0.25em;box-sizing: border-box;margin-bottom: 0.5em;}#sk-9eb94779-a89d-4c13-9a92-5c3e1a646e3e div.sk-estimator:hover {background-color: #d4ebff;}#sk-9eb94779-a89d-4c13-9a92-5c3e1a646e3e div.sk-parallel-item::after {content: \"\";width: 100%;border-bottom: 1px solid gray;flex-grow: 1;}#sk-9eb94779-a89d-4c13-9a92-5c3e1a646e3e div.sk-label:hover label.sk-toggleable__label {background-color: #d4ebff;}#sk-9eb94779-a89d-4c13-9a92-5c3e1a646e3e div.sk-serial::before {content: \"\";position: absolute;border-left: 1px solid gray;box-sizing: border-box;top: 2em;bottom: 0;left: 50%;}#sk-9eb94779-a89d-4c13-9a92-5c3e1a646e3e div.sk-serial {display: flex;flex-direction: column;align-items: center;background-color: white;padding-right: 0.2em;padding-left: 0.2em;}#sk-9eb94779-a89d-4c13-9a92-5c3e1a646e3e div.sk-item {z-index: 1;}#sk-9eb94779-a89d-4c13-9a92-5c3e1a646e3e div.sk-parallel {display: flex;align-items: stretch;justify-content: center;background-color: white;}#sk-9eb94779-a89d-4c13-9a92-5c3e1a646e3e div.sk-parallel::before {content: \"\";position: absolute;border-left: 1px solid gray;box-sizing: border-box;top: 2em;bottom: 0;left: 50%;}#sk-9eb94779-a89d-4c13-9a92-5c3e1a646e3e div.sk-parallel-item {display: flex;flex-direction: column;position: relative;background-color: white;}#sk-9eb94779-a89d-4c13-9a92-5c3e1a646e3e div.sk-parallel-item:first-child::after {align-self: flex-end;width: 50%;}#sk-9eb94779-a89d-4c13-9a92-5c3e1a646e3e div.sk-parallel-item:last-child::after {align-self: flex-start;width: 50%;}#sk-9eb94779-a89d-4c13-9a92-5c3e1a646e3e div.sk-parallel-item:only-child::after {width: 0;}#sk-9eb94779-a89d-4c13-9a92-5c3e1a646e3e div.sk-dashed-wrapped {border: 1px dashed gray;margin: 0 0.4em 0.5em 0.4em;box-sizing: border-box;padding-bottom: 0.4em;background-color: white;position: relative;}#sk-9eb94779-a89d-4c13-9a92-5c3e1a646e3e div.sk-label label {font-family: monospace;font-weight: bold;background-color: white;display: inline-block;line-height: 1.2em;}#sk-9eb94779-a89d-4c13-9a92-5c3e1a646e3e div.sk-label-container {position: relative;z-index: 2;text-align: center;}#sk-9eb94779-a89d-4c13-9a92-5c3e1a646e3e div.sk-container {/* jupyter's `normalize.less` sets `[hidden] { display: none; }` but bootstrap.min.css set `[hidden] { display: none !important; }` so we also need the `!important` here to be able to override the default hidden behavior on the sphinx rendered scikit-learn.org. See: https://github.com/scikit-learn/scikit-learn/issues/21755 */display: inline-block !important;position: relative;}#sk-9eb94779-a89d-4c13-9a92-5c3e1a646e3e div.sk-text-repr-fallback {display: none;}</style><div id=\"sk-9eb94779-a89d-4c13-9a92-5c3e1a646e3e\" class=\"sk-top-container\"><div class=\"sk-text-repr-fallback\"><pre>GridSearchCV(cv=10,\n",
       "             estimator=Pipeline(steps=[(&#x27;tfidf&#x27;,\n",
       "                                        TfidfVectorizer(tokenizer=&lt;function tokenized at 0x0000023A14E28B80&gt;)),\n",
       "                                       (&#x27;normalize&#x27;, Normalizer()),\n",
       "                                       (&#x27;clf&#x27;, MultinomialNB())]),\n",
       "             param_grid={&#x27;clf__alpha&#x27;: [0.0001, 0.001, 0.01, 0.1],\n",
       "                         &#x27;tfidf__max_df&#x27;: [0.5, 0.75, 1.0]},\n",
       "             scoring=&#x27;f1_macro&#x27;)</pre><b>Please rerun this cell to show the HTML repr or trust the notebook.</b></div><div class=\"sk-container\" hidden><div class=\"sk-item sk-dashed-wrapped\"><div class=\"sk-label-container\"><div class=\"sk-label sk-toggleable\"><input class=\"sk-toggleable__control sk-hidden--visually\" id=\"69baca78-f3a2-447a-8a45-0ee6f78ee3c0\" type=\"checkbox\" ><label for=\"69baca78-f3a2-447a-8a45-0ee6f78ee3c0\" class=\"sk-toggleable__label sk-toggleable__label-arrow\">GridSearchCV</label><div class=\"sk-toggleable__content\"><pre>GridSearchCV(cv=10,\n",
       "             estimator=Pipeline(steps=[(&#x27;tfidf&#x27;,\n",
       "                                        TfidfVectorizer(tokenizer=&lt;function tokenized at 0x0000023A14E28B80&gt;)),\n",
       "                                       (&#x27;normalize&#x27;, Normalizer()),\n",
       "                                       (&#x27;clf&#x27;, MultinomialNB())]),\n",
       "             param_grid={&#x27;clf__alpha&#x27;: [0.0001, 0.001, 0.01, 0.1],\n",
       "                         &#x27;tfidf__max_df&#x27;: [0.5, 0.75, 1.0]},\n",
       "             scoring=&#x27;f1_macro&#x27;)</pre></div></div></div><div class=\"sk-parallel\"><div class=\"sk-parallel-item\"><div class=\"sk-item\"><div class=\"sk-serial\"><div class=\"sk-item\"><div class=\"sk-serial\"><div class=\"sk-item\"><div class=\"sk-estimator sk-toggleable\"><input class=\"sk-toggleable__control sk-hidden--visually\" id=\"65b46772-b104-469b-ba55-4fe81d7e8deb\" type=\"checkbox\" ><label for=\"65b46772-b104-469b-ba55-4fe81d7e8deb\" class=\"sk-toggleable__label sk-toggleable__label-arrow\">TfidfVectorizer</label><div class=\"sk-toggleable__content\"><pre>TfidfVectorizer(tokenizer=&lt;function tokenized at 0x0000023A14E28B80&gt;)</pre></div></div></div><div class=\"sk-item\"><div class=\"sk-estimator sk-toggleable\"><input class=\"sk-toggleable__control sk-hidden--visually\" id=\"cd296e47-5f16-4ffc-bfba-ba7363cba352\" type=\"checkbox\" ><label for=\"cd296e47-5f16-4ffc-bfba-ba7363cba352\" class=\"sk-toggleable__label sk-toggleable__label-arrow\">Normalizer</label><div class=\"sk-toggleable__content\"><pre>Normalizer()</pre></div></div></div><div class=\"sk-item\"><div class=\"sk-estimator sk-toggleable\"><input class=\"sk-toggleable__control sk-hidden--visually\" id=\"05d98227-82d8-4ec0-a495-fd78eba391e2\" type=\"checkbox\" ><label for=\"05d98227-82d8-4ec0-a495-fd78eba391e2\" class=\"sk-toggleable__label sk-toggleable__label-arrow\">MultinomialNB</label><div class=\"sk-toggleable__content\"><pre>MultinomialNB()</pre></div></div></div></div></div></div></div></div></div></div></div></div>"
      ],
      "text/plain": [
       "GridSearchCV(cv=10,\n",
       "             estimator=Pipeline(steps=[('tfidf',\n",
       "                                        TfidfVectorizer(tokenizer=<function tokenized at 0x0000023A14E28B80>)),\n",
       "                                       ('normalize', Normalizer()),\n",
       "                                       ('clf', MultinomialNB())]),\n",
       "             param_grid={'clf__alpha': [0.0001, 0.001, 0.01, 0.1],\n",
       "                         'tfidf__max_df': [0.5, 0.75, 1.0]},\n",
       "             scoring='f1_macro')"
      ]
     },
     "execution_count": 52,
     "metadata": {},
     "output_type": "execute_result"
    },
    {
     "name": "stdout",
     "output_type": "stream",
     "text": [
      "Best hyperparameters: {'clf__alpha': 0.01, 'tfidf__max_df': 0.5}\n",
      "Cross-validation F1 score: 0.5075329955950617\n"
     ]
    }
   ],
   "source": [
    "NB_pipeline = Pipeline([\n",
    "    ('tfidf', TfidfVectorizer(tokenizer=tokenized)),\n",
    "    ('normalize', preprocessing.Normalizer(norm='l2')),\n",
    "    ('clf', MultinomialNB())\n",
    "])\n",
    "\n",
    "param_grid = {\n",
    "    'tfidf__max_df': [0.5, 0.75, 1.0],\n",
    "    'clf__alpha': [0.0001, 0.001, 0.01, 0.1]\n",
    "}\n",
    "\n",
    "# Perform grid search\n",
    "grid_search = GridSearchCV(NB_pipeline, param_grid, cv=10, scoring='f1_macro')\n",
    "grid_search.fit(X_train, y_train)\n",
    "\n",
    "# Print the best hyperparameters and cross-validation score\n",
    "print(\"Best hyperparameters:\", grid_search.best_params_)\n",
    "print(\"Cross-validation F1 score:\", grid_search.best_score_)\n"
   ]
  },
  {
   "attachments": {
    "%D7%9C%D7%9C%D7%90%20%D7%A9%D7%9D.png": {
     "image/png": "[encoded data removed]"
    }
   },
   "cell_type": "markdown",
   "metadata": {},
   "source": [
    "![%D7%9C%D7%9C%D7%90%20%D7%A9%D7%9D.png](attachment:%D7%9C%D7%9C%D7%90%20%D7%A9%D7%9D.png)"
   ]
  },
  {
   "cell_type": "markdown",
   "metadata": {},
   "source": [
    "<div style=\"background-color: lightblue; padding: 10px;\">\n",
    "<font face=\"Fugaz One\" size=4 color='#FF0000'>Even worse result </font> <div/>"
   ]
  },
  {
   "cell_type": "markdown",
   "metadata": {},
   "source": [
    "<div style=\"background-color: lightblue; padding: 10px;\">\n",
    "    \n",
    "<font face=\"Fugaz One\" size=4 color='#FF0000'>As we can see, we were very close</font>      \n",
    "<font face=\"Fugaz One\" size=4 color='#FF0000'>but we could't succseed to reach 0.7 </font>       \n",
    "<font face=\"Fugaz One\" size=5 color='#00000'>so I'll stay with 'Perceptron' and 'SGD' results for the next step.\n",
    "<div/>"
   ]
  },
  {
   "cell_type": "markdown",
   "metadata": {},
   "source": [
    "<div style=\"background-color: black; padding: 10px; text-align: center;\">\n",
    "        <font face=\"Fugaz One\" size=6 color='#999999'>Best Models</font>    \n",
    "</div>\n"
   ]
  },
  {
   "attachments": {},
   "cell_type": "markdown",
   "metadata": {},
   "source": [
    "\n",
    "<div style=\"background-color: lightblue; padding: 10px;\">\n",
    "<font face=\"Fugaz One\" size=3 color='#00000'>Now we will continue with the best models<br/></font>    \n",
    "<font face=\"Fugaz One\" size=3 color='#00000'>'Perceptron' and 'SGD' <br/></font>    \n",
    "<font face=\"Fugaz One\" size=3 color='#00000'>We're going to add some Hyperparameters to them.<br/> </font>    \n",
    "<font face=\"Fugaz One\" size=3 color='#00000'>We want to see some improving in the F1 score. </font>    \n",
    "<div/>"
   ]
  },
  {
   "cell_type": "markdown",
   "metadata": {},
   "source": [
    "<div style=\"background-color: lightblue; padding: 10px;\">\n",
    "<font face=\"Fugaz One\" size=3 color='#00000'>⬇️ A reminder to our best models F1 scores ⬇️<br/></font>    \n",
    "\n",
    "<div/>"
   ]
  },
  {
   "cell_type": "code",
   "execution_count": 48,
   "metadata": {},
   "outputs": [
    {
     "data": {
      "image/png": "[encoded data removed]",
      "text/plain": [
       "<Figure size 720x432 with 1 Axes>"
      ]
     },
     "metadata": {
      "needs_background": "light"
     },
     "output_type": "display_data"
    }
   ],
   "source": [
    "f1_scores = {\n",
    "    'Perceptron': 0.726,\n",
    "    'SGDClassifier': 0.713,\n",
    "}\n",
    "\n",
    "sorted_models = sorted(f1_scores.items(), key=lambda x: x[1], reverse=True)\n",
    "\n",
    "top_models = sorted_models[:2]\n",
    "top_model_names = [model[0] for model in top_models]\n",
    "top_model_scores = [model[1] for model in top_models]\n",
    "\n",
    "model_names = list(f1_scores.keys())\n",
    "f1_values = list(f1_scores.values())\n",
    "\n",
    "plt.figure(figsize=(10, 6))\n",
    "\n",
    "bar_colors = ['green' if model == 'Perceptron' else 'blue' for model in model_names]\n",
    "\n",
    "bars = plt.bar(model_names, f1_values, color=bar_colors)\n",
    "plt.xlabel('Model')\n",
    "plt.ylabel('F1 Score')\n",
    "plt.title('F1 Scores for Best Models')\n",
    "plt.ylim(0.7, 0.75)  # Adjust y limits\n",
    "plt.xticks(rotation=45)\n",
    "\n",
    "for i, (model, score) in enumerate(f1_scores.items()):\n",
    "    plt.annotate(f'{score:.3f}', (i, score), textcoords=\"offset points\", xytext=(0, 10), ha='center')\n",
    "\n",
    "legend_elements = [\n",
    "    Patch(facecolor='green', label='Perceptron'),\n",
    "    Patch(facecolor='blue', label='SGDClassifier')\n",
    "]\n",
    "\n",
    "plt.legend(handles=legend_elements, loc=\"upper right\")\n",
    "\n",
    "plt.tight_layout()\n",
    "plt.show();"
   ]
  },
  {
   "cell_type": "markdown",
   "metadata": {},
   "source": [
    "<div style=\"background-color: lightblue; padding: 10px;\"><font face=\"Fugaz One\" size=3 color='#00000'>Create new list of the best models so far</font>    \n",
    "</div>"
   ]
  },
  {
   "cell_type": "code",
   "execution_count": 53,
   "metadata": {},
   "outputs": [],
   "source": [
    "best_models = [\n",
    "    ('Perceptron', Perceptron()),\n",
    "    ('SGDClassifier', SGDClassifier()),\n",
    "]"
   ]
  },
  {
   "cell_type": "markdown",
   "metadata": {},
   "source": [
    "<div style=\"background-color: lightblue; padding: 10px;\">\n",
    "    <font face=\"Fugaz One\" size=3 color='#00000'>Initialize the best Hyperparameters, Also add some news.</font>\n",
    "</div>\n"
   ]
  },
  {
   "cell_type": "code",
   "execution_count": 54,
   "metadata": {},
   "outputs": [],
   "source": [
    "def best_models_params():\n",
    "    if name == 'Perceptron':\n",
    "         params = {'tfidf__ngram_range': [(1, 2), (2, 2)],'tfidf__min_df': [2, 3, 6],\n",
    "                       'tfidf__max_df': [0.8, 0.6, 0.7],'tfidf__sublinear_tf': [True, False],\n",
    "                       'model__alpha': [0.000001, 0.001, 0.01], 'model__penalty': ['l2', 'l1'],\n",
    "                       'model__fit_intercept': [True, False], 'model__shuffle': [True, False]}\n",
    "    \n",
    "    elif name == 'SGDClassifier':\n",
    "         params = {'tfidf__ngram_range': [(1, 2), (2, 2)], 'tfidf__min_df': [4, 3, 6],\n",
    "                       'tfidf__max_df': [0.8, 0.6, 0.7], 'model__alpha': [1e-3, 1e-4],\n",
    "                       'model__penalty': ['l1', 'l2'], 'model__fit_intercept': [True, False], \n",
    "                       'model__loss': ['hinge', 'log', 'modified_huber']}\n",
    "\n",
    "    return params\n",
    "\n"
   ]
  },
  {
   "cell_type": "markdown",
   "metadata": {},
   "source": [
    "<div style=\"background-color: lightblue; padding: 10px;\">\n",
    "    <font face=\"Fugaz One\" size=3 color='#00000'>Initialize new pipeline for them, and hope for improving the F1 score</font>\n",
    "</div>\n"
   ]
  },
  {
   "cell_type": "code",
   "execution_count": 55,
   "metadata": {},
   "outputs": [
    {
     "data": {
      "text/html": [
       "<style>#sk-245ddca1-5cff-4e19-a9df-b2f92ca4865a {color: black;background-color: white;}#sk-245ddca1-5cff-4e19-a9df-b2f92ca4865a pre{padding: 0;}#sk-245ddca1-5cff-4e19-a9df-b2f92ca4865a div.sk-toggleable {background-color: white;}#sk-245ddca1-5cff-4e19-a9df-b2f92ca4865a label.sk-toggleable__label {cursor: pointer;display: block;width: 100%;margin-bottom: 0;padding: 0.3em;box-sizing: border-box;text-align: center;}#sk-245ddca1-5cff-4e19-a9df-b2f92ca4865a label.sk-toggleable__label-arrow:before {content: \"▸\";float: left;margin-right: 0.25em;color: #696969;}#sk-245ddca1-5cff-4e19-a9df-b2f92ca4865a label.sk-toggleable__label-arrow:hover:before {color: black;}#sk-245ddca1-5cff-4e19-a9df-b2f92ca4865a div.sk-estimator:hover label.sk-toggleable__label-arrow:before {color: black;}#sk-245ddca1-5cff-4e19-a9df-b2f92ca4865a div.sk-toggleable__content {max-height: 0;max-width: 0;overflow: hidden;text-align: left;background-color: #f0f8ff;}#sk-245ddca1-5cff-4e19-a9df-b2f92ca4865a div.sk-toggleable__content pre {margin: 0.2em;color: black;border-radius: 0.25em;background-color: #f0f8ff;}#sk-245ddca1-5cff-4e19-a9df-b2f92ca4865a input.sk-toggleable__control:checked~div.sk-toggleable__content {max-height: 200px;max-width: 100%;overflow: auto;}#sk-245ddca1-5cff-4e19-a9df-b2f92ca4865a input.sk-toggleable__control:checked~label.sk-toggleable__label-arrow:before {content: \"▾\";}#sk-245ddca1-5cff-4e19-a9df-b2f92ca4865a div.sk-estimator input.sk-toggleable__control:checked~label.sk-toggleable__label {background-color: #d4ebff;}#sk-245ddca1-5cff-4e19-a9df-b2f92ca4865a div.sk-label input.sk-toggleable__control:checked~label.sk-toggleable__label {background-color: #d4ebff;}#sk-245ddca1-5cff-4e19-a9df-b2f92ca4865a input.sk-hidden--visually {border: 0;clip: rect(1px 1px 1px 1px);clip: rect(1px, 1px, 1px, 1px);height: 1px;margin: -1px;overflow: hidden;padding: 0;position: absolute;width: 1px;}#sk-245ddca1-5cff-4e19-a9df-b2f92ca4865a div.sk-estimator {font-family: monospace;background-color: #f0f8ff;border: 1px dotted black;border-radius: 0.25em;box-sizing: border-box;margin-bottom: 0.5em;}#sk-245ddca1-5cff-4e19-a9df-b2f92ca4865a div.sk-estimator:hover {background-color: #d4ebff;}#sk-245ddca1-5cff-4e19-a9df-b2f92ca4865a div.sk-parallel-item::after {content: \"\";width: 100%;border-bottom: 1px solid gray;flex-grow: 1;}#sk-245ddca1-5cff-4e19-a9df-b2f92ca4865a div.sk-label:hover label.sk-toggleable__label {background-color: #d4ebff;}#sk-245ddca1-5cff-4e19-a9df-b2f92ca4865a div.sk-serial::before {content: \"\";position: absolute;border-left: 1px solid gray;box-sizing: border-box;top: 2em;bottom: 0;left: 50%;}#sk-245ddca1-5cff-4e19-a9df-b2f92ca4865a div.sk-serial {display: flex;flex-direction: column;align-items: center;background-color: white;padding-right: 0.2em;padding-left: 0.2em;}#sk-245ddca1-5cff-4e19-a9df-b2f92ca4865a div.sk-item {z-index: 1;}#sk-245ddca1-5cff-4e19-a9df-b2f92ca4865a div.sk-parallel {display: flex;align-items: stretch;justify-content: center;background-color: white;}#sk-245ddca1-5cff-4e19-a9df-b2f92ca4865a div.sk-parallel::before {content: \"\";position: absolute;border-left: 1px solid gray;box-sizing: border-box;top: 2em;bottom: 0;left: 50%;}#sk-245ddca1-5cff-4e19-a9df-b2f92ca4865a div.sk-parallel-item {display: flex;flex-direction: column;position: relative;background-color: white;}#sk-245ddca1-5cff-4e19-a9df-b2f92ca4865a div.sk-parallel-item:first-child::after {align-self: flex-end;width: 50%;}#sk-245ddca1-5cff-4e19-a9df-b2f92ca4865a div.sk-parallel-item:last-child::after {align-self: flex-start;width: 50%;}#sk-245ddca1-5cff-4e19-a9df-b2f92ca4865a div.sk-parallel-item:only-child::after {width: 0;}#sk-245ddca1-5cff-4e19-a9df-b2f92ca4865a div.sk-dashed-wrapped {border: 1px dashed gray;margin: 0 0.4em 0.5em 0.4em;box-sizing: border-box;padding-bottom: 0.4em;background-color: white;position: relative;}#sk-245ddca1-5cff-4e19-a9df-b2f92ca4865a div.sk-label label {font-family: monospace;font-weight: bold;background-color: white;display: inline-block;line-height: 1.2em;}#sk-245ddca1-5cff-4e19-a9df-b2f92ca4865a div.sk-label-container {position: relative;z-index: 2;text-align: center;}#sk-245ddca1-5cff-4e19-a9df-b2f92ca4865a div.sk-container {/* jupyter's `normalize.less` sets `[hidden] { display: none; }` but bootstrap.min.css set `[hidden] { display: none !important; }` so we also need the `!important` here to be able to override the default hidden behavior on the sphinx rendered scikit-learn.org. See: https://github.com/scikit-learn/scikit-learn/issues/21755 */display: inline-block !important;position: relative;}#sk-245ddca1-5cff-4e19-a9df-b2f92ca4865a div.sk-text-repr-fallback {display: none;}</style><div id=\"sk-245ddca1-5cff-4e19-a9df-b2f92ca4865a\" class=\"sk-top-container\"><div class=\"sk-text-repr-fallback\"><pre>GridSearchCV(cv=10,\n",
       "             estimator=Pipeline(steps=[(&#x27;tfidf&#x27;, TfidfVectorizer()),\n",
       "                                       (&#x27;norm&#x27;, Normalizer()),\n",
       "                                       (&#x27;model&#x27;, Perceptron())]),\n",
       "             param_grid={&#x27;model__alpha&#x27;: [1e-06, 0.001, 0.01],\n",
       "                         &#x27;model__fit_intercept&#x27;: [True, False],\n",
       "                         &#x27;model__penalty&#x27;: [&#x27;l2&#x27;, &#x27;l1&#x27;],\n",
       "                         &#x27;model__shuffle&#x27;: [True, False],\n",
       "                         &#x27;tfidf__max_df&#x27;: [0.8, 0.6, 0.7],\n",
       "                         &#x27;tfidf__min_df&#x27;: [2, 3, 6],\n",
       "                         &#x27;tfidf__ngram_range&#x27;: [(1, 2), (2, 2)],\n",
       "                         &#x27;tfidf__sublinear_tf&#x27;: [True, False]},\n",
       "             scoring=make_scorer(f1_score, average=macro))</pre><b>Please rerun this cell to show the HTML repr or trust the notebook.</b></div><div class=\"sk-container\" hidden><div class=\"sk-item sk-dashed-wrapped\"><div class=\"sk-label-container\"><div class=\"sk-label sk-toggleable\"><input class=\"sk-toggleable__control sk-hidden--visually\" id=\"50308345-baf5-4403-b702-58af09a6336c\" type=\"checkbox\" ><label for=\"50308345-baf5-4403-b702-58af09a6336c\" class=\"sk-toggleable__label sk-toggleable__label-arrow\">GridSearchCV</label><div class=\"sk-toggleable__content\"><pre>GridSearchCV(cv=10,\n",
       "             estimator=Pipeline(steps=[(&#x27;tfidf&#x27;, TfidfVectorizer()),\n",
       "                                       (&#x27;norm&#x27;, Normalizer()),\n",
       "                                       (&#x27;model&#x27;, Perceptron())]),\n",
       "             param_grid={&#x27;model__alpha&#x27;: [1e-06, 0.001, 0.01],\n",
       "                         &#x27;model__fit_intercept&#x27;: [True, False],\n",
       "                         &#x27;model__penalty&#x27;: [&#x27;l2&#x27;, &#x27;l1&#x27;],\n",
       "                         &#x27;model__shuffle&#x27;: [True, False],\n",
       "                         &#x27;tfidf__max_df&#x27;: [0.8, 0.6, 0.7],\n",
       "                         &#x27;tfidf__min_df&#x27;: [2, 3, 6],\n",
       "                         &#x27;tfidf__ngram_range&#x27;: [(1, 2), (2, 2)],\n",
       "                         &#x27;tfidf__sublinear_tf&#x27;: [True, False]},\n",
       "             scoring=make_scorer(f1_score, average=macro))</pre></div></div></div><div class=\"sk-parallel\"><div class=\"sk-parallel-item\"><div class=\"sk-item\"><div class=\"sk-serial\"><div class=\"sk-item\"><div class=\"sk-serial\"><div class=\"sk-item\"><div class=\"sk-estimator sk-toggleable\"><input class=\"sk-toggleable__control sk-hidden--visually\" id=\"44808f01-f33a-4e30-aa3b-fafe61411aa5\" type=\"checkbox\" ><label for=\"44808f01-f33a-4e30-aa3b-fafe61411aa5\" class=\"sk-toggleable__label sk-toggleable__label-arrow\">TfidfVectorizer</label><div class=\"sk-toggleable__content\"><pre>TfidfVectorizer()</pre></div></div></div><div class=\"sk-item\"><div class=\"sk-estimator sk-toggleable\"><input class=\"sk-toggleable__control sk-hidden--visually\" id=\"25cab165-d318-4e7d-bd0b-5039a030a78b\" type=\"checkbox\" ><label for=\"25cab165-d318-4e7d-bd0b-5039a030a78b\" class=\"sk-toggleable__label sk-toggleable__label-arrow\">Normalizer</label><div class=\"sk-toggleable__content\"><pre>Normalizer()</pre></div></div></div><div class=\"sk-item\"><div class=\"sk-estimator sk-toggleable\"><input class=\"sk-toggleable__control sk-hidden--visually\" id=\"267fbfce-59a6-44ad-bd55-e267524c49f3\" type=\"checkbox\" ><label for=\"267fbfce-59a6-44ad-bd55-e267524c49f3\" class=\"sk-toggleable__label sk-toggleable__label-arrow\">Perceptron</label><div class=\"sk-toggleable__content\"><pre>Perceptron()</pre></div></div></div></div></div></div></div></div></div></div></div></div>"
      ],
      "text/plain": [
       "GridSearchCV(cv=10,\n",
       "             estimator=Pipeline(steps=[('tfidf', TfidfVectorizer()),\n",
       "                                       ('norm', Normalizer()),\n",
       "                                       ('model', Perceptron())]),\n",
       "             param_grid={'model__alpha': [1e-06, 0.001, 0.01],\n",
       "                         'model__fit_intercept': [True, False],\n",
       "                         'model__penalty': ['l2', 'l1'],\n",
       "                         'model__shuffle': [True, False],\n",
       "                         'tfidf__max_df': [0.8, 0.6, 0.7],\n",
       "                         'tfidf__min_df': [2, 3, 6],\n",
       "                         'tfidf__ngram_range': [(1, 2), (2, 2)],\n",
       "                         'tfidf__sublinear_tf': [True, False]},\n",
       "             scoring=make_scorer(f1_score, average=macro))"
      ]
     },
     "execution_count": 55,
     "metadata": {},
     "output_type": "execute_result"
    },
    {
     "name": "stdout",
     "output_type": "stream",
     "text": [
      "The best score of the model is:  0.737\n",
      "The best estimator of the model is:  Pipeline(steps=[('tfidf',\n",
      "                 TfidfVectorizer(max_df=0.7, min_df=3, ngram_range=(1, 2),\n",
      "                                 sublinear_tf=True)),\n",
      "                ('norm', Normalizer()),\n",
      "                ('model',\n",
      "                 Perceptron(alpha=1e-06, fit_intercept=False, penalty='l2',\n",
      "                            shuffle=False))])\n"
     ]
    },
    {
     "data": {
      "text/html": [
       "<style>#sk-4847b177-7715-4f03-8479-3df63bada7e9 {color: black;background-color: white;}#sk-4847b177-7715-4f03-8479-3df63bada7e9 pre{padding: 0;}#sk-4847b177-7715-4f03-8479-3df63bada7e9 div.sk-toggleable {background-color: white;}#sk-4847b177-7715-4f03-8479-3df63bada7e9 label.sk-toggleable__label {cursor: pointer;display: block;width: 100%;margin-bottom: 0;padding: 0.3em;box-sizing: border-box;text-align: center;}#sk-4847b177-7715-4f03-8479-3df63bada7e9 label.sk-toggleable__label-arrow:before {content: \"▸\";float: left;margin-right: 0.25em;color: #696969;}#sk-4847b177-7715-4f03-8479-3df63bada7e9 label.sk-toggleable__label-arrow:hover:before {color: black;}#sk-4847b177-7715-4f03-8479-3df63bada7e9 div.sk-estimator:hover label.sk-toggleable__label-arrow:before {color: black;}#sk-4847b177-7715-4f03-8479-3df63bada7e9 div.sk-toggleable__content {max-height: 0;max-width: 0;overflow: hidden;text-align: left;background-color: #f0f8ff;}#sk-4847b177-7715-4f03-8479-3df63bada7e9 div.sk-toggleable__content pre {margin: 0.2em;color: black;border-radius: 0.25em;background-color: #f0f8ff;}#sk-4847b177-7715-4f03-8479-3df63bada7e9 input.sk-toggleable__control:checked~div.sk-toggleable__content {max-height: 200px;max-width: 100%;overflow: auto;}#sk-4847b177-7715-4f03-8479-3df63bada7e9 input.sk-toggleable__control:checked~label.sk-toggleable__label-arrow:before {content: \"▾\";}#sk-4847b177-7715-4f03-8479-3df63bada7e9 div.sk-estimator input.sk-toggleable__control:checked~label.sk-toggleable__label {background-color: #d4ebff;}#sk-4847b177-7715-4f03-8479-3df63bada7e9 div.sk-label input.sk-toggleable__control:checked~label.sk-toggleable__label {background-color: #d4ebff;}#sk-4847b177-7715-4f03-8479-3df63bada7e9 input.sk-hidden--visually {border: 0;clip: rect(1px 1px 1px 1px);clip: rect(1px, 1px, 1px, 1px);height: 1px;margin: -1px;overflow: hidden;padding: 0;position: absolute;width: 1px;}#sk-4847b177-7715-4f03-8479-3df63bada7e9 div.sk-estimator {font-family: monospace;background-color: #f0f8ff;border: 1px dotted black;border-radius: 0.25em;box-sizing: border-box;margin-bottom: 0.5em;}#sk-4847b177-7715-4f03-8479-3df63bada7e9 div.sk-estimator:hover {background-color: #d4ebff;}#sk-4847b177-7715-4f03-8479-3df63bada7e9 div.sk-parallel-item::after {content: \"\";width: 100%;border-bottom: 1px solid gray;flex-grow: 1;}#sk-4847b177-7715-4f03-8479-3df63bada7e9 div.sk-label:hover label.sk-toggleable__label {background-color: #d4ebff;}#sk-4847b177-7715-4f03-8479-3df63bada7e9 div.sk-serial::before {content: \"\";position: absolute;border-left: 1px solid gray;box-sizing: border-box;top: 2em;bottom: 0;left: 50%;}#sk-4847b177-7715-4f03-8479-3df63bada7e9 div.sk-serial {display: flex;flex-direction: column;align-items: center;background-color: white;padding-right: 0.2em;padding-left: 0.2em;}#sk-4847b177-7715-4f03-8479-3df63bada7e9 div.sk-item {z-index: 1;}#sk-4847b177-7715-4f03-8479-3df63bada7e9 div.sk-parallel {display: flex;align-items: stretch;justify-content: center;background-color: white;}#sk-4847b177-7715-4f03-8479-3df63bada7e9 div.sk-parallel::before {content: \"\";position: absolute;border-left: 1px solid gray;box-sizing: border-box;top: 2em;bottom: 0;left: 50%;}#sk-4847b177-7715-4f03-8479-3df63bada7e9 div.sk-parallel-item {display: flex;flex-direction: column;position: relative;background-color: white;}#sk-4847b177-7715-4f03-8479-3df63bada7e9 div.sk-parallel-item:first-child::after {align-self: flex-end;width: 50%;}#sk-4847b177-7715-4f03-8479-3df63bada7e9 div.sk-parallel-item:last-child::after {align-self: flex-start;width: 50%;}#sk-4847b177-7715-4f03-8479-3df63bada7e9 div.sk-parallel-item:only-child::after {width: 0;}#sk-4847b177-7715-4f03-8479-3df63bada7e9 div.sk-dashed-wrapped {border: 1px dashed gray;margin: 0 0.4em 0.5em 0.4em;box-sizing: border-box;padding-bottom: 0.4em;background-color: white;position: relative;}#sk-4847b177-7715-4f03-8479-3df63bada7e9 div.sk-label label {font-family: monospace;font-weight: bold;background-color: white;display: inline-block;line-height: 1.2em;}#sk-4847b177-7715-4f03-8479-3df63bada7e9 div.sk-label-container {position: relative;z-index: 2;text-align: center;}#sk-4847b177-7715-4f03-8479-3df63bada7e9 div.sk-container {/* jupyter's `normalize.less` sets `[hidden] { display: none; }` but bootstrap.min.css set `[hidden] { display: none !important; }` so we also need the `!important` here to be able to override the default hidden behavior on the sphinx rendered scikit-learn.org. See: https://github.com/scikit-learn/scikit-learn/issues/21755 */display: inline-block !important;position: relative;}#sk-4847b177-7715-4f03-8479-3df63bada7e9 div.sk-text-repr-fallback {display: none;}</style><div id=\"sk-4847b177-7715-4f03-8479-3df63bada7e9\" class=\"sk-top-container\"><div class=\"sk-text-repr-fallback\"><pre>GridSearchCV(cv=10,\n",
       "             estimator=Pipeline(steps=[(&#x27;tfidf&#x27;, TfidfVectorizer()),\n",
       "                                       (&#x27;norm&#x27;, Normalizer()),\n",
       "                                       (&#x27;model&#x27;, SGDClassifier())]),\n",
       "             param_grid={&#x27;model__alpha&#x27;: [0.001, 0.0001],\n",
       "                         &#x27;model__fit_intercept&#x27;: [True, False],\n",
       "                         &#x27;model__loss&#x27;: [&#x27;hinge&#x27;, &#x27;log&#x27;, &#x27;modified_huber&#x27;],\n",
       "                         &#x27;model__penalty&#x27;: [&#x27;l1&#x27;, &#x27;l2&#x27;],\n",
       "                         &#x27;tfidf__max_df&#x27;: [0.8, 0.6, 0.7],\n",
       "                         &#x27;tfidf__min_df&#x27;: [4, 3, 6],\n",
       "                         &#x27;tfidf__ngram_range&#x27;: [(1, 2), (2, 2)]},\n",
       "             scoring=make_scorer(f1_score, average=macro))</pre><b>Please rerun this cell to show the HTML repr or trust the notebook.</b></div><div class=\"sk-container\" hidden><div class=\"sk-item sk-dashed-wrapped\"><div class=\"sk-label-container\"><div class=\"sk-label sk-toggleable\"><input class=\"sk-toggleable__control sk-hidden--visually\" id=\"d6f0b3e4-dd19-4f33-a95e-a5d373e8703e\" type=\"checkbox\" ><label for=\"d6f0b3e4-dd19-4f33-a95e-a5d373e8703e\" class=\"sk-toggleable__label sk-toggleable__label-arrow\">GridSearchCV</label><div class=\"sk-toggleable__content\"><pre>GridSearchCV(cv=10,\n",
       "             estimator=Pipeline(steps=[(&#x27;tfidf&#x27;, TfidfVectorizer()),\n",
       "                                       (&#x27;norm&#x27;, Normalizer()),\n",
       "                                       (&#x27;model&#x27;, SGDClassifier())]),\n",
       "             param_grid={&#x27;model__alpha&#x27;: [0.001, 0.0001],\n",
       "                         &#x27;model__fit_intercept&#x27;: [True, False],\n",
       "                         &#x27;model__loss&#x27;: [&#x27;hinge&#x27;, &#x27;log&#x27;, &#x27;modified_huber&#x27;],\n",
       "                         &#x27;model__penalty&#x27;: [&#x27;l1&#x27;, &#x27;l2&#x27;],\n",
       "                         &#x27;tfidf__max_df&#x27;: [0.8, 0.6, 0.7],\n",
       "                         &#x27;tfidf__min_df&#x27;: [4, 3, 6],\n",
       "                         &#x27;tfidf__ngram_range&#x27;: [(1, 2), (2, 2)]},\n",
       "             scoring=make_scorer(f1_score, average=macro))</pre></div></div></div><div class=\"sk-parallel\"><div class=\"sk-parallel-item\"><div class=\"sk-item\"><div class=\"sk-serial\"><div class=\"sk-item\"><div class=\"sk-serial\"><div class=\"sk-item\"><div class=\"sk-estimator sk-toggleable\"><input class=\"sk-toggleable__control sk-hidden--visually\" id=\"4a63daef-476c-4a10-8a27-d3c82f61f1b6\" type=\"checkbox\" ><label for=\"4a63daef-476c-4a10-8a27-d3c82f61f1b6\" class=\"sk-toggleable__label sk-toggleable__label-arrow\">TfidfVectorizer</label><div class=\"sk-toggleable__content\"><pre>TfidfVectorizer()</pre></div></div></div><div class=\"sk-item\"><div class=\"sk-estimator sk-toggleable\"><input class=\"sk-toggleable__control sk-hidden--visually\" id=\"c1e957ca-e849-4469-83cf-7454063c61eb\" type=\"checkbox\" ><label for=\"c1e957ca-e849-4469-83cf-7454063c61eb\" class=\"sk-toggleable__label sk-toggleable__label-arrow\">Normalizer</label><div class=\"sk-toggleable__content\"><pre>Normalizer()</pre></div></div></div><div class=\"sk-item\"><div class=\"sk-estimator sk-toggleable\"><input class=\"sk-toggleable__control sk-hidden--visually\" id=\"76d550cd-86bb-4f56-b31c-8d8f79572c01\" type=\"checkbox\" ><label for=\"76d550cd-86bb-4f56-b31c-8d8f79572c01\" class=\"sk-toggleable__label sk-toggleable__label-arrow\">SGDClassifier</label><div class=\"sk-toggleable__content\"><pre>SGDClassifier()</pre></div></div></div></div></div></div></div></div></div></div></div></div>"
      ],
      "text/plain": [
       "GridSearchCV(cv=10,\n",
       "             estimator=Pipeline(steps=[('tfidf', TfidfVectorizer()),\n",
       "                                       ('norm', Normalizer()),\n",
       "                                       ('model', SGDClassifier())]),\n",
       "             param_grid={'model__alpha': [0.001, 0.0001],\n",
       "                         'model__fit_intercept': [True, False],\n",
       "                         'model__loss': ['hinge', 'log', 'modified_huber'],\n",
       "                         'model__penalty': ['l1', 'l2'],\n",
       "                         'tfidf__max_df': [0.8, 0.6, 0.7],\n",
       "                         'tfidf__min_df': [4, 3, 6],\n",
       "                         'tfidf__ngram_range': [(1, 2), (2, 2)]},\n",
       "             scoring=make_scorer(f1_score, average=macro))"
      ]
     },
     "execution_count": 55,
     "metadata": {},
     "output_type": "execute_result"
    },
    {
     "name": "stdout",
     "output_type": "stream",
     "text": [
      "The best score of the model is:  0.721\n",
      "The best estimator of the model is:  Pipeline(steps=[('tfidf',\n",
      "                 TfidfVectorizer(max_df=0.7, min_df=3, ngram_range=(1, 2))),\n",
      "                ('norm', Normalizer()),\n",
      "                ('model',\n",
      "                 SGDClassifier(fit_intercept=False, loss='modified_huber',\n",
      "                               penalty='l1'))])\n"
     ]
    }
   ],
   "source": [
    "highest_score = 0.0\n",
    "best_model = None\n",
    "\n",
    "for name, model in best_models:\n",
    "    pipeline = Pipeline([\n",
    "        ('tfidf', TfidfVectorizer()),\n",
    "        ('norm', preprocessing.Normalizer(norm = 'l2')),\n",
    "        ('model', model)\n",
    "    ])\n",
    "\n",
    "    params = best_models_params()\n",
    "     \n",
    "    set_config(display='diagram')      \n",
    "                                         \n",
    "                      \n",
    "    grid = GridSearchCV(pipeline, params, scoring=make_scorer(f1_score, average='macro'), cv=10)\n",
    "    grid.fit(X_train, y_train)\n",
    "\n",
    "    if highest_score < grid.best_score_:\n",
    "        highest_score = grid.best_score_\n",
    "        best_model = grid.best_estimator_\n",
    "    \n",
    "    \n",
    "    print(\"The best score of the model is: \", round(grid.best_score_, 3))\n",
    "    print(\"The best estimator of the model is: \", grid.best_estimator_)"
   ]
  },
  {
   "cell_type": "code",
   "execution_count": 56,
   "metadata": {
    "scrolled": true
   },
   "outputs": [
    {
     "data": {
      "image/png": "[encoded data removed]",
      "text/plain": [
       "<Figure size 720x432 with 1 Axes>"
      ]
     },
     "metadata": {
      "needs_background": "light"
     },
     "output_type": "display_data"
    }
   ],
   "source": [
    "f1_scores = {\n",
    "    'Perceptron': 0.737,\n",
    "    'SGDClassifier': 0.721,\n",
    "}\n",
    "\n",
    "sorted_models = sorted(f1_scores.items(), key=lambda x: x[1], reverse=True)\n",
    "\n",
    "top_models = sorted_models[:2]\n",
    "top_model_names = [model[0] for model in top_models]\n",
    "top_model_scores = [model[1] for model in top_models]\n",
    "\n",
    "model_names = list(f1_scores.keys())\n",
    "f1_values = list(f1_scores.values())\n",
    "\n",
    "plt.figure(figsize=(10, 6))\n",
    "\n",
    "bar_colors = ['green' if model == 'Perceptron' else 'blue' for model in model_names]\n",
    "\n",
    "bars = plt.bar(model_names, f1_values, color=bar_colors)\n",
    "plt.xlabel('Model')\n",
    "plt.ylabel('F1 Score')\n",
    "plt.title('Best Models')\n",
    "plt.ylim(0.7, 0.75)  # Adjust y limits\n",
    "plt.xticks(rotation=45)\n",
    "\n",
    "for i, (model, score) in enumerate(f1_scores.items()):\n",
    "    plt.annotate(f'{score:.3f}', (i, score), textcoords=\"offset points\", xytext=(0, 10), ha='center')\n",
    "\n",
    "legend_elements = [\n",
    "    Patch(facecolor='green', label='Perceptron'),\n",
    "    Patch(facecolor='blue', label='SGDClassifier')\n",
    "]\n",
    "\n",
    "plt.legend(handles=legend_elements, loc=\"upper right\")\n",
    "\n",
    "plt.tight_layout()\n",
    "plt.show();"
   ]
  },
  {
   "cell_type": "markdown",
   "metadata": {},
   "source": [
    "<div style=\"background-color: lightblue; padding: 10px;\">\n",
    "\n",
    "<font face=\"Fugaz One\" size=5 color='#00000' style=\"background-color: lightblue\">As we can see </font>    \n",
    "<font face=\"Fugaz One\" size=3 color='#00000' style=\"background-color: lightblue\">'Perceptron' is still the best model from all the models we checked<br/>But there is a bit improve with those Hyperparameters </font>    \n",
    "<font face=\"Fugaz One\" size=3 color='#FF0000' style=\"background-color: lightblue\">I want to give 'SGD' last chance to overcome the 'Perceptron' result</font>    \n",
    "<font face=\"Fugaz One\" size=3 color='#AA0000' style=\"background-color: lightblue\">I will change a bit the Hyperparameters</font>\n",
    "<div/>"
   ]
  },
  {
   "cell_type": "code",
   "execution_count": 58,
   "metadata": {},
   "outputs": [
    {
     "data": {
      "text/html": [
       "<style>#sk-137ef18b-a1f7-47a1-9a57-27e2963c7233 {color: black;background-color: white;}#sk-137ef18b-a1f7-47a1-9a57-27e2963c7233 pre{padding: 0;}#sk-137ef18b-a1f7-47a1-9a57-27e2963c7233 div.sk-toggleable {background-color: white;}#sk-137ef18b-a1f7-47a1-9a57-27e2963c7233 label.sk-toggleable__label {cursor: pointer;display: block;width: 100%;margin-bottom: 0;padding: 0.3em;box-sizing: border-box;text-align: center;}#sk-137ef18b-a1f7-47a1-9a57-27e2963c7233 label.sk-toggleable__label-arrow:before {content: \"▸\";float: left;margin-right: 0.25em;color: #696969;}#sk-137ef18b-a1f7-47a1-9a57-27e2963c7233 label.sk-toggleable__label-arrow:hover:before {color: black;}#sk-137ef18b-a1f7-47a1-9a57-27e2963c7233 div.sk-estimator:hover label.sk-toggleable__label-arrow:before {color: black;}#sk-137ef18b-a1f7-47a1-9a57-27e2963c7233 div.sk-toggleable__content {max-height: 0;max-width: 0;overflow: hidden;text-align: left;background-color: #f0f8ff;}#sk-137ef18b-a1f7-47a1-9a57-27e2963c7233 div.sk-toggleable__content pre {margin: 0.2em;color: black;border-radius: 0.25em;background-color: #f0f8ff;}#sk-137ef18b-a1f7-47a1-9a57-27e2963c7233 input.sk-toggleable__control:checked~div.sk-toggleable__content {max-height: 200px;max-width: 100%;overflow: auto;}#sk-137ef18b-a1f7-47a1-9a57-27e2963c7233 input.sk-toggleable__control:checked~label.sk-toggleable__label-arrow:before {content: \"▾\";}#sk-137ef18b-a1f7-47a1-9a57-27e2963c7233 div.sk-estimator input.sk-toggleable__control:checked~label.sk-toggleable__label {background-color: #d4ebff;}#sk-137ef18b-a1f7-47a1-9a57-27e2963c7233 div.sk-label input.sk-toggleable__control:checked~label.sk-toggleable__label {background-color: #d4ebff;}#sk-137ef18b-a1f7-47a1-9a57-27e2963c7233 input.sk-hidden--visually {border: 0;clip: rect(1px 1px 1px 1px);clip: rect(1px, 1px, 1px, 1px);height: 1px;margin: -1px;overflow: hidden;padding: 0;position: absolute;width: 1px;}#sk-137ef18b-a1f7-47a1-9a57-27e2963c7233 div.sk-estimator {font-family: monospace;background-color: #f0f8ff;border: 1px dotted black;border-radius: 0.25em;box-sizing: border-box;margin-bottom: 0.5em;}#sk-137ef18b-a1f7-47a1-9a57-27e2963c7233 div.sk-estimator:hover {background-color: #d4ebff;}#sk-137ef18b-a1f7-47a1-9a57-27e2963c7233 div.sk-parallel-item::after {content: \"\";width: 100%;border-bottom: 1px solid gray;flex-grow: 1;}#sk-137ef18b-a1f7-47a1-9a57-27e2963c7233 div.sk-label:hover label.sk-toggleable__label {background-color: #d4ebff;}#sk-137ef18b-a1f7-47a1-9a57-27e2963c7233 div.sk-serial::before {content: \"\";position: absolute;border-left: 1px solid gray;box-sizing: border-box;top: 2em;bottom: 0;left: 50%;}#sk-137ef18b-a1f7-47a1-9a57-27e2963c7233 div.sk-serial {display: flex;flex-direction: column;align-items: center;background-color: white;padding-right: 0.2em;padding-left: 0.2em;}#sk-137ef18b-a1f7-47a1-9a57-27e2963c7233 div.sk-item {z-index: 1;}#sk-137ef18b-a1f7-47a1-9a57-27e2963c7233 div.sk-parallel {display: flex;align-items: stretch;justify-content: center;background-color: white;}#sk-137ef18b-a1f7-47a1-9a57-27e2963c7233 div.sk-parallel::before {content: \"\";position: absolute;border-left: 1px solid gray;box-sizing: border-box;top: 2em;bottom: 0;left: 50%;}#sk-137ef18b-a1f7-47a1-9a57-27e2963c7233 div.sk-parallel-item {display: flex;flex-direction: column;position: relative;background-color: white;}#sk-137ef18b-a1f7-47a1-9a57-27e2963c7233 div.sk-parallel-item:first-child::after {align-self: flex-end;width: 50%;}#sk-137ef18b-a1f7-47a1-9a57-27e2963c7233 div.sk-parallel-item:last-child::after {align-self: flex-start;width: 50%;}#sk-137ef18b-a1f7-47a1-9a57-27e2963c7233 div.sk-parallel-item:only-child::after {width: 0;}#sk-137ef18b-a1f7-47a1-9a57-27e2963c7233 div.sk-dashed-wrapped {border: 1px dashed gray;margin: 0 0.4em 0.5em 0.4em;box-sizing: border-box;padding-bottom: 0.4em;background-color: white;position: relative;}#sk-137ef18b-a1f7-47a1-9a57-27e2963c7233 div.sk-label label {font-family: monospace;font-weight: bold;background-color: white;display: inline-block;line-height: 1.2em;}#sk-137ef18b-a1f7-47a1-9a57-27e2963c7233 div.sk-label-container {position: relative;z-index: 2;text-align: center;}#sk-137ef18b-a1f7-47a1-9a57-27e2963c7233 div.sk-container {/* jupyter's `normalize.less` sets `[hidden] { display: none; }` but bootstrap.min.css set `[hidden] { display: none !important; }` so we also need the `!important` here to be able to override the default hidden behavior on the sphinx rendered scikit-learn.org. See: https://github.com/scikit-learn/scikit-learn/issues/21755 */display: inline-block !important;position: relative;}#sk-137ef18b-a1f7-47a1-9a57-27e2963c7233 div.sk-text-repr-fallback {display: none;}</style><div id=\"sk-137ef18b-a1f7-47a1-9a57-27e2963c7233\" class=\"sk-top-container\"><div class=\"sk-text-repr-fallback\"><pre>GridSearchCV(cv=10,\n",
       "             estimator=Pipeline(steps=[(&#x27;tfidf&#x27;,\n",
       "                                        TfidfVectorizer(tokenizer=&lt;function tokenized at 0x0000023A14E28B80&gt;)),\n",
       "                                       (&#x27;normalize&#x27;, Normalizer()),\n",
       "                                       (&#x27;clf&#x27;,\n",
       "                                        SGDClassifier(random_state=42))]),\n",
       "             param_grid={&#x27;clf__alpha&#x27;: [0.0001, 0.001, 0.01],\n",
       "                         &#x27;clf__eta0&#x27;: [0.01, 0.1, 1],\n",
       "                         &#x27;clf__learning_rate&#x27;: [&#x27;optimal&#x27;, &#x27;adaptive&#x27;],\n",
       "                         &#x27;clf__loss&#x27;: [&#x27;hinge&#x27;, &#x27;log&#x27;, &#x27;modified_huber&#x27;],\n",
       "                         &#x27;clf__max_iter&#x27;: [100, 200, 300],\n",
       "                         &#x27;clf__n_iter_no_change&#x27;: [5, 10],\n",
       "                         &#x27;clf__penalty&#x27;: [&#x27;elasticnet&#x27;],\n",
       "                         &#x27;clf__validation_fraction&#x27;: [0.1, 0.2]},\n",
       "             scoring=&#x27;f1_macro&#x27;)</pre><b>Please rerun this cell to show the HTML repr or trust the notebook.</b></div><div class=\"sk-container\" hidden><div class=\"sk-item sk-dashed-wrapped\"><div class=\"sk-label-container\"><div class=\"sk-label sk-toggleable\"><input class=\"sk-toggleable__control sk-hidden--visually\" id=\"7d66594f-4762-4929-8301-f9731278a5ef\" type=\"checkbox\" ><label for=\"7d66594f-4762-4929-8301-f9731278a5ef\" class=\"sk-toggleable__label sk-toggleable__label-arrow\">GridSearchCV</label><div class=\"sk-toggleable__content\"><pre>GridSearchCV(cv=10,\n",
       "             estimator=Pipeline(steps=[(&#x27;tfidf&#x27;,\n",
       "                                        TfidfVectorizer(tokenizer=&lt;function tokenized at 0x0000023A14E28B80&gt;)),\n",
       "                                       (&#x27;normalize&#x27;, Normalizer()),\n",
       "                                       (&#x27;clf&#x27;,\n",
       "                                        SGDClassifier(random_state=42))]),\n",
       "             param_grid={&#x27;clf__alpha&#x27;: [0.0001, 0.001, 0.01],\n",
       "                         &#x27;clf__eta0&#x27;: [0.01, 0.1, 1],\n",
       "                         &#x27;clf__learning_rate&#x27;: [&#x27;optimal&#x27;, &#x27;adaptive&#x27;],\n",
       "                         &#x27;clf__loss&#x27;: [&#x27;hinge&#x27;, &#x27;log&#x27;, &#x27;modified_huber&#x27;],\n",
       "                         &#x27;clf__max_iter&#x27;: [100, 200, 300],\n",
       "                         &#x27;clf__n_iter_no_change&#x27;: [5, 10],\n",
       "                         &#x27;clf__penalty&#x27;: [&#x27;elasticnet&#x27;],\n",
       "                         &#x27;clf__validation_fraction&#x27;: [0.1, 0.2]},\n",
       "             scoring=&#x27;f1_macro&#x27;)</pre></div></div></div><div class=\"sk-parallel\"><div class=\"sk-parallel-item\"><div class=\"sk-item\"><div class=\"sk-serial\"><div class=\"sk-item\"><div class=\"sk-serial\"><div class=\"sk-item\"><div class=\"sk-estimator sk-toggleable\"><input class=\"sk-toggleable__control sk-hidden--visually\" id=\"dd5ea783-2e2a-42c9-82fa-766f27550a07\" type=\"checkbox\" ><label for=\"dd5ea783-2e2a-42c9-82fa-766f27550a07\" class=\"sk-toggleable__label sk-toggleable__label-arrow\">TfidfVectorizer</label><div class=\"sk-toggleable__content\"><pre>TfidfVectorizer(tokenizer=&lt;function tokenized at 0x0000023A14E28B80&gt;)</pre></div></div></div><div class=\"sk-item\"><div class=\"sk-estimator sk-toggleable\"><input class=\"sk-toggleable__control sk-hidden--visually\" id=\"c6ffe2d7-32a1-411c-b1e0-17acb63f8990\" type=\"checkbox\" ><label for=\"c6ffe2d7-32a1-411c-b1e0-17acb63f8990\" class=\"sk-toggleable__label sk-toggleable__label-arrow\">Normalizer</label><div class=\"sk-toggleable__content\"><pre>Normalizer()</pre></div></div></div><div class=\"sk-item\"><div class=\"sk-estimator sk-toggleable\"><input class=\"sk-toggleable__control sk-hidden--visually\" id=\"904e700c-6493-46bd-b10c-1b740e4c724a\" type=\"checkbox\" ><label for=\"904e700c-6493-46bd-b10c-1b740e4c724a\" class=\"sk-toggleable__label sk-toggleable__label-arrow\">SGDClassifier</label><div class=\"sk-toggleable__content\"><pre>SGDClassifier(random_state=42)</pre></div></div></div></div></div></div></div></div></div></div></div></div>"
      ],
      "text/plain": [
       "GridSearchCV(cv=10,\n",
       "             estimator=Pipeline(steps=[('tfidf',\n",
       "                                        TfidfVectorizer(tokenizer=<function tokenized at 0x0000023A14E28B80>)),\n",
       "                                       ('normalize', Normalizer()),\n",
       "                                       ('clf',\n",
       "                                        SGDClassifier(random_state=42))]),\n",
       "             param_grid={'clf__alpha': [0.0001, 0.001, 0.01],\n",
       "                         'clf__eta0': [0.01, 0.1, 1],\n",
       "                         'clf__learning_rate': ['optimal', 'adaptive'],\n",
       "                         'clf__loss': ['hinge', 'log', 'modified_huber'],\n",
       "                         'clf__max_iter': [100, 200, 300],\n",
       "                         'clf__n_iter_no_change': [5, 10],\n",
       "                         'clf__penalty': ['elasticnet'],\n",
       "                         'clf__validation_fraction': [0.1, 0.2]},\n",
       "             scoring='f1_macro')"
      ]
     },
     "execution_count": 58,
     "metadata": {},
     "output_type": "execute_result"
    },
    {
     "name": "stdout",
     "output_type": "stream",
     "text": [
      "Best hyperparameters for SGDClassifier: {'clf__alpha': 0.0001, 'clf__eta0': 0.01, 'clf__learning_rate': 'optimal', 'clf__loss': 'hinge', 'clf__max_iter': 100, 'clf__n_iter_no_change': 5, 'clf__penalty': 'elasticnet', 'clf__validation_fraction': 0.1}\n",
      "Cross-validation F1 score for SGDClassifier: 0.6639265100609184\n"
     ]
    }
   ],
   "source": [
    "SGDClassifier_pipeline = Pipeline([\n",
    "    ('tfidf', TfidfVectorizer(tokenizer=tokenized)),\n",
    "    ('normalize', preprocessing.Normalizer(norm='l2')),\n",
    "    ('clf', SGDClassifier(random_state=42))\n",
    "])\n",
    "\n",
    "param_grid = {\n",
    "    'clf__alpha': [0.0001, 0.001, 0.01],\n",
    "    'clf__penalty': ['elasticnet'],\n",
    "    'clf__loss': ['hinge', 'log', 'modified_huber'],\n",
    "    'clf__max_iter': [100, 200, 300],\n",
    "    'clf__learning_rate': ['optimal', 'adaptive'],\n",
    "    'clf__eta0': [0.01, 0.1, 1],\n",
    "    'clf__validation_fraction': [0.1, 0.2],\n",
    "    'clf__n_iter_no_change': [5, 10]\n",
    "}\n",
    "\n",
    "# Perform grid search\n",
    "grid_search = GridSearchCV(SGDClassifier_pipeline, param_grid, cv=10, scoring='f1_macro')\n",
    "grid_search.fit(X_train, y_train)\n",
    "\n",
    "# Print the best hyperparameters and cross-validation score\n",
    "print(\"Best hyperparameters for SGDClassifier:\", grid_search.best_params_)\n",
    "print(\"Cross-validation F1 score for SGDClassifier:\", grid_search.best_score_)\n"
   ]
  },
  {
   "cell_type": "markdown",
   "metadata": {},
   "source": [
    "<div style=\"background-color: lightblue; padding: 10px;\">\n",
    "\n",
    "<font face=\"Fugaz One\" size=5 color='#00000' style=\"background-color: lightblue\">As we can see </font>    \n",
    "<font face=\"Fugaz One\" size=3 color='#00000' style=\"background-color: lightblue\">'Perceptron' is still the best model from all the models we checked<br/>And the improvment test we did on the SGD has failed. </font>    \n",
    "<font face=\"Fugaz One\" size=3 color='#FF0000'>I think there is a possible way to make SGD overcome the Perceptron's result but<br/>I am really satisfied from all we've gained so far</font>  \n",
    "<div/>"
   ]
  },
  {
   "cell_type": "code",
   "execution_count": 59,
   "metadata": {},
   "outputs": [
    {
     "name": "stdout",
     "output_type": "stream",
     "text": [
      "The highest score of the model is: 0.7368324272547824\n",
      "\n",
      "The best model is : Pipeline(steps=[('tfidf',\n",
      "                 TfidfVectorizer(max_df=0.7, min_df=3, ngram_range=(1, 2),\n",
      "                                 sublinear_tf=True)),\n",
      "                ('norm', Normalizer()),\n",
      "                ('model',\n",
      "                 Perceptron(alpha=1e-06, fit_intercept=False, penalty='l2',\n",
      "                            shuffle=False))])\n"
     ]
    }
   ],
   "source": [
    "print(f\"The highest score of the model is: {highest_score}\\n\")\n",
    "print(f\"The best model is :\", best_model)"
   ]
  },
  {
   "cell_type": "markdown",
   "metadata": {},
   "source": [
    "<div style=\"background-color: black; padding: 10px; text-align: center;\">\n",
    "        <font face=\"Fugaz One\" size=6 color='#999999'>The Best Model</font>    \n",
    "</div>\n"
   ]
  },
  {
   "cell_type": "markdown",
   "metadata": {},
   "source": [
    "<div style=\"background-color: lightblue; padding: 10px;\"><font face=\"Fugaz One\" size=5 color='#00000'>Average F1 score : Best Model with Tf idf</font>    \n",
    "</div>"
   ]
  },
  {
   "cell_type": "code",
   "execution_count": 61,
   "metadata": {
    "scrolled": true
   },
   "outputs": [
    {
     "data": {
      "text/html": [
       "<style>#sk-3d6a91ec-dd1e-4b93-b9c4-7b618c1db699 {color: black;background-color: white;}#sk-3d6a91ec-dd1e-4b93-b9c4-7b618c1db699 pre{padding: 0;}#sk-3d6a91ec-dd1e-4b93-b9c4-7b618c1db699 div.sk-toggleable {background-color: white;}#sk-3d6a91ec-dd1e-4b93-b9c4-7b618c1db699 label.sk-toggleable__label {cursor: pointer;display: block;width: 100%;margin-bottom: 0;padding: 0.3em;box-sizing: border-box;text-align: center;}#sk-3d6a91ec-dd1e-4b93-b9c4-7b618c1db699 label.sk-toggleable__label-arrow:before {content: \"▸\";float: left;margin-right: 0.25em;color: #696969;}#sk-3d6a91ec-dd1e-4b93-b9c4-7b618c1db699 label.sk-toggleable__label-arrow:hover:before {color: black;}#sk-3d6a91ec-dd1e-4b93-b9c4-7b618c1db699 div.sk-estimator:hover label.sk-toggleable__label-arrow:before {color: black;}#sk-3d6a91ec-dd1e-4b93-b9c4-7b618c1db699 div.sk-toggleable__content {max-height: 0;max-width: 0;overflow: hidden;text-align: left;background-color: #f0f8ff;}#sk-3d6a91ec-dd1e-4b93-b9c4-7b618c1db699 div.sk-toggleable__content pre {margin: 0.2em;color: black;border-radius: 0.25em;background-color: #f0f8ff;}#sk-3d6a91ec-dd1e-4b93-b9c4-7b618c1db699 input.sk-toggleable__control:checked~div.sk-toggleable__content {max-height: 200px;max-width: 100%;overflow: auto;}#sk-3d6a91ec-dd1e-4b93-b9c4-7b618c1db699 input.sk-toggleable__control:checked~label.sk-toggleable__label-arrow:before {content: \"▾\";}#sk-3d6a91ec-dd1e-4b93-b9c4-7b618c1db699 div.sk-estimator input.sk-toggleable__control:checked~label.sk-toggleable__label {background-color: #d4ebff;}#sk-3d6a91ec-dd1e-4b93-b9c4-7b618c1db699 div.sk-label input.sk-toggleable__control:checked~label.sk-toggleable__label {background-color: #d4ebff;}#sk-3d6a91ec-dd1e-4b93-b9c4-7b618c1db699 input.sk-hidden--visually {border: 0;clip: rect(1px 1px 1px 1px);clip: rect(1px, 1px, 1px, 1px);height: 1px;margin: -1px;overflow: hidden;padding: 0;position: absolute;width: 1px;}#sk-3d6a91ec-dd1e-4b93-b9c4-7b618c1db699 div.sk-estimator {font-family: monospace;background-color: #f0f8ff;border: 1px dotted black;border-radius: 0.25em;box-sizing: border-box;margin-bottom: 0.5em;}#sk-3d6a91ec-dd1e-4b93-b9c4-7b618c1db699 div.sk-estimator:hover {background-color: #d4ebff;}#sk-3d6a91ec-dd1e-4b93-b9c4-7b618c1db699 div.sk-parallel-item::after {content: \"\";width: 100%;border-bottom: 1px solid gray;flex-grow: 1;}#sk-3d6a91ec-dd1e-4b93-b9c4-7b618c1db699 div.sk-label:hover label.sk-toggleable__label {background-color: #d4ebff;}#sk-3d6a91ec-dd1e-4b93-b9c4-7b618c1db699 div.sk-serial::before {content: \"\";position: absolute;border-left: 1px solid gray;box-sizing: border-box;top: 2em;bottom: 0;left: 50%;}#sk-3d6a91ec-dd1e-4b93-b9c4-7b618c1db699 div.sk-serial {display: flex;flex-direction: column;align-items: center;background-color: white;padding-right: 0.2em;padding-left: 0.2em;}#sk-3d6a91ec-dd1e-4b93-b9c4-7b618c1db699 div.sk-item {z-index: 1;}#sk-3d6a91ec-dd1e-4b93-b9c4-7b618c1db699 div.sk-parallel {display: flex;align-items: stretch;justify-content: center;background-color: white;}#sk-3d6a91ec-dd1e-4b93-b9c4-7b618c1db699 div.sk-parallel::before {content: \"\";position: absolute;border-left: 1px solid gray;box-sizing: border-box;top: 2em;bottom: 0;left: 50%;}#sk-3d6a91ec-dd1e-4b93-b9c4-7b618c1db699 div.sk-parallel-item {display: flex;flex-direction: column;position: relative;background-color: white;}#sk-3d6a91ec-dd1e-4b93-b9c4-7b618c1db699 div.sk-parallel-item:first-child::after {align-self: flex-end;width: 50%;}#sk-3d6a91ec-dd1e-4b93-b9c4-7b618c1db699 div.sk-parallel-item:last-child::after {align-self: flex-start;width: 50%;}#sk-3d6a91ec-dd1e-4b93-b9c4-7b618c1db699 div.sk-parallel-item:only-child::after {width: 0;}#sk-3d6a91ec-dd1e-4b93-b9c4-7b618c1db699 div.sk-dashed-wrapped {border: 1px dashed gray;margin: 0 0.4em 0.5em 0.4em;box-sizing: border-box;padding-bottom: 0.4em;background-color: white;position: relative;}#sk-3d6a91ec-dd1e-4b93-b9c4-7b618c1db699 div.sk-label label {font-family: monospace;font-weight: bold;background-color: white;display: inline-block;line-height: 1.2em;}#sk-3d6a91ec-dd1e-4b93-b9c4-7b618c1db699 div.sk-label-container {position: relative;z-index: 2;text-align: center;}#sk-3d6a91ec-dd1e-4b93-b9c4-7b618c1db699 div.sk-container {/* jupyter's `normalize.less` sets `[hidden] { display: none; }` but bootstrap.min.css set `[hidden] { display: none !important; }` so we also need the `!important` here to be able to override the default hidden behavior on the sphinx rendered scikit-learn.org. See: https://github.com/scikit-learn/scikit-learn/issues/21755 */display: inline-block !important;position: relative;}#sk-3d6a91ec-dd1e-4b93-b9c4-7b618c1db699 div.sk-text-repr-fallback {display: none;}</style><div id=\"sk-3d6a91ec-dd1e-4b93-b9c4-7b618c1db699\" class=\"sk-top-container\"><div class=\"sk-text-repr-fallback\"><pre>Pipeline(steps=[(&#x27;tfidf&#x27;,\n",
       "                 TfidfVectorizer(max_df=0.7, min_df=3, ngram_range=(1, 2),\n",
       "                                 sublinear_tf=True)),\n",
       "                (&#x27;norm&#x27;, Normalizer()),\n",
       "                (&#x27;model&#x27;,\n",
       "                 Perceptron(alpha=1e-06, fit_intercept=False, penalty=&#x27;l2&#x27;,\n",
       "                            shuffle=False))])</pre><b>Please rerun this cell to show the HTML repr or trust the notebook.</b></div><div class=\"sk-container\" hidden><div class=\"sk-item sk-dashed-wrapped\"><div class=\"sk-label-container\"><div class=\"sk-label sk-toggleable\"><input class=\"sk-toggleable__control sk-hidden--visually\" id=\"4bb51d9d-e366-40bb-b766-66529a7e4d7e\" type=\"checkbox\" ><label for=\"4bb51d9d-e366-40bb-b766-66529a7e4d7e\" class=\"sk-toggleable__label sk-toggleable__label-arrow\">Pipeline</label><div class=\"sk-toggleable__content\"><pre>Pipeline(steps=[(&#x27;tfidf&#x27;,\n",
       "                 TfidfVectorizer(max_df=0.7, min_df=3, ngram_range=(1, 2),\n",
       "                                 sublinear_tf=True)),\n",
       "                (&#x27;norm&#x27;, Normalizer()),\n",
       "                (&#x27;model&#x27;,\n",
       "                 Perceptron(alpha=1e-06, fit_intercept=False, penalty=&#x27;l2&#x27;,\n",
       "                            shuffle=False))])</pre></div></div></div><div class=\"sk-serial\"><div class=\"sk-item\"><div class=\"sk-estimator sk-toggleable\"><input class=\"sk-toggleable__control sk-hidden--visually\" id=\"677eb654-c992-4a8c-be0e-ab44d8c1c0a3\" type=\"checkbox\" ><label for=\"677eb654-c992-4a8c-be0e-ab44d8c1c0a3\" class=\"sk-toggleable__label sk-toggleable__label-arrow\">TfidfVectorizer</label><div class=\"sk-toggleable__content\"><pre>TfidfVectorizer(max_df=0.7, min_df=3, ngram_range=(1, 2), sublinear_tf=True)</pre></div></div></div><div class=\"sk-item\"><div class=\"sk-estimator sk-toggleable\"><input class=\"sk-toggleable__control sk-hidden--visually\" id=\"e6b05ee4-ed1d-465b-a36a-e5f2d816ff07\" type=\"checkbox\" ><label for=\"e6b05ee4-ed1d-465b-a36a-e5f2d816ff07\" class=\"sk-toggleable__label sk-toggleable__label-arrow\">Normalizer</label><div class=\"sk-toggleable__content\"><pre>Normalizer()</pre></div></div></div><div class=\"sk-item\"><div class=\"sk-estimator sk-toggleable\"><input class=\"sk-toggleable__control sk-hidden--visually\" id=\"35333fbb-85d9-4deb-a0c7-5b283d495d3b\" type=\"checkbox\" ><label for=\"35333fbb-85d9-4deb-a0c7-5b283d495d3b\" class=\"sk-toggleable__label sk-toggleable__label-arrow\">Perceptron</label><div class=\"sk-toggleable__content\"><pre>Perceptron(alpha=1e-06, fit_intercept=False, penalty=&#x27;l2&#x27;, shuffle=False)</pre></div></div></div></div></div></div></div>"
      ],
      "text/plain": [
       "Pipeline(steps=[('tfidf',\n",
       "                 TfidfVectorizer(max_df=0.7, min_df=3, ngram_range=(1, 2),\n",
       "                                 sublinear_tf=True)),\n",
       "                ('norm', Normalizer()),\n",
       "                ('model',\n",
       "                 Perceptron(alpha=1e-06, fit_intercept=False, penalty='l2',\n",
       "                            shuffle=False))])"
      ]
     },
     "execution_count": 61,
     "metadata": {},
     "output_type": "execute_result"
    },
    {
     "name": "stdout",
     "output_type": "stream",
     "text": [
      "Average F1 score: 0.7368324272547824\n"
     ]
    }
   ],
   "source": [
    "tfidf_for_perceptron = Pipeline(\n",
    "    [\n",
    "        ('tfidf',TfidfVectorizer(max_df=0.7, min_df=3, ngram_range=(1, 2),\n",
    "                                 sublinear_tf=True)),\n",
    "                ('norm', preprocessing.Normalizer()),\n",
    "                ('model',\n",
    "                 Perceptron(alpha=1e-06, fit_intercept=False, penalty='l2',\n",
    "                            shuffle=False))])\n",
    "\n",
    "\n",
    "tfidf_for_perceptron.fit(X_train, y_train)\n",
    "f1_scores = cross_val_score(\n",
    "    tfidf_for_perceptron, X_train, y_train, cv=10, scoring='f1_macro')\n",
    "avg_f1_score = np.mean(f1_scores)\n",
    "print(\"Average F1 score:\", avg_f1_score)"
   ]
  },
  {
   "attachments": {
    "%D7%9C%D7%9C%D7%90%20%D7%A9%D7%9D.png": {
     "image/png": "[encoded data removed]"
    }
   },
   "cell_type": "markdown",
   "metadata": {},
   "source": [
    "![%D7%9C%D7%9C%D7%90%20%D7%A9%D7%9D.png](attachment:%D7%9C%D7%9C%D7%90%20%D7%A9%D7%9D.png)"
   ]
  },
  {
   "cell_type": "markdown",
   "metadata": {},
   "source": [
    "<div style=\"background-color: lightblue; padding: 10px;\"><font face=\"Fugaz One\" size=5 color='#00000'>Average F1 score : Best Model with CountVectorizer</font>    \n",
    "</div>"
   ]
  },
  {
   "cell_type": "code",
   "execution_count": 63,
   "metadata": {
    "scrolled": true
   },
   "outputs": [
    {
     "data": {
      "text/html": [
       "<style>#sk-e4815014-3afe-451b-bba9-f46cb12131ff {color: black;background-color: white;}#sk-e4815014-3afe-451b-bba9-f46cb12131ff pre{padding: 0;}#sk-e4815014-3afe-451b-bba9-f46cb12131ff div.sk-toggleable {background-color: white;}#sk-e4815014-3afe-451b-bba9-f46cb12131ff label.sk-toggleable__label {cursor: pointer;display: block;width: 100%;margin-bottom: 0;padding: 0.3em;box-sizing: border-box;text-align: center;}#sk-e4815014-3afe-451b-bba9-f46cb12131ff label.sk-toggleable__label-arrow:before {content: \"▸\";float: left;margin-right: 0.25em;color: #696969;}#sk-e4815014-3afe-451b-bba9-f46cb12131ff label.sk-toggleable__label-arrow:hover:before {color: black;}#sk-e4815014-3afe-451b-bba9-f46cb12131ff div.sk-estimator:hover label.sk-toggleable__label-arrow:before {color: black;}#sk-e4815014-3afe-451b-bba9-f46cb12131ff div.sk-toggleable__content {max-height: 0;max-width: 0;overflow: hidden;text-align: left;background-color: #f0f8ff;}#sk-e4815014-3afe-451b-bba9-f46cb12131ff div.sk-toggleable__content pre {margin: 0.2em;color: black;border-radius: 0.25em;background-color: #f0f8ff;}#sk-e4815014-3afe-451b-bba9-f46cb12131ff input.sk-toggleable__control:checked~div.sk-toggleable__content {max-height: 200px;max-width: 100%;overflow: auto;}#sk-e4815014-3afe-451b-bba9-f46cb12131ff input.sk-toggleable__control:checked~label.sk-toggleable__label-arrow:before {content: \"▾\";}#sk-e4815014-3afe-451b-bba9-f46cb12131ff div.sk-estimator input.sk-toggleable__control:checked~label.sk-toggleable__label {background-color: #d4ebff;}#sk-e4815014-3afe-451b-bba9-f46cb12131ff div.sk-label input.sk-toggleable__control:checked~label.sk-toggleable__label {background-color: #d4ebff;}#sk-e4815014-3afe-451b-bba9-f46cb12131ff input.sk-hidden--visually {border: 0;clip: rect(1px 1px 1px 1px);clip: rect(1px, 1px, 1px, 1px);height: 1px;margin: -1px;overflow: hidden;padding: 0;position: absolute;width: 1px;}#sk-e4815014-3afe-451b-bba9-f46cb12131ff div.sk-estimator {font-family: monospace;background-color: #f0f8ff;border: 1px dotted black;border-radius: 0.25em;box-sizing: border-box;margin-bottom: 0.5em;}#sk-e4815014-3afe-451b-bba9-f46cb12131ff div.sk-estimator:hover {background-color: #d4ebff;}#sk-e4815014-3afe-451b-bba9-f46cb12131ff div.sk-parallel-item::after {content: \"\";width: 100%;border-bottom: 1px solid gray;flex-grow: 1;}#sk-e4815014-3afe-451b-bba9-f46cb12131ff div.sk-label:hover label.sk-toggleable__label {background-color: #d4ebff;}#sk-e4815014-3afe-451b-bba9-f46cb12131ff div.sk-serial::before {content: \"\";position: absolute;border-left: 1px solid gray;box-sizing: border-box;top: 2em;bottom: 0;left: 50%;}#sk-e4815014-3afe-451b-bba9-f46cb12131ff div.sk-serial {display: flex;flex-direction: column;align-items: center;background-color: white;padding-right: 0.2em;padding-left: 0.2em;}#sk-e4815014-3afe-451b-bba9-f46cb12131ff div.sk-item {z-index: 1;}#sk-e4815014-3afe-451b-bba9-f46cb12131ff div.sk-parallel {display: flex;align-items: stretch;justify-content: center;background-color: white;}#sk-e4815014-3afe-451b-bba9-f46cb12131ff div.sk-parallel::before {content: \"\";position: absolute;border-left: 1px solid gray;box-sizing: border-box;top: 2em;bottom: 0;left: 50%;}#sk-e4815014-3afe-451b-bba9-f46cb12131ff div.sk-parallel-item {display: flex;flex-direction: column;position: relative;background-color: white;}#sk-e4815014-3afe-451b-bba9-f46cb12131ff div.sk-parallel-item:first-child::after {align-self: flex-end;width: 50%;}#sk-e4815014-3afe-451b-bba9-f46cb12131ff div.sk-parallel-item:last-child::after {align-self: flex-start;width: 50%;}#sk-e4815014-3afe-451b-bba9-f46cb12131ff div.sk-parallel-item:only-child::after {width: 0;}#sk-e4815014-3afe-451b-bba9-f46cb12131ff div.sk-dashed-wrapped {border: 1px dashed gray;margin: 0 0.4em 0.5em 0.4em;box-sizing: border-box;padding-bottom: 0.4em;background-color: white;position: relative;}#sk-e4815014-3afe-451b-bba9-f46cb12131ff div.sk-label label {font-family: monospace;font-weight: bold;background-color: white;display: inline-block;line-height: 1.2em;}#sk-e4815014-3afe-451b-bba9-f46cb12131ff div.sk-label-container {position: relative;z-index: 2;text-align: center;}#sk-e4815014-3afe-451b-bba9-f46cb12131ff div.sk-container {/* jupyter's `normalize.less` sets `[hidden] { display: none; }` but bootstrap.min.css set `[hidden] { display: none !important; }` so we also need the `!important` here to be able to override the default hidden behavior on the sphinx rendered scikit-learn.org. See: https://github.com/scikit-learn/scikit-learn/issues/21755 */display: inline-block !important;position: relative;}#sk-e4815014-3afe-451b-bba9-f46cb12131ff div.sk-text-repr-fallback {display: none;}</style><div id=\"sk-e4815014-3afe-451b-bba9-f46cb12131ff\" class=\"sk-top-container\"><div class=\"sk-text-repr-fallback\"><pre>Pipeline(steps=[(&#x27;tfidf&#x27;,\n",
       "                 TfidfVectorizer(max_df=0.7, min_df=3, ngram_range=(1, 2),\n",
       "                                 sublinear_tf=True,\n",
       "                                 tokenizer=&lt;function tokenized at 0x0000023A14E28B80&gt;)),\n",
       "                (&#x27;norm&#x27;, Normalizer()),\n",
       "                (&#x27;model&#x27;,\n",
       "                 Perceptron(alpha=1e-06, fit_intercept=False, penalty=&#x27;l2&#x27;,\n",
       "                            shuffle=False))])</pre><b>Please rerun this cell to show the HTML repr or trust the notebook.</b></div><div class=\"sk-container\" hidden><div class=\"sk-item sk-dashed-wrapped\"><div class=\"sk-label-container\"><div class=\"sk-label sk-toggleable\"><input class=\"sk-toggleable__control sk-hidden--visually\" id=\"4a61c52c-3801-42b9-9e8e-717c362b56d7\" type=\"checkbox\" ><label for=\"4a61c52c-3801-42b9-9e8e-717c362b56d7\" class=\"sk-toggleable__label sk-toggleable__label-arrow\">Pipeline</label><div class=\"sk-toggleable__content\"><pre>Pipeline(steps=[(&#x27;tfidf&#x27;,\n",
       "                 TfidfVectorizer(max_df=0.7, min_df=3, ngram_range=(1, 2),\n",
       "                                 sublinear_tf=True,\n",
       "                                 tokenizer=&lt;function tokenized at 0x0000023A14E28B80&gt;)),\n",
       "                (&#x27;norm&#x27;, Normalizer()),\n",
       "                (&#x27;model&#x27;,\n",
       "                 Perceptron(alpha=1e-06, fit_intercept=False, penalty=&#x27;l2&#x27;,\n",
       "                            shuffle=False))])</pre></div></div></div><div class=\"sk-serial\"><div class=\"sk-item\"><div class=\"sk-estimator sk-toggleable\"><input class=\"sk-toggleable__control sk-hidden--visually\" id=\"9b93b160-1be1-4ddb-956b-d0ac88ca45f8\" type=\"checkbox\" ><label for=\"9b93b160-1be1-4ddb-956b-d0ac88ca45f8\" class=\"sk-toggleable__label sk-toggleable__label-arrow\">TfidfVectorizer</label><div class=\"sk-toggleable__content\"><pre>TfidfVectorizer(max_df=0.7, min_df=3, ngram_range=(1, 2), sublinear_tf=True,\n",
       "                tokenizer=&lt;function tokenized at 0x0000023A14E28B80&gt;)</pre></div></div></div><div class=\"sk-item\"><div class=\"sk-estimator sk-toggleable\"><input class=\"sk-toggleable__control sk-hidden--visually\" id=\"04352e65-8946-4992-b715-c8a88e915154\" type=\"checkbox\" ><label for=\"04352e65-8946-4992-b715-c8a88e915154\" class=\"sk-toggleable__label sk-toggleable__label-arrow\">Normalizer</label><div class=\"sk-toggleable__content\"><pre>Normalizer()</pre></div></div></div><div class=\"sk-item\"><div class=\"sk-estimator sk-toggleable\"><input class=\"sk-toggleable__control sk-hidden--visually\" id=\"4d1c1e4c-3ca6-476b-b837-21c15bd45b41\" type=\"checkbox\" ><label for=\"4d1c1e4c-3ca6-476b-b837-21c15bd45b41\" class=\"sk-toggleable__label sk-toggleable__label-arrow\">Perceptron</label><div class=\"sk-toggleable__content\"><pre>Perceptron(alpha=1e-06, fit_intercept=False, penalty=&#x27;l2&#x27;, shuffle=False)</pre></div></div></div></div></div></div></div>"
      ],
      "text/plain": [
       "Pipeline(steps=[('tfidf',\n",
       "                 TfidfVectorizer(max_df=0.7, min_df=3, ngram_range=(1, 2),\n",
       "                                 sublinear_tf=True,\n",
       "                                 tokenizer=<function tokenized at 0x0000023A14E28B80>)),\n",
       "                ('norm', Normalizer()),\n",
       "                ('model',\n",
       "                 Perceptron(alpha=1e-06, fit_intercept=False, penalty='l2',\n",
       "                            shuffle=False))])"
      ]
     },
     "execution_count": 63,
     "metadata": {},
     "output_type": "execute_result"
    },
    {
     "name": "stdout",
     "output_type": "stream",
     "text": [
      "Average F1 score: 0.7061831601923216\n"
     ]
    }
   ],
   "source": [
    "CountVectorizer_for_perceptron = Pipeline(\n",
    "    [\n",
    "        ('tfidf', TfidfVectorizer(tokenizer=tokenized, max_df=0.7, min_df=3, ngram_range=(1, 2), sublinear_tf=True)),\n",
    "        ('norm', preprocessing.Normalizer()),\n",
    "        ('model', Perceptron(alpha=1e-06, fit_intercept=False, penalty='l2', shuffle=False))\n",
    "    ]\n",
    ")\n",
    "\n",
    "CountVectorizer_for_perceptron.fit(X_train, y_train)\n",
    "f1_scores = cross_val_score(\n",
    "    CountVectorizer_for_perceptron, X_train, y_train, cv=10, scoring='f1_macro'\n",
    ")\n",
    "avg_f1_score = np.mean(f1_scores)\n",
    "print(\"Average F1 score:\", avg_f1_score)\n"
   ]
  },
  {
   "attachments": {
    "%D7%9C%D7%9C%D7%90%20%D7%A9%D7%9D.png": {
     "image/png": "[encoded data removed]"
    }
   },
   "cell_type": "markdown",
   "metadata": {},
   "source": [
    "![%D7%9C%D7%9C%D7%90%20%D7%A9%D7%9D.png](attachment:%D7%9C%D7%9C%D7%90%20%D7%A9%D7%9D.png)"
   ]
  },
  {
   "cell_type": "markdown",
   "metadata": {},
   "source": [
    "<div style=\"background-color: lightblue; padding: 10px;\"><font face=\"Fugaz One\" size=5 color='#FF0000'>As we can see<br/></font>   \n",
    "    <font face=\"Fugaz One\" size=3 color='#00000'>The Perceptron shows very consistent F1 scores all over the tests<br/></font>   \n",
    "    <font face=\"Fugaz One\" size=5 color='#00000'>Now we are going to implement it on the test data<br/></font>   \n",
    "</div>"
   ]
  },
  {
   "cell_type": "markdown",
   "metadata": {},
   "source": [
    "<div style=\"background-color: lightblue; padding: 10px;\"><font face=\"Fugaz One\" size=6 color='#00000'>Perceptron <br/></font>   \n",
    "    <font face=\"Fugaz One\" size=5 color='#00000'>Highest F1 score : 0.7368324272547824 😀💥🔥\n",
    "</div>"
   ]
  },
  {
   "cell_type": "code",
   "execution_count": 65,
   "metadata": {
    "scrolled": false
   },
   "outputs": [
    {
     "data": {
      "text/html": [
       "<div>\n",
       "<style scoped>\n",
       "    .dataframe tbody tr th:only-of-type {\n",
       "        vertical-align: middle;\n",
       "    }\n",
       "\n",
       "    .dataframe tbody tr th {\n",
       "        vertical-align: top;\n",
       "    }\n",
       "\n",
       "    .dataframe thead th {\n",
       "        text-align: right;\n",
       "    }\n",
       "</style>\n",
       "<table border=\"1\" class=\"dataframe\">\n",
       "  <thead>\n",
       "    <tr style=\"text-align: right;\">\n",
       "      <th></th>\n",
       "      <th>id_test</th>\n",
       "      <th>y_pred</th>\n",
       "    </tr>\n",
       "  </thead>\n",
       "  <tbody>\n",
       "    <tr>\n",
       "      <th>0</th>\n",
       "      <td>0</td>\n",
       "      <td>m</td>\n",
       "    </tr>\n",
       "    <tr>\n",
       "      <th>1</th>\n",
       "      <td>1</td>\n",
       "      <td>m</td>\n",
       "    </tr>\n",
       "    <tr>\n",
       "      <th>2</th>\n",
       "      <td>2</td>\n",
       "      <td>m</td>\n",
       "    </tr>\n",
       "    <tr>\n",
       "      <th>3</th>\n",
       "      <td>3</td>\n",
       "      <td>m</td>\n",
       "    </tr>\n",
       "    <tr>\n",
       "      <th>4</th>\n",
       "      <td>4</td>\n",
       "      <td>m</td>\n",
       "    </tr>\n",
       "  </tbody>\n",
       "</table>\n",
       "</div>"
      ],
      "text/plain": [
       "   id_test y_pred\n",
       "0        0      m\n",
       "1        1      m\n",
       "2        2      m\n",
       "3        3      m\n",
       "4        4      m"
      ]
     },
     "execution_count": 65,
     "metadata": {},
     "output_type": "execute_result"
    },
    {
     "data": {
      "text/html": [
       "<div>\n",
       "<style scoped>\n",
       "    .dataframe tbody tr th:only-of-type {\n",
       "        vertical-align: middle;\n",
       "    }\n",
       "\n",
       "    .dataframe tbody tr th {\n",
       "        vertical-align: top;\n",
       "    }\n",
       "\n",
       "    .dataframe thead th {\n",
       "        text-align: right;\n",
       "    }\n",
       "</style>\n",
       "<table border=\"1\" class=\"dataframe\">\n",
       "  <thead>\n",
       "    <tr style=\"text-align: right;\">\n",
       "      <th></th>\n",
       "      <th>id_test</th>\n",
       "      <th>y_pred</th>\n",
       "    </tr>\n",
       "  </thead>\n",
       "  <tbody>\n",
       "    <tr>\n",
       "      <th>318</th>\n",
       "      <td>318</td>\n",
       "      <td>m</td>\n",
       "    </tr>\n",
       "    <tr>\n",
       "      <th>319</th>\n",
       "      <td>319</td>\n",
       "      <td>m</td>\n",
       "    </tr>\n",
       "    <tr>\n",
       "      <th>320</th>\n",
       "      <td>320</td>\n",
       "      <td>m</td>\n",
       "    </tr>\n",
       "    <tr>\n",
       "      <th>321</th>\n",
       "      <td>321</td>\n",
       "      <td>m</td>\n",
       "    </tr>\n",
       "    <tr>\n",
       "      <th>322</th>\n",
       "      <td>322</td>\n",
       "      <td>m</td>\n",
       "    </tr>\n",
       "  </tbody>\n",
       "</table>\n",
       "</div>"
      ],
      "text/plain": [
       "     id_test y_pred\n",
       "318      318      m\n",
       "319      319      m\n",
       "320      320      m\n",
       "321      321      m\n",
       "322      322      m"
      ]
     },
     "execution_count": 65,
     "metadata": {},
     "output_type": "execute_result"
    }
   ],
   "source": [
    "y_pred = tfidf_for_perceptron.predict(df_test[\"story\"])\n",
    "y_pred = np.where(y_pred == 1, 'm', 'f')\n",
    "pd.DataFrame({'id_test': df_test[\"test_example_id\"], 'y_pred': y_pred}).head(5)\n",
    "pd.DataFrame({'id_test': df_test[\"test_example_id\"], 'y_pred': y_pred}).tail(5)"
   ]
  },
  {
   "cell_type": "markdown",
   "metadata": {},
   "source": [
    "<div style=\"background-color: lightblue; padding: 10px;\"><font face=\"Fugaz One\" size=5 color='#FF0000'>Saving to Data Frame<br/></font>    \n",
    "</div>"
   ]
  },
  {
   "cell_type": "code",
   "execution_count": 74,
   "metadata": {},
   "outputs": [
    {
     "data": {
      "text/html": [
       "<div>\n",
       "<style scoped>\n",
       "    .dataframe tbody tr th:only-of-type {\n",
       "        vertical-align: middle;\n",
       "    }\n",
       "\n",
       "    .dataframe tbody tr th {\n",
       "        vertical-align: top;\n",
       "    }\n",
       "\n",
       "    .dataframe thead th {\n",
       "        text-align: right;\n",
       "    }\n",
       "</style>\n",
       "<table border=\"1\" class=\"dataframe\">\n",
       "  <thead>\n",
       "    <tr style=\"text-align: right;\">\n",
       "      <th></th>\n",
       "      <th>test_example_id</th>\n",
       "      <th>predicted_category</th>\n",
       "    </tr>\n",
       "  </thead>\n",
       "  <tbody>\n",
       "    <tr>\n",
       "      <th>0</th>\n",
       "      <td>0</td>\n",
       "      <td>m</td>\n",
       "    </tr>\n",
       "    <tr>\n",
       "      <th>1</th>\n",
       "      <td>1</td>\n",
       "      <td>m</td>\n",
       "    </tr>\n",
       "    <tr>\n",
       "      <th>2</th>\n",
       "      <td>2</td>\n",
       "      <td>m</td>\n",
       "    </tr>\n",
       "    <tr>\n",
       "      <th>3</th>\n",
       "      <td>3</td>\n",
       "      <td>m</td>\n",
       "    </tr>\n",
       "    <tr>\n",
       "      <th>4</th>\n",
       "      <td>4</td>\n",
       "      <td>m</td>\n",
       "    </tr>\n",
       "    <tr>\n",
       "      <th>...</th>\n",
       "      <td>...</td>\n",
       "      <td>...</td>\n",
       "    </tr>\n",
       "    <tr>\n",
       "      <th>318</th>\n",
       "      <td>318</td>\n",
       "      <td>m</td>\n",
       "    </tr>\n",
       "    <tr>\n",
       "      <th>319</th>\n",
       "      <td>319</td>\n",
       "      <td>m</td>\n",
       "    </tr>\n",
       "    <tr>\n",
       "      <th>320</th>\n",
       "      <td>320</td>\n",
       "      <td>m</td>\n",
       "    </tr>\n",
       "    <tr>\n",
       "      <th>321</th>\n",
       "      <td>321</td>\n",
       "      <td>m</td>\n",
       "    </tr>\n",
       "    <tr>\n",
       "      <th>322</th>\n",
       "      <td>322</td>\n",
       "      <td>m</td>\n",
       "    </tr>\n",
       "  </tbody>\n",
       "</table>\n",
       "<p>323 rows × 2 columns</p>\n",
       "</div>"
      ],
      "text/plain": [
       "     test_example_id predicted_category\n",
       "0                  0                  m\n",
       "1                  1                  m\n",
       "2                  2                  m\n",
       "3                  3                  m\n",
       "4                  4                  m\n",
       "..               ...                ...\n",
       "318              318                  m\n",
       "319              319                  m\n",
       "320              320                  m\n",
       "321              321                  m\n",
       "322              322                  m\n",
       "\n",
       "[323 rows x 2 columns]"
      ]
     },
     "execution_count": 74,
     "metadata": {},
     "output_type": "execute_result"
    }
   ],
   "source": [
    "df_predicted = pd.DataFrame(\n",
    "    {'test_example_id': df_test['test_example_id'], 'predicted_category': y_pred})\n",
    "df_predicted"
   ]
  },
  {
   "cell_type": "code",
   "execution_count": 75,
   "metadata": {},
   "outputs": [],
   "source": [
    "df_predicted.to_csv('classification_results.csv',index=False)"
   ]
  }
 ],
 "metadata": {
  "celltoolbar": "Create Assignment",
  "kernelspec": {
   "display_name": "Python 3 (ipykernel)",
   "language": "python",
   "name": "python3"
  },
  "language_info": {
   "codemirror_mode": {
    "name": "ipython",
    "version": 3
   },
   "file_extension": ".py",
   "mimetype": "text/x-python",
   "name": "python",
   "nbconvert_exporter": "python",
   "pygments_lexer": "ipython3",
   "version": "3.9.12"
  }
 },
 "nbformat": 4,
 "nbformat_minor": 4
}
